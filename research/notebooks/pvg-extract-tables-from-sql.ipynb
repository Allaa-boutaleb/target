{
 "cells": [
  {
   "cell_type": "markdown",
   "source": [
    "Uses [sqlglot](https://github.com/tobymao/sqlglot) to extract all tables referenced in a given SQL query.\n",
    "Adds these tables as a List[str] feature in the `table_id` column of the spider and bird datasets."
   ],
   "metadata": {
    "collapsed": false
   },
   "id": "a82e3e90f0ac55dd"
  },
  {
   "cell_type": "code",
   "execution_count": 1,
   "outputs": [
    {
     "name": "stdout",
     "output_type": "stream",
     "text": [
      "Requirement already satisfied: sqlglot in /Users/parkerglenn/opt/miniconda3/envs/target/lib/python3.10/site-packages (25.30.0)\r\n"
     ]
    }
   ],
   "source": [
    "!pip install sqlglot"
   ],
   "metadata": {
    "collapsed": false,
    "ExecuteTime": {
     "end_time": "2024-11-13T23:15:05.685782Z",
     "start_time": "2024-11-13T23:15:03.796738Z"
    }
   },
   "id": "e24b3a8a795fb97d"
  },
  {
   "cell_type": "code",
   "execution_count": 2,
   "outputs": [],
   "source": [
    "from typing import List, Dict, Literal\n",
    "import datasets\n",
    "from tqdm.notebook import tqdm\n",
    "from sqlglot import parse_one, exp\n",
    "from sqlglot.optimizer.scope import build_scope"
   ],
   "metadata": {
    "collapsed": false,
    "ExecuteTime": {
     "end_time": "2024-11-13T23:15:14.083653Z",
     "start_time": "2024-11-13T23:15:06.448720Z"
    }
   },
   "id": "initial_id"
  },
  {
   "cell_type": "code",
   "execution_count": 3,
   "outputs": [],
   "source": [
    "def get_tables(sql: str) -> List[str]:\n",
    "    # https://github.com/tobymao/sqlglot/blob/main/posts/ast_primer.md\n",
    "    ast = parse_one(sql)\n",
    "    root = build_scope(ast)\n",
    "    table_nodes: List[exp.Table] = [source for scope in root.traverse() for alias, (node, source) in scope.selected_sources.items() if isinstance(source, exp.Table)]\n",
    "    return [n.name for n in table_nodes]"
   ],
   "metadata": {
    "collapsed": false,
    "ExecuteTime": {
     "end_time": "2024-11-13T23:15:14.086195Z",
     "start_time": "2024-11-13T23:15:14.082352Z"
    }
   },
   "id": "52265b56bd0f2c48"
  },
  {
   "cell_type": "code",
   "execution_count": 4,
   "outputs": [
    {
     "data": {
      "text/plain": "spider - train...:   0%|          | 0/6997 [00:00<?, ?it/s]",
      "application/vnd.jupyter.widget-view+json": {
       "version_major": 2,
       "version_minor": 0,
       "model_id": "8c0c7683c85946aeb41424cc8063efda"
      }
     },
     "metadata": {},
     "output_type": "display_data"
    },
    {
     "data": {
      "text/plain": "spider - test...:   0%|          | 0/2147 [00:00<?, ?it/s]",
      "application/vnd.jupyter.widget-view+json": {
       "version_major": 2,
       "version_minor": 0,
       "model_id": "1227251d6c6144369d636480442394d9"
      }
     },
     "metadata": {},
     "output_type": "display_data"
    },
    {
     "data": {
      "text/plain": "spider - validation...:   0%|          | 0/1034 [00:00<?, ?it/s]",
      "application/vnd.jupyter.widget-view+json": {
       "version_major": 2,
       "version_minor": 0,
       "model_id": "ed4f9f068f2a47b5a26254ab9dbe2c7b"
      }
     },
     "metadata": {},
     "output_type": "display_data"
    },
    {
     "data": {
      "text/plain": "bird - train...:   0%|          | 0/6997 [00:00<?, ?it/s]",
      "application/vnd.jupyter.widget-view+json": {
       "version_major": 2,
       "version_minor": 0,
       "model_id": "ef0bc418d2a846d18e271f0723e1483e"
      }
     },
     "metadata": {},
     "output_type": "display_data"
    },
    {
     "data": {
      "text/plain": "bird - test...:   0%|          | 0/2147 [00:00<?, ?it/s]",
      "application/vnd.jupyter.widget-view+json": {
       "version_major": 2,
       "version_minor": 0,
       "model_id": "483429431d324a96a1ff588d26bed76d"
      }
     },
     "metadata": {},
     "output_type": "display_data"
    },
    {
     "data": {
      "text/plain": "bird - validation...:   0%|          | 0/1034 [00:00<?, ?it/s]",
      "application/vnd.jupyter.widget-view+json": {
       "version_major": 2,
       "version_minor": 0,
       "model_id": "3250f3895d064d0c8e18d0679e750301"
      }
     },
     "metadata": {},
     "output_type": "display_data"
    }
   ],
   "source": [
    "task_to_split_to_processed_dataset: Dict[str, Dict[Literal['train', 'test', 'validation'], datasets.Dataset]] = {}\n",
    "for task in [\"spider\", \"bird\"]:\n",
    "    task_to_split_to_processed_dataset[task] = {}\n",
    "    for split in [\"train\", \"test\", \"validation\"]:\n",
    "        dataset = datasets.load_dataset(f\"target-benchmark/spider-queries-{split}\")[split]\n",
    "        all_table_names = []\n",
    "        for idx, item in enumerate(tqdm(dataset, total=len(dataset), desc=f\"{task} - {split}...\")):\n",
    "            table_names = get_tables(item['answer'])\n",
    "            if len(table_names) == 0:\n",
    "                print(split)\n",
    "                print(idx)\n",
    "                print(item['answer'])\n",
    "                raise ValueError\n",
    "            all_table_names.append(table_names)\n",
    "        # Remove, then add `table_id`\n",
    "        # This will be of type datasets.Sequence(datasets.Value(\"string\")\n",
    "        dataset = dataset.remove_columns(\"table_id\")\n",
    "        dataset = dataset.add_column(\n",
    "            name=\"table_id\",\n",
    "            column=all_table_names,\n",
    "        )\n",
    "        task_to_split_to_processed_dataset[task][split] = dataset"
   ],
   "metadata": {
    "collapsed": false,
    "ExecuteTime": {
     "end_time": "2024-11-13T23:15:30.810787Z",
     "start_time": "2024-11-13T23:15:14.088166Z"
    }
   },
   "id": "5234c5f99a646961"
  },
  {
   "cell_type": "code",
   "execution_count": 6,
   "outputs": [
    {
     "data": {
      "text/plain": "Creating CSV from Arrow format:   0%|          | 0/7 [00:00<?, ?ba/s]",
      "application/vnd.jupyter.widget-view+json": {
       "version_major": 2,
       "version_minor": 0,
       "model_id": "4194428951124e65ba53bb174ceb2814"
      }
     },
     "metadata": {},
     "output_type": "display_data"
    },
    {
     "data": {
      "text/plain": "Creating CSV from Arrow format:   0%|          | 0/3 [00:00<?, ?ba/s]",
      "application/vnd.jupyter.widget-view+json": {
       "version_major": 2,
       "version_minor": 0,
       "model_id": "76721e277e4c4abcbe9cdc047f798bbf"
      }
     },
     "metadata": {},
     "output_type": "display_data"
    },
    {
     "data": {
      "text/plain": "Creating CSV from Arrow format:   0%|          | 0/2 [00:00<?, ?ba/s]",
      "application/vnd.jupyter.widget-view+json": {
       "version_major": 2,
       "version_minor": 0,
       "model_id": "434a7dc48fa34d60876f3810e98bff1b"
      }
     },
     "metadata": {},
     "output_type": "display_data"
    },
    {
     "data": {
      "text/plain": "Creating CSV from Arrow format:   0%|          | 0/7 [00:00<?, ?ba/s]",
      "application/vnd.jupyter.widget-view+json": {
       "version_major": 2,
       "version_minor": 0,
       "model_id": "c1dee5117ae94959bb1f8c05374448a4"
      }
     },
     "metadata": {},
     "output_type": "display_data"
    },
    {
     "data": {
      "text/plain": "Creating CSV from Arrow format:   0%|          | 0/3 [00:00<?, ?ba/s]",
      "application/vnd.jupyter.widget-view+json": {
       "version_major": 2,
       "version_minor": 0,
       "model_id": "c0a3f27cc1b24e24af34f1ed68eeaeb8"
      }
     },
     "metadata": {},
     "output_type": "display_data"
    },
    {
     "data": {
      "text/plain": "Creating CSV from Arrow format:   0%|          | 0/2 [00:00<?, ?ba/s]",
      "application/vnd.jupyter.widget-view+json": {
       "version_major": 2,
       "version_minor": 0,
       "model_id": "177cd810055d41bdba850343739925b2"
      }
     },
     "metadata": {},
     "output_type": "display_data"
    }
   ],
   "source": [
    "# Save to csv files\n",
    "for task, split_to_dataset in task_to_split_to_processed_dataset.items():\n",
    "    for split, dataset in split_to_dataset.items():\n",
    "        dataset.to_csv(f\"{task}-queries-{split}-with-table-id.csv\")"
   ],
   "metadata": {
    "collapsed": false,
    "ExecuteTime": {
     "end_time": "2024-11-13T23:17:57.421203Z",
     "start_time": "2024-11-13T23:17:56.937678Z"
    }
   },
   "id": "e4570850a11f6e8b"
  },
  {
   "cell_type": "code",
   "execution_count": null,
   "outputs": [],
   "source": [],
   "metadata": {
    "collapsed": false
   },
   "id": "200f6cbeba3163f7"
  }
 ],
 "metadata": {
  "kernelspec": {
   "name": "blendsql-formatron",
   "language": "python",
   "display_name": "blendsql-formatron"
  },
  "language_info": {
   "codemirror_mode": {
    "name": "ipython",
    "version": 2
   },
   "file_extension": ".py",
   "mimetype": "text/x-python",
   "name": "python",
   "nbconvert_exporter": "python",
   "pygments_lexer": "ipython2",
   "version": "2.7.6"
  }
 },
 "nbformat": 4,
 "nbformat_minor": 5
}
