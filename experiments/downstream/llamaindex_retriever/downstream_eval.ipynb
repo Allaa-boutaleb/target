{
 "cells": [
  {
   "cell_type": "code",
   "execution_count": 2,
   "metadata": {},
   "outputs": [
    {
     "name": "stderr",
     "output_type": "stream",
     "text": [
      "2024-09-19 02:31:55.174830: I external/local_tsl/tsl/cuda/cudart_stub.cc:32] Could not find cuda drivers on your machine, GPU will not be used.\n",
      "2024-09-19 02:31:55.178604: I external/local_tsl/tsl/cuda/cudart_stub.cc:32] Could not find cuda drivers on your machine, GPU will not be used.\n",
      "2024-09-19 02:31:55.231025: I tensorflow/core/platform/cpu_feature_guard.cc:210] This TensorFlow binary is optimized to use available CPU instructions in performance-critical operations.\n",
      "To enable the following instructions: AVX2 FMA, in other operations, rebuild TensorFlow with the appropriate compiler flags.\n",
      "2024-09-19 02:31:56.384079: W tensorflow/compiler/tf2tensorrt/utils/py_utils.cc:38] TF-TRT Warning: Could not find TensorRT\n"
     ]
    }
   ],
   "source": [
    "from target_benchmark.evaluators import TARGET, get_task_names\n",
    "target_fetaqa = TARGET((\"Table Question Answering Task\", \"fetaqa\"))\n",
    "target_ottqa = TARGET((\"Table Question Answering Task\", \"ottqa\"))\n",
    "target_tabfact = TARGET((\"Fact Verification Task\", \"tabfact\"))\n",
    "target_spider = TARGET((\"Text to SQL Task\", \"spider-test\"))\n",
    "target_bird = TARGET((\"Text to SQL Task\", \"bird-validation\"))\n",
    "from pathlib import Path\n",
    "retrieval_result_files_dir = Path(\"/home/jixy2012/carl/target/experiments/retrieval\")\n",
    "\n",
    "from target_benchmark.retrievers import LlamaIndexRetriever\n",
    "llamaindex_retriever = LlamaIndexRetriever()"
   ]
  },
  {
   "cell_type": "code",
   "execution_count": 2,
   "metadata": {},
   "outputs": [
    {
     "name": "stderr",
     "output_type": "stream",
     "text": [
      "Getting downstream task results...: 100%|██████████| 2003/2003 [29:30<00:00,  1.13it/s] \n",
      "INFO:target_benchmark.evaluators.TARGET:finished running downstream eval on fetaqa\n"
     ]
    }
   ],
   "source": [
    "llamaindex_retriever_fetaqa_test_retrieval_result = retrieval_result_files_dir / \"llamaindex\" / \"fetaqa_10.jsonl\"\n",
    "llamaindex_results_fetaqa_test = target_fetaqa.evaluate_downstream_task(str(llamaindex_retriever_fetaqa_test_retrieval_result), \"Table Question Answering Task\", \"test\", \"./llamaindex_fetaqa_downstream_results.jsonl\")"
   ]
  },
  {
   "cell_type": "code",
   "execution_count": 3,
   "metadata": {},
   "outputs": [
    {
     "data": {
      "text/plain": [
       "{'fetaqa': TableQATaskPerformanceDataModel(task_name='Table Question Answering Task', scores={'bleu': {'bleu': 0.13745402870260948, 'precisions': [0.33515896643410675, 0.17076190476190475, 0.1102832712453434, 0.07372216665789336], 'brevity_penalty': 0.9358798192497501, 'length_ratio': 0.9378503378162365, 'translation_length': 44003, 'reference_length': 46919}, 'sacrebleu': {'score': 13.745402870260946, 'counts': [14748, 7172, 4411, 2801], 'totals': [44003, 42000, 39997, 37994], 'precisions': [33.51589664341068, 17.076190476190476, 11.02832712453434, 7.3722166657893355], 'bp': 0.9358798192497501, 'sys_len': 44003, 'ref_len': 46919}, 'rouge': {'rouge1': 0.2653319204739274, 'rouge2': 0.16038209363746705, 'rougeL': 0.21722522261615168, 'rougeLsum': 0.21851347257170434}})}"
      ]
     },
     "execution_count": 3,
     "metadata": {},
     "output_type": "execute_result"
    }
   ],
   "source": [
    "llamaindex_results_fetaqa_test"
   ]
  },
  {
   "cell_type": "code",
   "execution_count": 3,
   "metadata": {},
   "outputs": [
    {
     "name": "stdout",
     "output_type": "stream",
     "text": [
      "['ottqa']\n"
     ]
    },
    {
     "name": "stderr",
     "output_type": "stream",
     "text": [
      "Getting downstream task results...: 100%|██████████| 2214/2214 [33:57<00:00,  1.09it/s]  \n",
      "INFO:target_benchmark.evaluators.TARGET:finished running downstream eval on ottqa\n"
     ]
    }
   ],
   "source": [
    "llamaindex_retriever_ottqa_val_retrieval_result = retrieval_result_files_dir / \"llamaindex\" / \"ottqa_10.jsonl\"\n",
    "llamaindex_results_ottqa_val = target_ottqa.evaluate_downstream_task(str(llamaindex_retriever_ottqa_val_retrieval_result), \"Table Question Answering Task\", \"validation\", \"./llamaindex_ottqa_downstream_results.jsonl\")"
   ]
  },
  {
   "cell_type": "code",
   "execution_count": 4,
   "metadata": {},
   "outputs": [
    {
     "data": {
      "text/plain": [
       "{'ottqa': TableQATaskPerformanceDataModel(task_name='Table Question Answering Task', scores={'bleu': {'bleu': 0.005068835438732017, 'precisions': [0.020389572113710043, 0.007861008259755055, 0.0030093014772934524, 0.0013686131386861315], 'brevity_penalty': 1.0, 'length_ratio': 7.578274111675127, 'translation_length': 37323, 'reference_length': 4925}, 'rouge': {'rouge1': 0.025252249396383982, 'rouge2': 0.010206847408126872, 'rougeL': 0.024827198369907814, 'rougeLsum': 0.024811533658032018}, 'sacrebleu': {'score': 0.5068835438732016, 'counts': [761, 276, 99, 42], 'totals': [37323, 35110, 32898, 30688], 'precisions': [2.0389572113710046, 0.7861008259755056, 0.30093014772934523, 0.13686131386861314], 'bp': 1.0, 'sys_len': 37323, 'ref_len': 4925}})}"
      ]
     },
     "execution_count": 4,
     "metadata": {},
     "output_type": "execute_result"
    }
   ],
   "source": [
    "llamaindex_results_ottqa_val"
   ]
  },
  {
   "cell_type": "code",
   "execution_count": null,
   "metadata": {},
   "outputs": [],
   "source": [
    "llamaindex_retriever_ottqa_val_retrieval_result = retrieval_result_files_dir / \"llamaindex\" / \"ottqa_10.jsonl\"\n",
    "llamaindex_results_ottqa_val = target_ottqa.evaluate_downstream_task(str(llamaindex_retriever_ottqa_val_retrieval_result), \"Table Question Answering Task\", \"validation\", \"./llamaindex_ottqa_downstream_results.jsonl\")"
   ]
  },
  {
   "cell_type": "code",
   "execution_count": 5,
   "metadata": {},
   "outputs": [
    {
     "name": "stdout",
     "output_type": "stream",
     "text": [
      "['bird-validation']\n"
     ]
    },
    {
     "data": {
      "application/vnd.jupyter.widget-view+json": {
       "model_id": "9bb6a0a2c1ad48749c2ff20aed6cb126",
       "version_major": 2,
       "version_minor": 0
      },
      "text/plain": [
       "Fetching 104 files:   0%|          | 0/104 [00:00<?, ?it/s]"
      ]
     },
     "metadata": {},
     "output_type": "display_data"
    },
    {
     "name": "stderr",
     "output_type": "stream",
     "text": [
      "Getting downstream task results...: 100%|██████████| 1534/1534 [1:50:19<00:00,  4.32s/it] \n"
     ]
    },
    {
     "ename": "UnboundLocalError",
     "evalue": "cannot access local variable 'sql_execution_res' where it is not associated with a value",
     "output_type": "error",
     "traceback": [
      "\u001b[0;31m---------------------------------------------------------------------------\u001b[0m",
      "\u001b[0;31mRemoteTraceback\u001b[0m                           Traceback (most recent call last)",
      "\u001b[0;31mRemoteTraceback\u001b[0m: \n\"\"\"\nTraceback (most recent call last):\n  File \"/home/jixy2012/miniconda3/envs/target/lib/python3.12/multiprocessing/pool.py\", line 125, in worker\n    result = (True, func(*args, **kwds))\n                    ^^^^^^^^^^^^^^^^^^^\n  File \"/home/jixy2012/carl/target/target_benchmark/tasks/utils.py\", line 107, in execute_model\n    time_ratio = 0\n                   \nUnboundLocalError: cannot access local variable 'sql_execution_res' where it is not associated with a value\n\"\"\"",
      "\nThe above exception was the direct cause of the following exception:\n",
      "\u001b[0;31mUnboundLocalError\u001b[0m                         Traceback (most recent call last)",
      "Cell \u001b[0;32mIn[5], line 2\u001b[0m\n\u001b[1;32m      1\u001b[0m llamaindex_retriever_bird_val_retrieval_result \u001b[38;5;241m=\u001b[39m retrieval_result_files_dir \u001b[38;5;241m/\u001b[39m \u001b[38;5;124m\"\u001b[39m\u001b[38;5;124mllamaindex\u001b[39m\u001b[38;5;124m\"\u001b[39m \u001b[38;5;241m/\u001b[39m \u001b[38;5;124m\"\u001b[39m\u001b[38;5;124mbird_1.jsonl\u001b[39m\u001b[38;5;124m\"\u001b[39m\n\u001b[0;32m----> 2\u001b[0m llamaindex_results_bird_val \u001b[38;5;241m=\u001b[39m \u001b[43mtarget_bird\u001b[49m\u001b[38;5;241;43m.\u001b[39;49m\u001b[43mevaluate_downstream_task\u001b[49m\u001b[43m(\u001b[49m\u001b[38;5;28;43mstr\u001b[39;49m\u001b[43m(\u001b[49m\u001b[43mllamaindex_retriever_bird_val_retrieval_result\u001b[49m\u001b[43m)\u001b[49m\u001b[43m,\u001b[49m\u001b[43m \u001b[49m\u001b[38;5;124;43m\"\u001b[39;49m\u001b[38;5;124;43mText to SQL Task\u001b[39;49m\u001b[38;5;124;43m\"\u001b[39;49m\u001b[43m,\u001b[49m\u001b[43m \u001b[49m\u001b[38;5;124;43m\"\u001b[39;49m\u001b[38;5;124;43mvalidation\u001b[39;49m\u001b[38;5;124;43m\"\u001b[39;49m\u001b[43m,\u001b[49m\u001b[43m \u001b[49m\u001b[38;5;124;43m\"\u001b[39;49m\u001b[38;5;124;43m./llamaindex_bird_downstream_results.jsonl\u001b[39;49m\u001b[38;5;124;43m\"\u001b[39;49m\u001b[43m)\u001b[49m\n",
      "File \u001b[0;32m~/carl/target/target_benchmark/evaluators/TARGET.py:588\u001b[0m, in \u001b[0;36mTARGET.evaluate_downstream_task\u001b[0;34m(self, retrieval_results_file, downstream_task_name, split, downstream_results_file)\u001b[0m\n\u001b[1;32m    580\u001b[0m dataloaders_for_task \u001b[38;5;241m=\u001b[39m \u001b[38;5;28mself\u001b[39m\u001b[38;5;241m.\u001b[39m_load_datasets_for_task(\n\u001b[1;32m    581\u001b[0m     dataset_names\u001b[38;5;241m=\u001b[39mdataset_names, task\u001b[38;5;241m=\u001b[39mtask_to_run\n\u001b[1;32m    582\u001b[0m )\n\u001b[1;32m    584\u001b[0m path_to_downstream_results \u001b[38;5;241m=\u001b[39m \u001b[38;5;28mself\u001b[39m\u001b[38;5;241m.\u001b[39m_create_persistence_file(\n\u001b[1;32m    585\u001b[0m     downstream_results_file\n\u001b[1;32m    586\u001b[0m )\n\u001b[0;32m--> 588\u001b[0m \u001b[38;5;28;01mreturn\u001b[39;00m \u001b[43mtask_to_run\u001b[49m\u001b[38;5;241;43m.\u001b[39;49m\u001b[43mevaluate_downstream\u001b[49m\u001b[43m(\u001b[49m\n\u001b[1;32m    589\u001b[0m \u001b[43m    \u001b[49m\u001b[38;5;28;43mself\u001b[39;49m\u001b[38;5;241;43m.\u001b[39;49m\u001b[43mlogger\u001b[49m\u001b[43m,\u001b[49m\n\u001b[1;32m    590\u001b[0m \u001b[43m    \u001b[49m\u001b[43mdataloaders_for_task\u001b[49m\u001b[43m,\u001b[49m\n\u001b[1;32m    591\u001b[0m \u001b[43m    \u001b[49m\u001b[43mretrieval_results\u001b[49m\u001b[43m,\u001b[49m\n\u001b[1;32m    592\u001b[0m \u001b[43m    \u001b[49m\u001b[43mpath_to_downstream_results\u001b[49m\u001b[43m,\u001b[49m\n\u001b[1;32m    593\u001b[0m \u001b[43m\u001b[49m\u001b[43m)\u001b[49m\n",
      "File \u001b[0;32m~/carl/target/target_benchmark/tasks/AbsTask.py:291\u001b[0m, in \u001b[0;36mAbsTask.evaluate_downstream\u001b[0;34m(self, logger, dataset_loaders, retrieval_results, path_to_downstream_results, **kwargs)\u001b[0m\n\u001b[1;32m    289\u001b[0m     \u001b[38;5;28mself\u001b[39m\u001b[38;5;241m.\u001b[39m_update_downstream_task_metrics(query_batch, downstream_results)\n\u001b[1;32m    290\u001b[0m     idx \u001b[38;5;241m+\u001b[39m\u001b[38;5;241m=\u001b[39m \u001b[38;5;241m1\u001b[39m\n\u001b[0;32m--> 291\u001b[0m performance \u001b[38;5;241m=\u001b[39m \u001b[38;5;28;43mself\u001b[39;49m\u001b[38;5;241;43m.\u001b[39;49m\u001b[43m_calculate_downstream_task_performance\u001b[49m\u001b[43m(\u001b[49m\u001b[38;5;241;43m*\u001b[39;49m\u001b[38;5;241;43m*\u001b[39;49m\u001b[43mkwargs\u001b[49m\u001b[43m)\u001b[49m\n\u001b[1;32m    292\u001b[0m task_results[dataset_name] \u001b[38;5;241m=\u001b[39m performance\n\u001b[1;32m    293\u001b[0m logger\u001b[38;5;241m.\u001b[39minfo(\u001b[38;5;124mf\u001b[39m\u001b[38;5;124m\"\u001b[39m\u001b[38;5;124mfinished running downstream eval on \u001b[39m\u001b[38;5;132;01m{\u001b[39;00mdataset_name\u001b[38;5;132;01m}\u001b[39;00m\u001b[38;5;124m\"\u001b[39m)\n",
      "File \u001b[0;32m~/carl/target/target_benchmark/tasks/Text2SQLTask.py:187\u001b[0m, in \u001b[0;36mText2SQLTask._calculate_downstream_task_performance\u001b[0;34m(self, **kwargs)\u001b[0m\n\u001b[1;32m    181\u001b[0m     \u001b[38;5;28;01mraise\u001b[39;00m \u001b[38;5;167;01mValueError\u001b[39;00m(\n\u001b[1;32m    182\u001b[0m         \u001b[38;5;124mf\u001b[39m\u001b[38;5;124m\"\u001b[39m\u001b[38;5;132;01m{\u001b[39;00m\u001b[38;5;28mself\u001b[39m\u001b[38;5;241m.\u001b[39mcurrent_dataset\u001b[38;5;132;01m}\u001b[39;00m\u001b[38;5;124m does not have path to database files.\u001b[39m\u001b[38;5;124m\"\u001b[39m\n\u001b[1;32m    183\u001b[0m     )\n\u001b[1;32m    184\u001b[0m db_path \u001b[38;5;241m=\u001b[39m \u001b[38;5;28mself\u001b[39m\u001b[38;5;241m.\u001b[39mdatabase_dirs[\u001b[38;5;28mself\u001b[39m\u001b[38;5;241m.\u001b[39mcurrent_dataset]\n\u001b[1;32m    186\u001b[0m result \u001b[38;5;241m=\u001b[39m Text2SQLTaskPerformanceDataModel(\n\u001b[0;32m--> 187\u001b[0m     scores\u001b[38;5;241m=\u001b[39m\u001b[43mevaluate_sql_execution\u001b[49m\u001b[43m(\u001b[49m\n\u001b[1;32m    188\u001b[0m \u001b[43m        \u001b[49m\u001b[38;5;28;43mself\u001b[39;49m\u001b[38;5;241;43m.\u001b[39;49m\u001b[43mpred_sql\u001b[49m\u001b[43m,\u001b[49m\n\u001b[1;32m    189\u001b[0m \u001b[43m        \u001b[49m\u001b[38;5;28;43mself\u001b[39;49m\u001b[38;5;241;43m.\u001b[39;49m\u001b[43mref_sql\u001b[49m\u001b[43m,\u001b[49m\n\u001b[1;32m    190\u001b[0m \u001b[43m        \u001b[49m\u001b[38;5;28;43mself\u001b[39;49m\u001b[38;5;241;43m.\u001b[39;49m\u001b[43mdifficulties\u001b[49m\u001b[43m,\u001b[49m\n\u001b[1;32m    191\u001b[0m \u001b[43m        \u001b[49m\u001b[43mdb_path\u001b[49m\u001b[43m,\u001b[49m\n\u001b[1;32m    192\u001b[0m \u001b[43m        \u001b[49m\u001b[38;5;241;43m1\u001b[39;49m\u001b[43m,\u001b[49m\n\u001b[1;32m    193\u001b[0m \u001b[43m        \u001b[49m\u001b[38;5;241;43m60\u001b[39;49m\u001b[43m,\u001b[49m\n\u001b[1;32m    194\u001b[0m \u001b[43m        \u001b[49m\u001b[38;5;28;43mself\u001b[39;49m\u001b[38;5;241;43m.\u001b[39;49m\u001b[43minclude_ves\u001b[49m\u001b[43m,\u001b[49m\n\u001b[1;32m    195\u001b[0m \u001b[43m    \u001b[49m\u001b[43m)\u001b[49m\n\u001b[1;32m    196\u001b[0m )\n\u001b[1;32m    198\u001b[0m \u001b[38;5;28mself\u001b[39m\u001b[38;5;241m.\u001b[39mpred_sql \u001b[38;5;241m=\u001b[39m []\n\u001b[1;32m    199\u001b[0m \u001b[38;5;28mself\u001b[39m\u001b[38;5;241m.\u001b[39mref_sql \u001b[38;5;241m=\u001b[39m []\n",
      "File \u001b[0;32m~/carl/target/target_benchmark/tasks/utils.py:202\u001b[0m, in \u001b[0;36mevaluate_sql_execution\u001b[0;34m(predicted_sqls, ground_truth_sqls, difficulties, db_root_path, num_cpus, meta_time_out, include_ves)\u001b[0m\n\u001b[1;32m    194\u001b[0m         performance_by_difficulty[difficulty] \u001b[38;5;241m=\u001b[39m performances\n\u001b[1;32m    196\u001b[0m     \u001b[38;5;28;01mreturn\u001b[39;00m performance_by_difficulty\n\u001b[1;32m    199\u001b[0m \u001b[38;5;28;01mdef\u001b[39;00m \u001b[38;5;21mevaluate_sql_execution\u001b[39m(\n\u001b[1;32m    200\u001b[0m     predicted_sqls: List[Tuple[\u001b[38;5;28mstr\u001b[39m, \u001b[38;5;28mstr\u001b[39m]],\n\u001b[1;32m    201\u001b[0m     ground_truth_sqls: List[Tuple[\u001b[38;5;28mstr\u001b[39m, \u001b[38;5;28mstr\u001b[39m]],\n\u001b[0;32m--> 202\u001b[0m     difficulties: List[\u001b[38;5;28mstr\u001b[39m],\n\u001b[1;32m    203\u001b[0m     db_root_path: \u001b[38;5;28mstr\u001b[39m,\n\u001b[1;32m    204\u001b[0m     num_cpus: \u001b[38;5;28mint\u001b[39m,\n\u001b[1;32m    205\u001b[0m     meta_time_out: \u001b[38;5;28mfloat\u001b[39m,\n\u001b[1;32m    206\u001b[0m     include_ves: \u001b[38;5;28mbool\u001b[39m \u001b[38;5;241m=\u001b[39m \u001b[38;5;28;01mFalse\u001b[39;00m,\n\u001b[1;32m    207\u001b[0m ) \u001b[38;5;241m-\u001b[39m\u001b[38;5;241m>\u001b[39m Dict[\u001b[38;5;28mstr\u001b[39m, Dict[\u001b[38;5;28mstr\u001b[39m, Union[\u001b[38;5;28mint\u001b[39m, \u001b[38;5;28mfloat\u001b[39m]]]:\n\u001b[1;32m    208\u001b[0m     exec_result \u001b[38;5;241m=\u001b[39m run_sqls_parallel(\n\u001b[1;32m    209\u001b[0m         predicted_sqls,\n\u001b[1;32m    210\u001b[0m         ground_truth_sqls,\n\u001b[0;32m   (...)\u001b[0m\n\u001b[1;32m    214\u001b[0m         include_ves\u001b[38;5;241m=\u001b[39minclude_ves,\n\u001b[1;32m    215\u001b[0m     )\n\u001b[1;32m    216\u001b[0m     exec_result \u001b[38;5;241m=\u001b[39m sort_results(exec_result)\n",
      "File \u001b[0;32m~/carl/target/target_benchmark/tasks/utils.py:140\u001b[0m, in \u001b[0;36mrun_sqls_parallel\u001b[0;34m(pred_sqls, gt_sqls, db_root_path, num_cpus, iterate_num, meta_time_out, include_ves)\u001b[0m\n\u001b[1;32m    128\u001b[0m \u001b[38;5;28;01mfor\u001b[39;00m i, sql_pair \u001b[38;5;129;01min\u001b[39;00m \u001b[38;5;28menumerate\u001b[39m(\u001b[38;5;28mzip\u001b[39m(pred_sqls, gt_sqls)):\n\u001b[1;32m    129\u001b[0m     predicted_sql, ground_truth \u001b[38;5;241m=\u001b[39m sql_pair\n\u001b[1;32m    130\u001b[0m     future_result \u001b[38;5;241m=\u001b[39m pool\u001b[38;5;241m.\u001b[39mapply_async(\n\u001b[1;32m    131\u001b[0m         execute_model,\n\u001b[1;32m    132\u001b[0m         args\u001b[38;5;241m=\u001b[39m(\n\u001b[1;32m    133\u001b[0m             predicted_sql,\n\u001b[1;32m    134\u001b[0m             ground_truth,\n\u001b[1;32m    135\u001b[0m             db_root_path,\n\u001b[1;32m    136\u001b[0m             i,\n\u001b[1;32m    137\u001b[0m             iterate_num,\n\u001b[1;32m    138\u001b[0m             meta_time_out,\n\u001b[1;32m    139\u001b[0m             include_ves,\n\u001b[0;32m--> 140\u001b[0m         ),\n\u001b[1;32m    141\u001b[0m     )\n\u001b[1;32m    142\u001b[0m     results\u001b[38;5;241m.\u001b[39mappend(future_result)\n\u001b[1;32m    144\u001b[0m pool\u001b[38;5;241m.\u001b[39mclose()\n",
      "File \u001b[0;32m~/miniconda3/envs/target/lib/python3.12/multiprocessing/pool.py:774\u001b[0m, in \u001b[0;36mApplyResult.get\u001b[0;34m(self, timeout)\u001b[0m\n\u001b[1;32m    772\u001b[0m     \u001b[38;5;28;01mreturn\u001b[39;00m \u001b[38;5;28mself\u001b[39m\u001b[38;5;241m.\u001b[39m_value\n\u001b[1;32m    773\u001b[0m \u001b[38;5;28;01melse\u001b[39;00m:\n\u001b[0;32m--> 774\u001b[0m     \u001b[38;5;28;01mraise\u001b[39;00m \u001b[38;5;28mself\u001b[39m\u001b[38;5;241m.\u001b[39m_value\n",
      "\u001b[0;31mUnboundLocalError\u001b[0m: cannot access local variable 'sql_execution_res' where it is not associated with a value"
     ]
    }
   ],
   "source": [
    "llamaindex_retriever_bird_val_retrieval_result = retrieval_result_files_dir / \"llamaindex\" / \"bird_1.jsonl\"\n",
    "llamaindex_results_bird_val = target_bird.evaluate_downstream_task(str(llamaindex_retriever_bird_val_retrieval_result), \"Text to SQL Task\", \"validation\", \"./llamaindex_bird_downstream_results.jsonl\")"
   ]
  },
  {
   "cell_type": "code",
   "execution_count": null,
   "metadata": {},
   "outputs": [],
   "source": []
  }
 ],
 "metadata": {
  "kernelspec": {
   "display_name": "target",
   "language": "python",
   "name": "python3"
  },
  "language_info": {
   "codemirror_mode": {
    "name": "ipython",
    "version": 3
   },
   "file_extension": ".py",
   "mimetype": "text/x-python",
   "name": "python",
   "nbconvert_exporter": "python",
   "pygments_lexer": "ipython3",
   "version": "3.12.2"
  }
 },
 "nbformat": 4,
 "nbformat_minor": 2
}
