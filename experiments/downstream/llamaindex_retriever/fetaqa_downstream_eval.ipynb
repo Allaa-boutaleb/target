{
 "cells": [
  {
   "cell_type": "code",
   "execution_count": 1,
   "metadata": {},
   "outputs": [
    {
     "name": "stderr",
     "output_type": "stream",
     "text": [
      "2024-09-19 02:09:49.015080: I external/local_tsl/tsl/cuda/cudart_stub.cc:32] Could not find cuda drivers on your machine, GPU will not be used.\n",
      "2024-09-19 02:09:49.018915: I external/local_tsl/tsl/cuda/cudart_stub.cc:32] Could not find cuda drivers on your machine, GPU will not be used.\n",
      "2024-09-19 02:09:49.072765: I tensorflow/core/platform/cpu_feature_guard.cc:210] This TensorFlow binary is optimized to use available CPU instructions in performance-critical operations.\n",
      "To enable the following instructions: AVX2 FMA, in other operations, rebuild TensorFlow with the appropriate compiler flags.\n",
      "2024-09-19 02:09:50.223636: W tensorflow/compiler/tf2tensorrt/utils/py_utils.cc:38] TF-TRT Warning: Could not find TensorRT\n"
     ]
    },
    {
     "name": "stdout",
     "output_type": "stream",
     "text": [
      "dataset config: {'fetaqa': HFDatasetConfigDataModel(dataset_name='fetaqa', split='test', data_directory=None, query_type='Table Question Answering', aux=None, hf_corpus_dataset_path='target-benchmark/fetaqa-corpus', hf_queries_dataset_path='target-benchmark/fetaqa-queries')}\n",
      "constructing dataset config: dataset_name='fetaqa' split='test' data_directory=None query_type='Table Question Answering' aux=None hf_corpus_dataset_path='target-benchmark/fetaqa-corpus' hf_queries_dataset_path='target-benchmark/fetaqa-queries'\n",
      "dataset config: {'ottqa': HFDatasetConfigDataModel(dataset_name='ottqa', split='validation', data_directory=None, query_type='Table Question Answering', aux=None, hf_corpus_dataset_path='target-benchmark/ottqa-corpus', hf_queries_dataset_path='target-benchmark/ottqa-queries')}\n",
      "constructing dataset config: dataset_name='ottqa' split='validation' data_directory=None query_type='Table Question Answering' aux=None hf_corpus_dataset_path='target-benchmark/ottqa-corpus' hf_queries_dataset_path='target-benchmark/ottqa-queries'\n",
      "dataset config: {'tabfact': HFDatasetConfigDataModel(dataset_name='tabfact', split='test', data_directory=None, query_type='Fact Verification', aux=None, hf_corpus_dataset_path='target-benchmark/tabfact-corpus', hf_queries_dataset_path='target-benchmark/tabfact-queries')}\n",
      "constructing dataset config: dataset_name='tabfact' split='test' data_directory=None query_type='Fact Verification' aux=None hf_corpus_dataset_path='target-benchmark/tabfact-corpus' hf_queries_dataset_path='target-benchmark/tabfact-queries'\n",
      "dataset config: {'spider-test': Text2SQLDatasetConfigDataModel(dataset_name='spider-test', split='test', data_directory=None, query_type='Text to SQL', aux=None, hf_corpus_dataset_path='target-benchmark/spider-corpus-test', hf_queries_dataset_path='target-benchmark/spider-queries-test')}\n"
     ]
    },
    {
     "ename": "AssertionError",
     "evalue": "duplicate dataset name spider-test!",
     "output_type": "error",
     "traceback": [
      "\u001b[0;31m---------------------------------------------------------------------------\u001b[0m",
      "\u001b[0;31mAssertionError\u001b[0m                            Traceback (most recent call last)",
      "Cell \u001b[0;32mIn[1], line 5\u001b[0m\n\u001b[1;32m      3\u001b[0m target_ottqa \u001b[38;5;241m=\u001b[39m TARGET((\u001b[38;5;124m\"\u001b[39m\u001b[38;5;124mTable Question Answering Task\u001b[39m\u001b[38;5;124m\"\u001b[39m, \u001b[38;5;124m\"\u001b[39m\u001b[38;5;124mottqa\u001b[39m\u001b[38;5;124m\"\u001b[39m))\n\u001b[1;32m      4\u001b[0m target_tabfact \u001b[38;5;241m=\u001b[39m TARGET((\u001b[38;5;124m\"\u001b[39m\u001b[38;5;124mFact Verification Task\u001b[39m\u001b[38;5;124m\"\u001b[39m, \u001b[38;5;124m\"\u001b[39m\u001b[38;5;124mtabfact\u001b[39m\u001b[38;5;124m\"\u001b[39m))\n\u001b[0;32m----> 5\u001b[0m target_spider \u001b[38;5;241m=\u001b[39m \u001b[43mTARGET\u001b[49m\u001b[43m(\u001b[49m\u001b[43m(\u001b[49m\u001b[38;5;124;43m\"\u001b[39;49m\u001b[38;5;124;43mText to SQL Task\u001b[39;49m\u001b[38;5;124;43m\"\u001b[39;49m\u001b[43m,\u001b[49m\u001b[43m \u001b[49m\u001b[38;5;124;43m\"\u001b[39;49m\u001b[38;5;124;43mspider-test\u001b[39;49m\u001b[38;5;124;43m\"\u001b[39;49m\u001b[43m)\u001b[49m\u001b[43m)\u001b[49m\n\u001b[1;32m      6\u001b[0m target_bird \u001b[38;5;241m=\u001b[39m TARGET((\u001b[38;5;124m\"\u001b[39m\u001b[38;5;124mText to SQL Task\u001b[39m\u001b[38;5;124m\"\u001b[39m, \u001b[38;5;124m\"\u001b[39m\u001b[38;5;124mbird-validation\u001b[39m\u001b[38;5;124m\"\u001b[39m))\n\u001b[1;32m      7\u001b[0m \u001b[38;5;28;01mfrom\u001b[39;00m \u001b[38;5;21;01mpathlib\u001b[39;00m \u001b[38;5;28;01mimport\u001b[39;00m Path\n",
      "File \u001b[0;32m~/carl/target/target_benchmark/evaluators/TARGET.py:80\u001b[0m, in \u001b[0;36mTARGET.__init__\u001b[0;34m(self, downstream_tasks, persist_log, log_file_path)\u001b[0m\n\u001b[1;32m     77\u001b[0m \u001b[38;5;28mself\u001b[39m\u001b[38;5;241m.\u001b[39mlogger\u001b[38;5;241m.\u001b[39minfo(\u001b[38;5;124m\"\u001b[39m\u001b[38;5;124mLogger for TARGET is set up!\u001b[39m\u001b[38;5;124m\"\u001b[39m)\n\u001b[1;32m     79\u001b[0m \u001b[38;5;28mself\u001b[39m\u001b[38;5;241m.\u001b[39mlogger\u001b[38;5;241m.\u001b[39minfo(\u001b[38;5;124m\"\u001b[39m\u001b[38;5;124mStarting to load the specified tasks...\u001b[39m\u001b[38;5;124m\"\u001b[39m)\n\u001b[0;32m---> 80\u001b[0m \u001b[38;5;28mself\u001b[39m\u001b[38;5;241m.\u001b[39mtasks: Dict[\u001b[38;5;28mstr\u001b[39m, AbsTask] \u001b[38;5;241m=\u001b[39m \u001b[38;5;28;43mself\u001b[39;49m\u001b[38;5;241;43m.\u001b[39;49m\u001b[43mload_tasks\u001b[49m\u001b[43m(\u001b[49m\u001b[43mdownstream_tasks\u001b[49m\u001b[43m)\u001b[49m\n\u001b[1;32m     81\u001b[0m \u001b[38;5;28mself\u001b[39m\u001b[38;5;241m.\u001b[39mlogger\u001b[38;5;241m.\u001b[39minfo(\n\u001b[1;32m     82\u001b[0m     \u001b[38;5;124mf\u001b[39m\u001b[38;5;124m\"\u001b[39m\u001b[38;5;124mFinished loading tasks! Tasks loaded: \u001b[39m\u001b[38;5;132;01m{\u001b[39;00m\u001b[38;5;28mlist\u001b[39m(\u001b[38;5;28mself\u001b[39m\u001b[38;5;241m.\u001b[39mtasks\u001b[38;5;241m.\u001b[39mkeys())\u001b[38;5;132;01m}\u001b[39;00m\u001b[38;5;124m\"\u001b[39m\n\u001b[1;32m     83\u001b[0m )\n\u001b[1;32m     85\u001b[0m \u001b[38;5;28mself\u001b[39m\u001b[38;5;241m.\u001b[39mlogger\u001b[38;5;241m.\u001b[39minfo(\u001b[38;5;124m\"\u001b[39m\u001b[38;5;124mStarted creating dataset information...\u001b[39m\u001b[38;5;124m\"\u001b[39m)\n",
      "File \u001b[0;32m~/carl/target/target_benchmark/evaluators/TARGET.py:176\u001b[0m, in \u001b[0;36mTARGET.load_tasks\u001b[0;34m(self, downstream_tasks)\u001b[0m\n\u001b[1;32m    172\u001b[0m         \u001b[38;5;28mself\u001b[39m\u001b[38;5;241m.\u001b[39mlogger\u001b[38;5;241m.\u001b[39merror(\n\u001b[1;32m    173\u001b[0m             \u001b[38;5;124mf\u001b[39m\u001b[38;5;124m\"\u001b[39m\u001b[38;5;124mtask by name \u001b[39m\u001b[38;5;132;01m{\u001b[39;00mtask_default_name\u001b[38;5;132;01m}\u001b[39;00m\u001b[38;5;124m already loaded. this action will overwrite the previously loaded task. be careful as this may not be intended behavior!\u001b[39m\u001b[38;5;124m\"\u001b[39m\n\u001b[1;32m    174\u001b[0m         )\n\u001b[1;32m    175\u001b[0m     \u001b[38;5;66;03m# create the task with the specified dataset configs\u001b[39;00m\n\u001b[0;32m--> 176\u001b[0m     loaded_tasks[task_default_name] \u001b[38;5;241m=\u001b[39m \u001b[43mtask_class\u001b[49m\u001b[43m(\u001b[49m\n\u001b[1;32m    177\u001b[0m \u001b[43m        \u001b[49m\u001b[43mdatasets_config\u001b[49m\u001b[38;5;241;43m=\u001b[39;49m\u001b[43mneeded_datasets\u001b[49m\u001b[43m,\u001b[49m\u001b[43m \u001b[49m\u001b[43moverwrite_default_datasets\u001b[49m\u001b[38;5;241;43m=\u001b[39;49m\u001b[38;5;28;43;01mTrue\u001b[39;49;00m\n\u001b[1;32m    178\u001b[0m \u001b[43m    \u001b[49m\u001b[43m)\u001b[49m\n\u001b[1;32m    179\u001b[0m \u001b[38;5;28;01melse\u001b[39;00m:\n\u001b[1;32m    180\u001b[0m     \u001b[38;5;28mself\u001b[39m\u001b[38;5;241m.\u001b[39mlogger\u001b[38;5;241m.\u001b[39mwarning(\n\u001b[1;32m    181\u001b[0m         \u001b[38;5;124mf\u001b[39m\u001b[38;5;124m\"\u001b[39m\u001b[38;5;124mtask named \u001b[39m\u001b[38;5;132;01m{\u001b[39;00mtask_name\u001b[38;5;132;01m}\u001b[39;00m\u001b[38;5;124m doesn\u001b[39m\u001b[38;5;124m'\u001b[39m\u001b[38;5;124mt exist. please double check your input values. skipping this task...\u001b[39m\u001b[38;5;124m\"\u001b[39m\n\u001b[1;32m    182\u001b[0m     )\n",
      "File \u001b[0;32m~/carl/target/target_benchmark/tasks/Text2SQLTask.py:42\u001b[0m, in \u001b[0;36mText2SQLTask.__init__\u001b[0;34m(self, datasets_config, overwrite_default_datasets, task_generator, metrics, **kwargs)\u001b[0m\n\u001b[1;32m     40\u001b[0m \u001b[38;5;28;01mif\u001b[39;00m task_generator \u001b[38;5;129;01mis\u001b[39;00m \u001b[38;5;28;01mNone\u001b[39;00m:\n\u001b[1;32m     41\u001b[0m     task_generator \u001b[38;5;241m=\u001b[39m Text2SQLGenerater()\n\u001b[0;32m---> 42\u001b[0m \u001b[38;5;28;43msuper\u001b[39;49m\u001b[43m(\u001b[49m\u001b[43m)\u001b[49m\u001b[38;5;241;43m.\u001b[39;49m\u001b[38;5;21;43m__init__\u001b[39;49m\u001b[43m(\u001b[49m\n\u001b[1;32m     43\u001b[0m \u001b[43m    \u001b[49m\u001b[43mtask_name\u001b[49m\u001b[38;5;241;43m=\u001b[39;49m\u001b[38;5;28;43mself\u001b[39;49m\u001b[38;5;241;43m.\u001b[39;49m\u001b[43mget_default_task_name\u001b[49m\u001b[43m(\u001b[49m\u001b[43m)\u001b[49m\u001b[43m,\u001b[49m\n\u001b[1;32m     44\u001b[0m \u001b[43m    \u001b[49m\u001b[43mdatasets_config\u001b[49m\u001b[38;5;241;43m=\u001b[39;49m\u001b[43mdatasets_config\u001b[49m\u001b[43m,\u001b[49m\n\u001b[1;32m     45\u001b[0m \u001b[43m    \u001b[49m\u001b[43moverwrite_default_datasets\u001b[49m\u001b[38;5;241;43m=\u001b[39;49m\u001b[38;5;28;43;01mFalse\u001b[39;49;00m\u001b[43m,\u001b[49m\n\u001b[1;32m     46\u001b[0m \u001b[43m    \u001b[49m\u001b[43mtask_generator\u001b[49m\u001b[38;5;241;43m=\u001b[39;49m\u001b[43mtask_generator\u001b[49m\u001b[43m,\u001b[49m\n\u001b[1;32m     47\u001b[0m \u001b[43m    \u001b[49m\u001b[38;5;241;43m*\u001b[39;49m\u001b[38;5;241;43m*\u001b[39;49m\u001b[43mkwargs\u001b[49m\u001b[43m,\u001b[49m\n\u001b[1;32m     48\u001b[0m \u001b[43m\u001b[49m\u001b[43m)\u001b[49m\n\u001b[1;32m     50\u001b[0m \u001b[38;5;28;01mif\u001b[39;00m \u001b[38;5;28misinstance\u001b[39m(metrics, \u001b[38;5;28mstr\u001b[39m):\n\u001b[1;32m     51\u001b[0m     metrics \u001b[38;5;241m=\u001b[39m [metrics]\n",
      "File \u001b[0;32m~/carl/target/target_benchmark/tasks/AbsTask.py:86\u001b[0m, in \u001b[0;36mAbsTask.__init__\u001b[0;34m(self, task_name, datasets_config, overwrite_default_datasets, task_generator, **kwargs)\u001b[0m\n\u001b[1;32m     82\u001b[0m     \u001b[38;5;28mself\u001b[39m\u001b[38;5;241m.\u001b[39mtask_name: \u001b[38;5;28mstr\u001b[39m \u001b[38;5;241m=\u001b[39m task_name\n\u001b[1;32m     83\u001b[0m \u001b[38;5;28mprint\u001b[39m(\u001b[38;5;124mf\u001b[39m\u001b[38;5;124m\"\u001b[39m\u001b[38;5;124mdataset config: \u001b[39m\u001b[38;5;132;01m{\u001b[39;00mdatasets_config\u001b[38;5;132;01m}\u001b[39;00m\u001b[38;5;124m\"\u001b[39m)\n\u001b[1;32m     84\u001b[0m \u001b[38;5;28mself\u001b[39m\u001b[38;5;241m.\u001b[39mdataset_config: Dict[\n\u001b[1;32m     85\u001b[0m     \u001b[38;5;28mstr\u001b[39m, DatasetConfigDataModel\n\u001b[0;32m---> 86\u001b[0m ] \u001b[38;5;241m=\u001b[39m \u001b[38;5;28;43mself\u001b[39;49m\u001b[38;5;241;43m.\u001b[39;49m\u001b[43m_construct_dataset_config\u001b[49m\u001b[43m(\u001b[49m\u001b[43mdatasets_config\u001b[49m\u001b[43m,\u001b[49m\u001b[43m \u001b[49m\u001b[43moverwrite_default_datasets\u001b[49m\u001b[43m)\u001b[49m\n\u001b[1;32m     88\u001b[0m \u001b[38;5;28mself\u001b[39m\u001b[38;5;241m.\u001b[39mtask_generator \u001b[38;5;241m=\u001b[39m (\n\u001b[1;32m     89\u001b[0m     task_generator \u001b[38;5;28;01mif\u001b[39;00m task_generator \u001b[38;5;129;01mis\u001b[39;00m \u001b[38;5;129;01mnot\u001b[39;00m \u001b[38;5;28;01mNone\u001b[39;00m \u001b[38;5;28;01melse\u001b[39;00m DefaultGenerator()\n\u001b[1;32m     90\u001b[0m )\n\u001b[1;32m     91\u001b[0m \u001b[38;5;28mself\u001b[39m\u001b[38;5;241m.\u001b[39mtrue_positive \u001b[38;5;241m=\u001b[39m \u001b[38;5;241m0\u001b[39m\n",
      "File \u001b[0;32m~/carl/target/target_benchmark/tasks/AbsTask.py:155\u001b[0m, in \u001b[0;36mAbsTask._construct_dataset_config\u001b[0;34m(self, datasets_config, overwrite_default_datasets)\u001b[0m\n\u001b[1;32m    153\u001b[0m         constructed_config[key] \u001b[38;5;241m=\u001b[39m GenericDatasetConfigDataModel(\u001b[38;5;241m*\u001b[39m\u001b[38;5;241m*\u001b[39mvalue)\n\u001b[1;32m    154\u001b[0m \u001b[38;5;28;01melif\u001b[39;00m \u001b[38;5;28misinstance\u001b[39m(value, DatasetConfigDataModel):\n\u001b[0;32m--> 155\u001b[0m     \u001b[38;5;28;01massert\u001b[39;00m (\n\u001b[1;32m    156\u001b[0m         key \u001b[38;5;129;01mnot\u001b[39;00m \u001b[38;5;129;01min\u001b[39;00m constructed_config\n\u001b[1;32m    157\u001b[0m     ), \u001b[38;5;124mf\u001b[39m\u001b[38;5;124m\"\u001b[39m\u001b[38;5;124mduplicate dataset name \u001b[39m\u001b[38;5;132;01m{\u001b[39;00mkey\u001b[38;5;132;01m}\u001b[39;00m\u001b[38;5;124m!\u001b[39m\u001b[38;5;124m\"\u001b[39m\n\u001b[1;32m    158\u001b[0m     \u001b[38;5;28mprint\u001b[39m(\u001b[38;5;124mf\u001b[39m\u001b[38;5;124m\"\u001b[39m\u001b[38;5;124mconstructing dataset config: \u001b[39m\u001b[38;5;132;01m{\u001b[39;00mvalue\u001b[38;5;132;01m}\u001b[39;00m\u001b[38;5;124m\"\u001b[39m)\n\u001b[1;32m    159\u001b[0m     constructed_config[key] \u001b[38;5;241m=\u001b[39m value\n",
      "\u001b[0;31mAssertionError\u001b[0m: duplicate dataset name spider-test!"
     ]
    }
   ],
   "source": [
    "from target_benchmark.evaluators import TARGET, get_task_names\n",
    "target_fetaqa = TARGET((\"Table Question Answering Task\", \"fetaqa\"))\n",
    "target_ottqa = TARGET((\"Table Question Answering Task\", \"ottqa\"))\n",
    "target_tabfact = TARGET((\"Fact Verification Task\", \"tabfact\"))\n",
    "target_spider = TARGET((\"Text to SQL Task\", \"spider-test\"))\n",
    "target_bird = TARGET((\"Text to SQL Task\", \"bird-validation\"))\n",
    "from pathlib import Path\n",
    "retrieval_result_files_dir = Path(\"/home/jixy2012/carl/target/experiments/retrieval\")\n",
    "\n",
    "from target_benchmark.retrievers import LlamaIndexRetriever\n",
    "llamaindex_retriever = LlamaIndexRetriever()"
   ]
  },
  {
   "cell_type": "code",
   "execution_count": 2,
   "metadata": {},
   "outputs": [
    {
     "name": "stderr",
     "output_type": "stream",
     "text": [
      "Getting downstream task results...: 100%|██████████| 2003/2003 [29:30<00:00,  1.13it/s] \n",
      "INFO:target_benchmark.evaluators.TARGET:finished running downstream eval on fetaqa\n"
     ]
    }
   ],
   "source": [
    "llamaindex_retriever_fetaqa_test_retrieval_result = retrieval_result_files_dir / \"llamaindex\" / \"fetaqa_10.jsonl\"\n",
    "llamaindex_results_fetaqa_test = target_fetaqa.evaluate_downstream_task(str(llamaindex_retriever_fetaqa_test_retrieval_result), \"Table Question Answering Task\", \"test\", \"./llamaindex_fetaqa_downstream_results.jsonl\")"
   ]
  },
  {
   "cell_type": "code",
   "execution_count": 3,
   "metadata": {},
   "outputs": [
    {
     "data": {
      "text/plain": [
       "{'fetaqa': TableQATaskPerformanceDataModel(task_name='Table Question Answering Task', scores={'bleu': {'bleu': 0.13745402870260948, 'precisions': [0.33515896643410675, 0.17076190476190475, 0.1102832712453434, 0.07372216665789336], 'brevity_penalty': 0.9358798192497501, 'length_ratio': 0.9378503378162365, 'translation_length': 44003, 'reference_length': 46919}, 'sacrebleu': {'score': 13.745402870260946, 'counts': [14748, 7172, 4411, 2801], 'totals': [44003, 42000, 39997, 37994], 'precisions': [33.51589664341068, 17.076190476190476, 11.02832712453434, 7.3722166657893355], 'bp': 0.9358798192497501, 'sys_len': 44003, 'ref_len': 46919}, 'rouge': {'rouge1': 0.2653319204739274, 'rouge2': 0.16038209363746705, 'rougeL': 0.21722522261615168, 'rougeLsum': 0.21851347257170434}})}"
      ]
     },
     "execution_count": 3,
     "metadata": {},
     "output_type": "execute_result"
    }
   ],
   "source": [
    "llamaindex_results_fetaqa_test"
   ]
  },
  {
   "cell_type": "code",
   "execution_count": 2,
   "metadata": {},
   "outputs": [
    {
     "name": "stdout",
     "output_type": "stream",
     "text": [
      "['spider-test', 'bird-validation']\n"
     ]
    },
    {
     "data": {
      "application/vnd.jupyter.widget-view+json": {
       "model_id": "8540ab4304914a28bcda41a2e7ce7402",
       "version_major": 2,
       "version_minor": 0
      },
      "text/plain": [
       "Fetching 132 files:   0%|          | 0/132 [00:00<?, ?it/s]"
      ]
     },
     "metadata": {},
     "output_type": "display_data"
    },
    {
     "ename": "FileNotFoundError",
     "evalue": "[Errno 2] No such file or directory: '/home/jixy2012/.cache/huggingface/hub/datasets--target-benchmark--spider-corpus-test/snapshots/b58fc6ee8bcb6f45d57b65a18e56d77b8413a66a/spider-corpus-validation.json'",
     "output_type": "error",
     "traceback": [
      "\u001b[0;31m---------------------------------------------------------------------------\u001b[0m",
      "\u001b[0;31mFileNotFoundError\u001b[0m                         Traceback (most recent call last)",
      "Cell \u001b[0;32mIn[2], line 2\u001b[0m\n\u001b[1;32m      1\u001b[0m llamaindex_retriever_bird_val_retrieval_result \u001b[38;5;241m=\u001b[39m retrieval_result_files_dir \u001b[38;5;241m/\u001b[39m \u001b[38;5;124m\"\u001b[39m\u001b[38;5;124mllamaindex\u001b[39m\u001b[38;5;124m\"\u001b[39m \u001b[38;5;241m/\u001b[39m \u001b[38;5;124m\"\u001b[39m\u001b[38;5;124mbird_5.jsonl\u001b[39m\u001b[38;5;124m\"\u001b[39m\n\u001b[0;32m----> 2\u001b[0m llamaindex_results_bird_val \u001b[38;5;241m=\u001b[39m \u001b[43mtarget_bird\u001b[49m\u001b[38;5;241;43m.\u001b[39;49m\u001b[43mevaluate_downstream_task\u001b[49m\u001b[43m(\u001b[49m\u001b[38;5;28;43mstr\u001b[39;49m\u001b[43m(\u001b[49m\u001b[43mllamaindex_retriever_bird_val_retrieval_result\u001b[49m\u001b[43m)\u001b[49m\u001b[43m,\u001b[49m\u001b[43m \u001b[49m\u001b[38;5;124;43m\"\u001b[39;49m\u001b[38;5;124;43mText to SQL Task\u001b[39;49m\u001b[38;5;124;43m\"\u001b[39;49m\u001b[43m,\u001b[49m\u001b[43m \u001b[49m\u001b[38;5;124;43m\"\u001b[39;49m\u001b[38;5;124;43mvalidation\u001b[39;49m\u001b[38;5;124;43m\"\u001b[39;49m\u001b[43m,\u001b[49m\u001b[43m \u001b[49m\u001b[38;5;124;43m\"\u001b[39;49m\u001b[38;5;124;43m./llamaindex_bird_downstream_results.jsonl\u001b[39;49m\u001b[38;5;124;43m\"\u001b[39;49m\u001b[43m)\u001b[49m\n",
      "File \u001b[0;32m~/carl/target/target_benchmark/evaluators/TARGET.py:582\u001b[0m, in \u001b[0;36mTARGET.evaluate_downstream_task\u001b[0;34m(self, retrieval_results_file, downstream_task_name, split, downstream_results_file)\u001b[0m\n\u001b[1;32m    580\u001b[0m dataset_names \u001b[38;5;241m=\u001b[39m task_to_run\u001b[38;5;241m.\u001b[39mget_dataset_config()\u001b[38;5;241m.\u001b[39mkeys()\n\u001b[1;32m    581\u001b[0m \u001b[38;5;28mprint\u001b[39m(\u001b[38;5;28mlist\u001b[39m(dataset_names))\n\u001b[0;32m--> 582\u001b[0m dataloaders_for_task \u001b[38;5;241m=\u001b[39m \u001b[38;5;28;43mself\u001b[39;49m\u001b[38;5;241;43m.\u001b[39;49m\u001b[43m_load_datasets_for_task\u001b[49m\u001b[43m(\u001b[49m\n\u001b[1;32m    583\u001b[0m \u001b[43m    \u001b[49m\u001b[43mdataset_names\u001b[49m\u001b[38;5;241;43m=\u001b[39;49m\u001b[43mdataset_names\u001b[49m\u001b[43m,\u001b[49m\u001b[43m \u001b[49m\u001b[43mtask\u001b[49m\u001b[38;5;241;43m=\u001b[39;49m\u001b[43mtask_to_run\u001b[49m\n\u001b[1;32m    584\u001b[0m \u001b[43m\u001b[49m\u001b[43m)\u001b[49m\n\u001b[1;32m    586\u001b[0m path_to_downstream_results \u001b[38;5;241m=\u001b[39m \u001b[38;5;28mself\u001b[39m\u001b[38;5;241m.\u001b[39m_create_persistence_file(\n\u001b[1;32m    587\u001b[0m     downstream_results_file\n\u001b[1;32m    588\u001b[0m )\n\u001b[1;32m    590\u001b[0m \u001b[38;5;28;01mreturn\u001b[39;00m task_to_run\u001b[38;5;241m.\u001b[39mevaluate_downstream(\n\u001b[1;32m    591\u001b[0m     \u001b[38;5;28mself\u001b[39m\u001b[38;5;241m.\u001b[39mlogger,\n\u001b[1;32m    592\u001b[0m     dataloaders_for_task,\n\u001b[1;32m    593\u001b[0m     retrieval_results,\n\u001b[1;32m    594\u001b[0m     path_to_downstream_results,\n\u001b[1;32m    595\u001b[0m )\n",
      "File \u001b[0;32m~/carl/target/target_benchmark/evaluators/TARGET.py:294\u001b[0m, in \u001b[0;36mTARGET._load_datasets_for_task\u001b[0;34m(self, dataset_names, task)\u001b[0m\n\u001b[1;32m    292\u001b[0m     \u001b[38;5;28;01melse\u001b[39;00m:\n\u001b[1;32m    293\u001b[0m         dataloader \u001b[38;5;241m=\u001b[39m \u001b[38;5;28mself\u001b[39m\u001b[38;5;241m.\u001b[39mdataloaders[dataset_name]\n\u001b[0;32m--> 294\u001b[0m         \u001b[43mdataloader\u001b[49m\u001b[38;5;241;43m.\u001b[39;49m\u001b[43mload\u001b[49m\u001b[43m(\u001b[49m\u001b[43m)\u001b[49m\n\u001b[1;32m    295\u001b[0m         dataloaders_for_task[dataset_name] \u001b[38;5;241m=\u001b[39m dataloader\n\u001b[1;32m    297\u001b[0m \u001b[38;5;28;01mif\u001b[39;00m \u001b[38;5;28misinstance\u001b[39m(task, Text2SQLTask):\n",
      "File \u001b[0;32m~/carl/target/target_benchmark/dataset_loaders/AbsDatasetLoader.py:70\u001b[0m, in \u001b[0;36mAbsDatasetLoader.load\u001b[0;34m(self)\u001b[0m\n\u001b[1;32m     68\u001b[0m \u001b[38;5;28;01mdef\u001b[39;00m \u001b[38;5;21mload\u001b[39m(\u001b[38;5;28mself\u001b[39m) \u001b[38;5;241m-\u001b[39m\u001b[38;5;241m>\u001b[39m \u001b[38;5;28;01mNone\u001b[39;00m:\n\u001b[1;32m     69\u001b[0m     \u001b[38;5;28;01mif\u001b[39;00m \u001b[38;5;129;01mnot\u001b[39;00m \u001b[38;5;28mself\u001b[39m\u001b[38;5;241m.\u001b[39mcorpus:\n\u001b[0;32m---> 70\u001b[0m         \u001b[38;5;28;43mself\u001b[39;49m\u001b[38;5;241;43m.\u001b[39;49m\u001b[43m_load_corpus\u001b[49m\u001b[43m(\u001b[49m\u001b[43m)\u001b[49m\n\u001b[1;32m     71\u001b[0m     \u001b[38;5;28;01mif\u001b[39;00m \u001b[38;5;129;01mnot\u001b[39;00m \u001b[38;5;28mself\u001b[39m\u001b[38;5;241m.\u001b[39mqueries:\n\u001b[1;32m     72\u001b[0m         \u001b[38;5;28mself\u001b[39m\u001b[38;5;241m.\u001b[39m_load_queries()\n",
      "File \u001b[0;32m~/carl/target/target_benchmark/dataset_loaders/Text2SQLDatasetLoader.py:78\u001b[0m, in \u001b[0;36mText2SQLDatasetLoader._load_corpus\u001b[0;34m(self)\u001b[0m\n\u001b[1;32m     74\u001b[0m path_to_context \u001b[38;5;241m=\u001b[39m Path(\n\u001b[1;32m     75\u001b[0m     path_to_data_dir, \u001b[38;5;124mf\u001b[39m\u001b[38;5;124m\"\u001b[39m\u001b[38;5;132;01m{\u001b[39;00m\u001b[38;5;28mself\u001b[39m\u001b[38;5;241m.\u001b[39mdataset_name\u001b[38;5;132;01m}\u001b[39;00m\u001b[38;5;124m-corpus-\u001b[39m\u001b[38;5;132;01m{\u001b[39;00m\u001b[38;5;28mself\u001b[39m\u001b[38;5;241m.\u001b[39msplit\u001b[38;5;132;01m}\u001b[39;00m\u001b[38;5;124m.json\u001b[39m\u001b[38;5;124m\"\u001b[39m\n\u001b[1;32m     76\u001b[0m )\n\u001b[1;32m     77\u001b[0m \u001b[38;5;28mself\u001b[39m\u001b[38;5;241m.\u001b[39mpath_to_database_dir \u001b[38;5;241m=\u001b[39m Path(path_to_data_dir, \u001b[38;5;124mf\u001b[39m\u001b[38;5;124m\"\u001b[39m\u001b[38;5;132;01m{\u001b[39;00m\u001b[38;5;28mself\u001b[39m\u001b[38;5;241m.\u001b[39msplit\u001b[38;5;132;01m}\u001b[39;00m\u001b[38;5;124m_database\u001b[39m\u001b[38;5;124m\"\u001b[39m)\n\u001b[0;32m---> 78\u001b[0m \u001b[38;5;28;01mwith\u001b[39;00m \u001b[38;5;28;43mopen\u001b[39;49m\u001b[43m(\u001b[49m\u001b[43mpath_to_context\u001b[49m\u001b[43m,\u001b[49m\u001b[43m \u001b[49m\u001b[38;5;124;43m\"\u001b[39;49m\u001b[38;5;124;43mr\u001b[39;49m\u001b[38;5;124;43m\"\u001b[39;49m\u001b[43m)\u001b[49m \u001b[38;5;28;01mas\u001b[39;00m file:\n\u001b[1;32m     79\u001b[0m     \u001b[38;5;28mself\u001b[39m\u001b[38;5;241m.\u001b[39mcorpus \u001b[38;5;241m=\u001b[39m json\u001b[38;5;241m.\u001b[39mload(file)\n",
      "\u001b[0;31mFileNotFoundError\u001b[0m: [Errno 2] No such file or directory: '/home/jixy2012/.cache/huggingface/hub/datasets--target-benchmark--spider-corpus-test/snapshots/b58fc6ee8bcb6f45d57b65a18e56d77b8413a66a/spider-corpus-validation.json'"
     ]
    }
   ],
   "source": [
    "llamaindex_retriever_bird_val_retrieval_result = retrieval_result_files_dir / \"llamaindex\" / \"bird_5.jsonl\"\n",
    "llamaindex_results_bird_val = target_bird.evaluate_downstream_task(str(llamaindex_retriever_bird_val_retrieval_result), \"Text to SQL Task\", \"validation\", \"./llamaindex_bird_downstream_results.jsonl\")"
   ]
  },
  {
   "cell_type": "code",
   "execution_count": null,
   "metadata": {},
   "outputs": [],
   "source": []
  }
 ],
 "metadata": {
  "kernelspec": {
   "display_name": "target",
   "language": "python",
   "name": "python3"
  },
  "language_info": {
   "codemirror_mode": {
    "name": "ipython",
    "version": 3
   },
   "file_extension": ".py",
   "mimetype": "text/x-python",
   "name": "python",
   "nbconvert_exporter": "python",
   "pygments_lexer": "ipython3",
   "version": "3.12.2"
  }
 },
 "nbformat": 4,
 "nbformat_minor": 2
}
