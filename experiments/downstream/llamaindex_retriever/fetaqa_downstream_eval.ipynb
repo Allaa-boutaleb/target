{
 "cells": [
  {
   "cell_type": "code",
   "execution_count": 2,
   "metadata": {},
   "outputs": [
    {
     "name": "stderr",
     "output_type": "stream",
     "text": [
      "2024-09-19 02:31:55.174830: I external/local_tsl/tsl/cuda/cudart_stub.cc:32] Could not find cuda drivers on your machine, GPU will not be used.\n",
      "2024-09-19 02:31:55.178604: I external/local_tsl/tsl/cuda/cudart_stub.cc:32] Could not find cuda drivers on your machine, GPU will not be used.\n",
      "2024-09-19 02:31:55.231025: I tensorflow/core/platform/cpu_feature_guard.cc:210] This TensorFlow binary is optimized to use available CPU instructions in performance-critical operations.\n",
      "To enable the following instructions: AVX2 FMA, in other operations, rebuild TensorFlow with the appropriate compiler flags.\n",
      "2024-09-19 02:31:56.384079: W tensorflow/compiler/tf2tensorrt/utils/py_utils.cc:38] TF-TRT Warning: Could not find TensorRT\n"
     ]
    }
   ],
   "source": [
    "from target_benchmark.evaluators import TARGET, get_task_names\n",
    "target_fetaqa = TARGET((\"Table Question Answering Task\", \"fetaqa\"))\n",
    "target_ottqa = TARGET((\"Table Question Answering Task\", \"ottqa\"))\n",
    "target_tabfact = TARGET((\"Fact Verification Task\", \"tabfact\"))\n",
    "target_spider = TARGET((\"Text to SQL Task\", \"spider-test\"))\n",
    "target_bird = TARGET((\"Text to SQL Task\", \"bird-validation\"))\n",
    "from pathlib import Path\n",
    "retrieval_result_files_dir = Path(\"/home/jixy2012/carl/target/experiments/retrieval\")\n",
    "\n",
    "from target_benchmark.retrievers import LlamaIndexRetriever\n",
    "llamaindex_retriever = LlamaIndexRetriever()"
   ]
  },
  {
   "cell_type": "code",
   "execution_count": 2,
   "metadata": {},
   "outputs": [
    {
     "name": "stderr",
     "output_type": "stream",
     "text": [
      "Getting downstream task results...: 100%|██████████| 2003/2003 [29:30<00:00,  1.13it/s] \n",
      "INFO:target_benchmark.evaluators.TARGET:finished running downstream eval on fetaqa\n"
     ]
    }
   ],
   "source": [
    "llamaindex_retriever_fetaqa_test_retrieval_result = retrieval_result_files_dir / \"llamaindex\" / \"fetaqa_10.jsonl\"\n",
    "llamaindex_results_fetaqa_test = target_fetaqa.evaluate_downstream_task(str(llamaindex_retriever_fetaqa_test_retrieval_result), \"Table Question Answering Task\", \"test\", \"./llamaindex_fetaqa_downstream_results.jsonl\")"
   ]
  },
  {
   "cell_type": "code",
   "execution_count": 3,
   "metadata": {},
   "outputs": [
    {
     "data": {
      "text/plain": [
       "{'fetaqa': TableQATaskPerformanceDataModel(task_name='Table Question Answering Task', scores={'bleu': {'bleu': 0.13745402870260948, 'precisions': [0.33515896643410675, 0.17076190476190475, 0.1102832712453434, 0.07372216665789336], 'brevity_penalty': 0.9358798192497501, 'length_ratio': 0.9378503378162365, 'translation_length': 44003, 'reference_length': 46919}, 'sacrebleu': {'score': 13.745402870260946, 'counts': [14748, 7172, 4411, 2801], 'totals': [44003, 42000, 39997, 37994], 'precisions': [33.51589664341068, 17.076190476190476, 11.02832712453434, 7.3722166657893355], 'bp': 0.9358798192497501, 'sys_len': 44003, 'ref_len': 46919}, 'rouge': {'rouge1': 0.2653319204739274, 'rouge2': 0.16038209363746705, 'rougeL': 0.21722522261615168, 'rougeLsum': 0.21851347257170434}})}"
      ]
     },
     "execution_count": 3,
     "metadata": {},
     "output_type": "execute_result"
    }
   ],
   "source": [
    "llamaindex_results_fetaqa_test"
   ]
  },
  {
   "cell_type": "code",
   "execution_count": 3,
   "metadata": {},
   "outputs": [
    {
     "name": "stdout",
     "output_type": "stream",
     "text": [
      "['ottqa']\n"
     ]
    },
    {
     "name": "stderr",
     "output_type": "stream",
     "text": [
      "Getting downstream task results...: 100%|██████████| 2214/2214 [33:57<00:00,  1.09it/s]  \n",
      "INFO:target_benchmark.evaluators.TARGET:finished running downstream eval on ottqa\n"
     ]
    }
   ],
   "source": [
    "llamaindex_retriever_ottqa_val_retrieval_result = retrieval_result_files_dir / \"llamaindex\" / \"ottqa_10.jsonl\"\n",
    "llamaindex_results_ottqa_val = target_ottqa.evaluate_downstream_task(str(llamaindex_retriever_ottqa_val_retrieval_result), \"Table Question Answering Task\", \"validation\", \"./llamaindex_ottqa_downstream_results.jsonl\")"
   ]
  },
  {
   "cell_type": "code",
   "execution_count": 4,
   "metadata": {},
   "outputs": [
    {
     "data": {
      "text/plain": [
       "{'ottqa': TableQATaskPerformanceDataModel(task_name='Table Question Answering Task', scores={'bleu': {'bleu': 0.005068835438732017, 'precisions': [0.020389572113710043, 0.007861008259755055, 0.0030093014772934524, 0.0013686131386861315], 'brevity_penalty': 1.0, 'length_ratio': 7.578274111675127, 'translation_length': 37323, 'reference_length': 4925}, 'rouge': {'rouge1': 0.025252249396383982, 'rouge2': 0.010206847408126872, 'rougeL': 0.024827198369907814, 'rougeLsum': 0.024811533658032018}, 'sacrebleu': {'score': 0.5068835438732016, 'counts': [761, 276, 99, 42], 'totals': [37323, 35110, 32898, 30688], 'precisions': [2.0389572113710046, 0.7861008259755056, 0.30093014772934523, 0.13686131386861314], 'bp': 1.0, 'sys_len': 37323, 'ref_len': 4925}})}"
      ]
     },
     "execution_count": 4,
     "metadata": {},
     "output_type": "execute_result"
    }
   ],
   "source": [
    "llamaindex_results_ottqa_val"
   ]
  },
  {
   "cell_type": "code",
   "execution_count": null,
   "metadata": {},
   "outputs": [],
   "source": [
    "llamaindex_retriever_ottqa_val_retrieval_result = retrieval_result_files_dir / \"llamaindex\" / \"ottqa_10.jsonl\"\n",
    "llamaindex_results_ottqa_val = target_ottqa.evaluate_downstream_task(str(llamaindex_retriever_ottqa_val_retrieval_result), \"Table Question Answering Task\", \"validation\", \"./llamaindex_ottqa_downstream_results.jsonl\")"
   ]
  },
  {
   "cell_type": "code",
   "execution_count": 5,
   "metadata": {},
   "outputs": [
    {
     "name": "stdout",
     "output_type": "stream",
     "text": [
      "['bird-validation']\n"
     ]
    },
    {
     "data": {
      "application/vnd.jupyter.widget-view+json": {
       "model_id": "9bb6a0a2c1ad48749c2ff20aed6cb126",
       "version_major": 2,
       "version_minor": 0
      },
      "text/plain": [
       "Fetching 104 files:   0%|          | 0/104 [00:00<?, ?it/s]"
      ]
     },
     "metadata": {},
     "output_type": "display_data"
    },
    {
     "name": "stderr",
     "output_type": "stream",
     "text": [
      "Getting downstream task results...:  19%|█▉        | 295/1534 [19:14<1:05:27,  3.17s/it]"
     ]
    }
   ],
   "source": [
    "llamaindex_retriever_bird_val_retrieval_result = retrieval_result_files_dir / \"llamaindex\" / \"bird_1.jsonl\"\n",
    "llamaindex_results_bird_val = target_bird.evaluate_downstream_task(str(llamaindex_retriever_bird_val_retrieval_result), \"Text to SQL Task\", \"validation\", \"./llamaindex_bird_downstream_results.jsonl\")"
   ]
  },
  {
   "cell_type": "code",
   "execution_count": null,
   "metadata": {},
   "outputs": [],
   "source": []
  }
 ],
 "metadata": {
  "kernelspec": {
   "display_name": "target",
   "language": "python",
   "name": "python3"
  },
  "language_info": {
   "codemirror_mode": {
    "name": "ipython",
    "version": 3
   },
   "file_extension": ".py",
   "mimetype": "text/x-python",
   "name": "python",
   "nbconvert_exporter": "python",
   "pygments_lexer": "ipython3",
   "version": "3.12.2"
  }
 },
 "nbformat": 4,
 "nbformat_minor": 2
}
