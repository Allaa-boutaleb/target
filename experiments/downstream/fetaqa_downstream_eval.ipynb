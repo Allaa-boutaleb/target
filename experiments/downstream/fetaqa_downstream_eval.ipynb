{
 "cells": [
  {
   "cell_type": "code",
   "execution_count": 2,
   "metadata": {},
   "outputs": [
    {
     "name": "stderr",
     "output_type": "stream",
     "text": [
      "2024-09-18 23:34:49.660042: I external/local_tsl/tsl/cuda/cudart_stub.cc:32] Could not find cuda drivers on your machine, GPU will not be used.\n",
      "2024-09-18 23:34:49.664040: I external/local_tsl/tsl/cuda/cudart_stub.cc:32] Could not find cuda drivers on your machine, GPU will not be used.\n",
      "2024-09-18 23:34:49.719508: I tensorflow/core/platform/cpu_feature_guard.cc:210] This TensorFlow binary is optimized to use available CPU instructions in performance-critical operations.\n",
      "To enable the following instructions: AVX2 FMA, in other operations, rebuild TensorFlow with the appropriate compiler flags.\n",
      "2024-09-18 23:34:50.904285: W tensorflow/compiler/tf2tensorrt/utils/py_utils.cc:38] TF-TRT Warning: Could not find TensorRT\n"
     ]
    }
   ],
   "source": [
    "from target_benchmark.evaluators import TARGET, get_task_names\n",
    "target_fetaqa = TARGET((\"Table Question Answering Task\", \"fetaqa\"))"
   ]
  },
  {
   "cell_type": "code",
   "execution_count": 3,
   "metadata": {},
   "outputs": [],
   "source": [
    "from pathlib import Path\n",
    "retrieval_result_files_dir = Path(\"/home/jixy2012/carl/target/experiments/retrieval\")"
   ]
  },
  {
   "cell_type": "code",
   "execution_count": 4,
   "metadata": {},
   "outputs": [],
   "source": [
    "from target_benchmark.retrievers import LlamaIndexRetriever\n",
    "llamaindex_retriever = LlamaIndexRetriever()\n",
    "\n",
    "from target_benchmark.retrievers import OTTQARetriever\n",
    "bm25_with_title = OTTQARetriever(encoding=\"bm25\", withtitle=True)\n",
    "bm25_no_title = OTTQARetriever(encoding=\"bm25\", withtitle=False)\n",
    "tfidf_with_title = OTTQARetriever(encoding=\"tfidf\", withtitle=True)\n",
    "tfidf_no_title = OTTQARetriever(encoding=\"tfidf\", withtitle=False)\n",
    "\n",
    "from target_benchmark.retrievers import HNSWOpenAIEmbeddingRetriever\n",
    "hnsw_openai = HNSWOpenAIEmbeddingRetriever(num_rows=100)"
   ]
  },
  {
   "cell_type": "code",
   "execution_count": 5,
   "metadata": {},
   "outputs": [
    {
     "ename": "AttributeError",
     "evalue": "'dict' object has no attribute 'dataset_name'",
     "output_type": "error",
     "traceback": [
      "\u001b[0;31m---------------------------------------------------------------------------\u001b[0m",
      "\u001b[0;31mAttributeError\u001b[0m                            Traceback (most recent call last)",
      "Cell \u001b[0;32mIn[5], line 2\u001b[0m\n\u001b[1;32m      1\u001b[0m llamaindex_retriever_retrieval_results_file \u001b[38;5;241m=\u001b[39m retrieval_result_files_dir \u001b[38;5;241m/\u001b[39m \u001b[38;5;124m\"\u001b[39m\u001b[38;5;124mllamaindex\u001b[39m\u001b[38;5;124m\"\u001b[39m \u001b[38;5;241m/\u001b[39m \u001b[38;5;124m\"\u001b[39m\u001b[38;5;124mfetaqa_10.jsonl\u001b[39m\u001b[38;5;124m\"\u001b[39m\n\u001b[0;32m----> 2\u001b[0m llamaindex_results_fetaqa_test \u001b[38;5;241m=\u001b[39m \u001b[43mtarget_fetaqa\u001b[49m\u001b[38;5;241;43m.\u001b[39;49m\u001b[43mevaluate_downstream_task\u001b[49m\u001b[43m(\u001b[49m\u001b[38;5;28;43mstr\u001b[39;49m\u001b[43m(\u001b[49m\u001b[43mllamaindex_retriever_retrieval_results_file\u001b[49m\u001b[43m)\u001b[49m\u001b[43m,\u001b[49m\u001b[43m \u001b[49m\u001b[38;5;124;43m\"\u001b[39;49m\u001b[38;5;124;43mTable Question Answering Task\u001b[39;49m\u001b[38;5;124;43m\"\u001b[39;49m\u001b[43m,\u001b[49m\u001b[43m \u001b[49m\u001b[38;5;124;43m\"\u001b[39;49m\u001b[38;5;124;43mtest\u001b[39;49m\u001b[38;5;124;43m\"\u001b[39;49m\u001b[43m,\u001b[49m\u001b[43m \u001b[49m\u001b[38;5;124;43m\"\u001b[39;49m\u001b[38;5;124;43m./llamaindex_fetaqa_downstream_results.jsonl\u001b[39;49m\u001b[38;5;124;43m\"\u001b[39;49m\u001b[43m)\u001b[49m\n",
      "File \u001b[0;32m~/carl/target/target_benchmark/evaluators/TARGET.py:590\u001b[0m, in \u001b[0;36mTARGET.evaluate_downstream_task\u001b[0;34m(self, retrieval_results_file, downstream_task_name, split, downstream_results_file)\u001b[0m\n\u001b[1;32m    581\u001b[0m needed_dataloaders \u001b[38;5;241m=\u001b[39m {\n\u001b[1;32m    582\u001b[0m     dataset_name: \u001b[38;5;28mself\u001b[39m\u001b[38;5;241m.\u001b[39mdataloaders[dataset_name]\n\u001b[1;32m    583\u001b[0m     \u001b[38;5;28;01mfor\u001b[39;00m dataset_name \u001b[38;5;129;01min\u001b[39;00m needed_dataset_names\n\u001b[1;32m    584\u001b[0m }\n\u001b[1;32m    586\u001b[0m path_to_downstream_results \u001b[38;5;241m=\u001b[39m \u001b[38;5;28mself\u001b[39m\u001b[38;5;241m.\u001b[39m_create_persistence_file(\n\u001b[1;32m    587\u001b[0m     downstream_results_file\n\u001b[1;32m    588\u001b[0m )\n\u001b[0;32m--> 590\u001b[0m \u001b[38;5;28;01mreturn\u001b[39;00m \u001b[43mtask_to_run\u001b[49m\u001b[38;5;241;43m.\u001b[39;49m\u001b[43mevaluate_downstream\u001b[49m\u001b[43m(\u001b[49m\n\u001b[1;32m    591\u001b[0m \u001b[43m    \u001b[49m\u001b[43mneeded_dataloaders\u001b[49m\u001b[43m,\u001b[49m\n\u001b[1;32m    592\u001b[0m \u001b[43m    \u001b[49m\u001b[43mretrieval_results\u001b[49m\u001b[43m,\u001b[49m\n\u001b[1;32m    593\u001b[0m \u001b[43m    \u001b[49m\u001b[43mpath_to_downstream_results\u001b[49m\u001b[43m,\u001b[49m\n\u001b[1;32m    594\u001b[0m \u001b[43m\u001b[49m\u001b[43m)\u001b[49m\n",
      "File \u001b[0;32m~/carl/target/target_benchmark/tasks/AbsTask.py:276\u001b[0m, in \u001b[0;36mAbsTask.evaluate_downstream\u001b[0;34m(self, dataset_loader, retrieval_results, path_to_downstream_results)\u001b[0m\n\u001b[1;32m    270\u001b[0m \u001b[38;5;28;01mdef\u001b[39;00m \u001b[38;5;21mevaluate_downstream\u001b[39m(\n\u001b[1;32m    271\u001b[0m     \u001b[38;5;28mself\u001b[39m,\n\u001b[1;32m    272\u001b[0m     dataset_loader: AbsDatasetLoader,\n\u001b[1;32m    273\u001b[0m     retrieval_results: List[RetrievalResultDataModel],\n\u001b[1;32m    274\u001b[0m     path_to_downstream_results: Union[Path, \u001b[38;5;28;01mNone\u001b[39;00m] \u001b[38;5;241m=\u001b[39m \u001b[38;5;28;01mNone\u001b[39;00m,\n\u001b[1;32m    275\u001b[0m ) \u001b[38;5;241m-\u001b[39m\u001b[38;5;241m>\u001b[39m DownstreamTaskPerformanceDataModel:\n\u001b[0;32m--> 276\u001b[0m     dataset_name \u001b[38;5;241m=\u001b[39m \u001b[43mdataset_loader\u001b[49m\u001b[38;5;241;43m.\u001b[39;49m\u001b[43mdataset_name\u001b[49m\n\u001b[1;32m    277\u001b[0m     table_id_to_table \u001b[38;5;241m=\u001b[39m dataset_loader\u001b[38;5;241m.\u001b[39mget_table_id_to_table()\n\u001b[1;32m    279\u001b[0m     \u001b[38;5;28;01mfor\u001b[39;00m idx, query_batch \u001b[38;5;129;01min\u001b[39;00m tqdm(\n\u001b[1;32m    280\u001b[0m         \u001b[38;5;28menumerate\u001b[39m(dataset_loader\u001b[38;5;241m.\u001b[39mget_queries_for_task(\u001b[38;5;241m1\u001b[39m)),\n\u001b[1;32m    281\u001b[0m         total\u001b[38;5;241m=\u001b[39mdataset_loader\u001b[38;5;241m.\u001b[39mget_queries_size(),\n\u001b[1;32m    282\u001b[0m         desc\u001b[38;5;241m=\u001b[39m\u001b[38;5;124m\"\u001b[39m\u001b[38;5;124mGetting downstream task results...\u001b[39m\u001b[38;5;124m\"\u001b[39m,\n\u001b[1;32m    283\u001b[0m     ):\n",
      "\u001b[0;31mAttributeError\u001b[0m: 'dict' object has no attribute 'dataset_name'"
     ]
    }
   ],
   "source": [
    "llamaindex_retriever_retrieval_results_file = retrieval_result_files_dir / \"llamaindex\" / \"fetaqa_10.jsonl\"\n",
    "llamaindex_results_fetaqa_test = target_fetaqa.evaluate_downstream_task(str(llamaindex_retriever_retrieval_results_file), \"Table Question Answering Task\", \"test\", \"./llamaindex_fetaqa_downstream_results.jsonl\")"
   ]
  },
  {
   "cell_type": "code",
   "execution_count": null,
   "metadata": {},
   "outputs": [],
   "source": []
  }
 ],
 "metadata": {
  "kernelspec": {
   "display_name": "target",
   "language": "python",
   "name": "python3"
  },
  "language_info": {
   "codemirror_mode": {
    "name": "ipython",
    "version": 3
   },
   "file_extension": ".py",
   "mimetype": "text/x-python",
   "name": "python",
   "nbconvert_exporter": "python",
   "pygments_lexer": "ipython3",
   "version": "3.12.2"
  }
 },
 "nbformat": 4,
 "nbformat_minor": 2
}
