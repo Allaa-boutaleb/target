{
 "cells": [
  {
   "cell_type": "code",
   "execution_count": 1,
   "id": "0179abe5",
   "metadata": {
    "execution": {
     "iopub.execute_input": "2024-09-17T09:40:19.341301Z",
     "iopub.status.busy": "2024-09-17T09:40:19.340819Z",
     "iopub.status.idle": "2024-09-17T09:40:27.912778Z",
     "shell.execute_reply": "2024-09-17T09:40:27.912196Z"
    },
    "papermill": {
     "duration": 8.576353,
     "end_time": "2024-09-17T09:40:27.914435",
     "exception": false,
     "start_time": "2024-09-17T09:40:19.338082",
     "status": "completed"
    },
    "tags": []
   },
   "outputs": [
    {
     "name": "stderr",
     "output_type": "stream",
     "text": [
      "2024-09-17 09:40:26.006634: I external/local_tsl/tsl/cuda/cudart_stub.cc:32] Could not find cuda drivers on your machine, GPU will not be used.\n",
      "2024-09-17 09:40:26.010152: I external/local_tsl/tsl/cuda/cudart_stub.cc:32] Could not find cuda drivers on your machine, GPU will not be used.\n",
      "2024-09-17 09:40:26.061867: I tensorflow/core/platform/cpu_feature_guard.cc:210] This TensorFlow binary is optimized to use available CPU instructions in performance-critical operations.\n",
      "To enable the following instructions: AVX2 FMA, in other operations, rebuild TensorFlow with the appropriate compiler flags.\n"
     ]
    },
    {
     "name": "stderr",
     "output_type": "stream",
     "text": [
      "2024-09-17 09:40:27.225681: W tensorflow/compiler/tf2tensorrt/utils/py_utils.cc:38] TF-TRT Warning: Could not find TensorRT\n"
     ]
    }
   ],
   "source": [
    "from target_benchmark.evaluators import TARGET, get_task_names\n",
    "target_bird = TARGET((\"Table Retrieval Task\", \"bird-validation\"))"
   ]
  },
  {
   "cell_type": "code",
   "execution_count": 2,
   "id": "c9b40d7f",
   "metadata": {
    "execution": {
     "iopub.execute_input": "2024-09-17T09:40:27.919111Z",
     "iopub.status.busy": "2024-09-17T09:40:27.918368Z",
     "iopub.status.idle": "2024-09-17T09:40:27.921811Z",
     "shell.execute_reply": "2024-09-17T09:40:27.921295Z"
    },
    "papermill": {
     "duration": 0.006697,
     "end_time": "2024-09-17T09:40:27.922976",
     "exception": false,
     "start_time": "2024-09-17T09:40:27.916279",
     "status": "completed"
    },
    "tags": []
   },
   "outputs": [],
   "source": [
    "top_ks = [1, 5, 10, 25, 50]"
   ]
  },
  {
   "cell_type": "code",
   "execution_count": 3,
   "id": "18b40be6",
   "metadata": {
    "execution": {
     "iopub.execute_input": "2024-09-17T09:40:27.926371Z",
     "iopub.status.busy": "2024-09-17T09:40:27.926002Z",
     "iopub.status.idle": "2024-09-17T09:40:27.929628Z",
     "shell.execute_reply": "2024-09-17T09:40:27.929125Z"
    },
    "papermill": {
     "duration": 0.006653,
     "end_time": "2024-09-17T09:40:27.930861",
     "exception": false,
     "start_time": "2024-09-17T09:40:27.924208",
     "status": "completed"
    },
    "tags": []
   },
   "outputs": [],
   "source": [
    "def run_eval_for_top_ks(retriever, retriever_name: str, top_ks: list[int], target: TARGET, dataset_name: str, split: str):\n",
    "    results = []\n",
    "    for top_k in top_ks:\n",
    "        results.append(target.run(retriever=retriever, split=split, batch_size=100, top_k=top_k, retrieval_results_file=f\"./{retriever_name}/{dataset_name}_{top_k}.jsonl\"))\n",
    "    print(results)\n",
    "    return results\n",
    "    "
   ]
  },
  {
   "cell_type": "code",
   "execution_count": 4,
   "id": "ed8fb88f",
   "metadata": {
    "execution": {
     "iopub.execute_input": "2024-09-17T09:40:27.934350Z",
     "iopub.status.busy": "2024-09-17T09:40:27.933976Z",
     "iopub.status.idle": "2024-09-17T16:27:35.979887Z",
     "shell.execute_reply": "2024-09-17T16:27:35.978878Z"
    },
    "papermill": {
     "duration": 24428.049078,
     "end_time": "2024-09-17T16:27:35.981175",
     "exception": false,
     "start_time": "2024-09-17T09:40:27.932097",
     "status": "completed"
    },
    "tags": []
   },
   "outputs": [
    {
     "data": {
      "application/vnd.jupyter.widget-view+json": {
       "model_id": "6032e67d1acd4f6db0f9de4dd7dcdb12",
       "version_major": 2,
       "version_minor": 0
      },
      "text/plain": [
       "Fetching 104 files:   0%|          | 0/104 [00:00<?, ?it/s]"
      ]
     },
     "metadata": {},
     "output_type": "display_data"
    },
    {
     "name": "stderr",
     "output_type": "stream",
     "text": [
      "\r\n",
      "  0%|                                                                                    | 0/1 [00:00<?, ?it/s]"
     ]
    },
    {
     "name": "stderr",
     "output_type": "stream",
     "text": [
      "\n"
     ]
    },
    {
     "name": "stderr",
     "output_type": "stream",
     "text": [
      "\r\n",
      "0it [00:00, ?it/s]"
     ]
    },
    {
     "name": "stderr",
     "output_type": "stream",
     "text": [
      "\u001b[A"
     ]
    },
    {
     "name": "stderr",
     "output_type": "stream",
     "text": [
      "\r\n",
      "100%|████████████████████████████████████████████████████████████████████████████| 1/1 [00:00<00:00,  8.13it/s]"
     ]
    },
    {
     "name": "stderr",
     "output_type": "stream",
     "text": [
      "\r\n",
      "1it [00:00, 833.03it/s]"
     ]
    },
    {
     "name": "stderr",
     "output_type": "stream",
     "text": [
      "\n",
      "\r\n",
      "100%|████████████████████████████████████████████████████████████████████████████| 1/1 [00:00<00:00,  8.05it/s]"
     ]
    },
    {
     "name": "stderr",
     "output_type": "stream",
     "text": [
      "\n"
     ]
    },
    {
     "name": "stderr",
     "output_type": "stream",
     "text": [
      "\r\n",
      "Retrieving Tables for bird-validation...:   0%|                                       | 0/1534 [00:00<?, ?it/s]"
     ]
    },
    {
     "name": "stderr",
     "output_type": "stream",
     "text": [
      "\r\n",
      "Retrieving Tables for bird-validation...:   7%|█▉                           | 100/1534 [00:24<05:56,  4.02it/s]"
     ]
    },
    {
     "name": "stderr",
     "output_type": "stream",
     "text": [
      "\r\n",
      "Retrieving Tables for bird-validation...:  13%|███▊                         | 200/1534 [01:18<09:15,  2.40it/s]"
     ]
    },
    {
     "name": "stderr",
     "output_type": "stream",
     "text": [
      "\r\n",
      "Retrieving Tables for bird-validation...:  20%|█████▋                       | 300/1534 [01:22<05:02,  4.08it/s]"
     ]
    },
    {
     "name": "stderr",
     "output_type": "stream",
     "text": [
      "\r\n",
      "Retrieving Tables for bird-validation...:  20%|█████▋                       | 300/1534 [01:35<05:02,  4.08it/s]"
     ]
    },
    {
     "name": "stderr",
     "output_type": "stream",
     "text": [
      "\r\n",
      "Retrieving Tables for bird-validation...:  26%|███████▌                     | 400/1534 [03:56<14:19,  1.32it/s]"
     ]
    },
    {
     "name": "stderr",
     "output_type": "stream",
     "text": [
      "\r\n",
      "Retrieving Tables for bird-validation...:  33%|█████████▍                   | 500/1534 [07:14<20:40,  1.20s/it]"
     ]
    },
    {
     "name": "stderr",
     "output_type": "stream",
     "text": [
      "\r\n",
      "Retrieving Tables for bird-validation...:  39%|███████████▎                 | 600/1534 [13:54<33:28,  2.15s/it]"
     ]
    },
    {
     "name": "stderr",
     "output_type": "stream",
     "text": [
      "\r\n",
      "Retrieving Tables for bird-validation...:  46%|█████████████▏               | 700/1534 [20:35<38:19,  2.76s/it]"
     ]
    },
    {
     "name": "stderr",
     "output_type": "stream",
     "text": [
      "\r\n",
      "Retrieving Tables for bird-validation...:  52%|███████████████              | 800/1534 [20:52<23:40,  1.94s/it]"
     ]
    },
    {
     "name": "stderr",
     "output_type": "stream",
     "text": [
      "\r\n",
      "Retrieving Tables for bird-validation...:  59%|█████████████████            | 900/1534 [20:54<14:06,  1.33s/it]"
     ]
    },
    {
     "name": "stderr",
     "output_type": "stream",
     "text": [
      "\r\n",
      "Retrieving Tables for bird-validation...:  65%|██████████████████▎         | 1000/1534 [20:56<08:16,  1.07it/s]"
     ]
    },
    {
     "name": "stderr",
     "output_type": "stream",
     "text": [
      "\r\n",
      "Retrieving Tables for bird-validation...:  65%|██████████████████▎         | 1000/1534 [21:10<08:16,  1.07it/s]"
     ]
    },
    {
     "name": "stderr",
     "output_type": "stream",
     "text": [
      "\r\n",
      "Retrieving Tables for bird-validation...:  72%|████████████████████        | 1100/1534 [24:33<09:28,  1.31s/it]"
     ]
    },
    {
     "name": "stderr",
     "output_type": "stream",
     "text": [
      "\r\n",
      "Retrieving Tables for bird-validation...:  78%|█████████████████████▉      | 1200/1534 [26:44<07:17,  1.31s/it]"
     ]
    },
    {
     "name": "stderr",
     "output_type": "stream",
     "text": [
      "\r\n",
      "Retrieving Tables for bird-validation...:  85%|███████████████████████▋    | 1300/1534 [26:54<03:40,  1.06it/s]"
     ]
    },
    {
     "name": "stderr",
     "output_type": "stream",
     "text": [
      "\r\n",
      "Retrieving Tables for bird-validation...:  91%|█████████████████████████▌  | 1400/1534 [26:56<01:29,  1.50it/s]"
     ]
    },
    {
     "name": "stderr",
     "output_type": "stream",
     "text": [
      "\r\n",
      "Retrieving Tables for bird-validation...:  98%|███████████████████████████▍| 1500/1534 [27:05<00:16,  2.03it/s]"
     ]
    },
    {
     "name": "stderr",
     "output_type": "stream",
     "text": [
      "\r\n",
      "Retrieving Tables for bird-validation...:  98%|███████████████████████████▍| 1500/1534 [27:16<00:16,  2.03it/s]"
     ]
    },
    {
     "name": "stderr",
     "output_type": "stream",
     "text": [
      "\r\n",
      "Retrieving Tables for bird-validation...: 1600it [27:20,  2.57it/s]                                            "
     ]
    },
    {
     "name": "stderr",
     "output_type": "stream",
     "text": [
      "\r\n",
      "Retrieving Tables for bird-validation...: 100%|████████████████████████████| 1534/1534 [27:20<00:00,  1.07s/it]"
     ]
    },
    {
     "name": "stderr",
     "output_type": "stream",
     "text": [
      "\n"
     ]
    },
    {
     "name": "stderr",
     "output_type": "stream",
     "text": [
      "\r\n",
      "  0%|                                                                                    | 0/1 [00:00<?, ?it/s]"
     ]
    },
    {
     "name": "stderr",
     "output_type": "stream",
     "text": [
      "\n"
     ]
    },
    {
     "name": "stderr",
     "output_type": "stream",
     "text": [
      "\r\n",
      "0it [00:00, ?it/s]"
     ]
    },
    {
     "name": "stderr",
     "output_type": "stream",
     "text": [
      "\u001b[A"
     ]
    },
    {
     "name": "stderr",
     "output_type": "stream",
     "text": [
      "\r\n",
      "1it [00:00, 472.86it/s]"
     ]
    },
    {
     "name": "stderr",
     "output_type": "stream",
     "text": [
      "\n",
      "\r\n",
      "100%|███████████████████████████████████████████████████████████████████████████| 1/1 [00:00<00:00, 187.38it/s]"
     ]
    },
    {
     "name": "stderr",
     "output_type": "stream",
     "text": [
      "\n"
     ]
    },
    {
     "name": "stderr",
     "output_type": "stream",
     "text": [
      "\r\n",
      "Retrieving Tables for bird-validation...:   0%|                                       | 0/1534 [00:00<?, ?it/s]"
     ]
    },
    {
     "name": "stderr",
     "output_type": "stream",
     "text": [
      "\r\n",
      "Retrieving Tables for bird-validation...:   7%|█▊                         | 100/1534 [07:59<1:54:42,  4.80s/it]"
     ]
    },
    {
     "name": "stderr",
     "output_type": "stream",
     "text": [
      "\r\n",
      "Retrieving Tables for bird-validation...:  13%|███▌                       | 200/1534 [12:40<1:20:40,  3.63s/it]"
     ]
    },
    {
     "name": "stderr",
     "output_type": "stream",
     "text": [
      "\r\n",
      "Retrieving Tables for bird-validation...:  20%|█████▋                       | 300/1534 [13:30<45:14,  2.20s/it]"
     ]
    },
    {
     "name": "stderr",
     "output_type": "stream",
     "text": [
      "\r\n",
      "Retrieving Tables for bird-validation...:  26%|███████▌                     | 400/1534 [19:05<50:06,  2.65s/it]"
     ]
    },
    {
     "name": "stderr",
     "output_type": "stream",
     "text": [
      "\r\n",
      "Retrieving Tables for bird-validation...:  33%|█████████▍                   | 500/1534 [26:47<57:57,  3.36s/it]"
     ]
    },
    {
     "name": "stderr",
     "output_type": "stream",
     "text": [
      "\r\n",
      "Retrieving Tables for bird-validation...:  39%|██████████▌                | 600/1534 [36:01<1:03:53,  4.10s/it]"
     ]
    },
    {
     "name": "stderr",
     "output_type": "stream",
     "text": [
      "\r\n",
      "Retrieving Tables for bird-validation...:  46%|████████████▎              | 700/1534 [50:22<1:17:31,  5.58s/it]"
     ]
    },
    {
     "name": "stderr",
     "output_type": "stream",
     "text": [
      "\r\n",
      "Retrieving Tables for bird-validation...:  52%|███████████████              | 800/1534 [54:59<57:17,  4.68s/it]"
     ]
    },
    {
     "name": "stderr",
     "output_type": "stream",
     "text": [
      "\r\n",
      "Retrieving Tables for bird-validation...:  59%|█████████████████            | 900/1534 [55:47<35:34,  3.37s/it]"
     ]
    },
    {
     "name": "stderr",
     "output_type": "stream",
     "text": [
      "\r\n",
      "Retrieving Tables for bird-validation...:  65%|██████████████████▎         | 1000/1534 [57:36<23:43,  2.67s/it]"
     ]
    },
    {
     "name": "stderr",
     "output_type": "stream",
     "text": [
      "\r\n",
      "Retrieving Tables for bird-validation...:  72%|██████████████████▋       | 1100/1534 [1:02:53<20:23,  2.82s/it]"
     ]
    },
    {
     "name": "stderr",
     "output_type": "stream",
     "text": [
      "\r\n",
      "Retrieving Tables for bird-validation...:  78%|████████████████████▎     | 1200/1534 [1:09:15<17:23,  3.12s/it]"
     ]
    },
    {
     "name": "stderr",
     "output_type": "stream",
     "text": [
      "\r\n",
      "Retrieving Tables for bird-validation...:  85%|██████████████████████    | 1300/1534 [1:09:54<08:57,  2.30s/it]"
     ]
    },
    {
     "name": "stderr",
     "output_type": "stream",
     "text": [
      "\r\n",
      "Retrieving Tables for bird-validation...:  91%|███████████████████████▋  | 1400/1534 [1:10:32<03:50,  1.72s/it]"
     ]
    },
    {
     "name": "stderr",
     "output_type": "stream",
     "text": [
      "\r\n",
      "Retrieving Tables for bird-validation...:  98%|█████████████████████████▍| 1500/1534 [1:11:17<00:45,  1.34s/it]"
     ]
    },
    {
     "name": "stderr",
     "output_type": "stream",
     "text": [
      "\r\n",
      "Retrieving Tables for bird-validation...: 1600it [1:11:55,  1.05s/it]                                          "
     ]
    },
    {
     "name": "stderr",
     "output_type": "stream",
     "text": [
      "\r\n",
      "Retrieving Tables for bird-validation...: 100%|██████████████████████████| 1534/1534 [1:11:55<00:00,  2.81s/it]"
     ]
    },
    {
     "name": "stderr",
     "output_type": "stream",
     "text": [
      "\n"
     ]
    },
    {
     "name": "stderr",
     "output_type": "stream",
     "text": [
      "\r\n",
      "  0%|                                                                                    | 0/1 [00:00<?, ?it/s]"
     ]
    },
    {
     "name": "stderr",
     "output_type": "stream",
     "text": [
      "\n"
     ]
    },
    {
     "name": "stderr",
     "output_type": "stream",
     "text": [
      "\r\n",
      "0it [00:00, ?it/s]"
     ]
    },
    {
     "name": "stderr",
     "output_type": "stream",
     "text": [
      "\u001b[A"
     ]
    },
    {
     "name": "stderr",
     "output_type": "stream",
     "text": [
      "\r\n",
      "1it [00:00, 364.47it/s]"
     ]
    },
    {
     "name": "stderr",
     "output_type": "stream",
     "text": [
      "\n",
      "\r\n",
      "100%|███████████████████████████████████████████████████████████████████████████| 1/1 [00:00<00:00, 137.47it/s]"
     ]
    },
    {
     "name": "stderr",
     "output_type": "stream",
     "text": [
      "\n"
     ]
    },
    {
     "name": "stderr",
     "output_type": "stream",
     "text": [
      "\r\n",
      "Retrieving Tables for bird-validation...:   0%|                                       | 0/1534 [00:00<?, ?it/s]"
     ]
    },
    {
     "name": "stderr",
     "output_type": "stream",
     "text": [
      "\r\n",
      "Retrieving Tables for bird-validation...:   7%|█▊                         | 100/1534 [09:37<2:18:04,  5.78s/it]"
     ]
    },
    {
     "name": "stderr",
     "output_type": "stream",
     "text": [
      "\r\n",
      "Retrieving Tables for bird-validation...:  13%|███▌                       | 200/1534 [17:12<1:52:18,  5.05s/it]"
     ]
    },
    {
     "name": "stderr",
     "output_type": "stream",
     "text": [
      "\r\n",
      "Retrieving Tables for bird-validation...:  20%|█████▎                     | 300/1534 [21:15<1:19:17,  3.86s/it]"
     ]
    },
    {
     "name": "stderr",
     "output_type": "stream",
     "text": [
      "\r\n",
      "Retrieving Tables for bird-validation...:  26%|███████                    | 400/1534 [29:54<1:22:49,  4.38s/it]"
     ]
    },
    {
     "name": "stderr",
     "output_type": "stream",
     "text": [
      "\r\n",
      "Retrieving Tables for bird-validation...:  33%|████████▊                  | 500/1534 [46:04<1:48:34,  6.30s/it]"
     ]
    },
    {
     "name": "stderr",
     "output_type": "stream",
     "text": [
      "\r\n",
      "Retrieving Tables for bird-validation...:  39%|█████████▊               | 600/1534 [1:02:12<1:55:59,  7.45s/it]"
     ]
    },
    {
     "name": "stderr",
     "output_type": "stream",
     "text": [
      "\r\n",
      "Retrieving Tables for bird-validation...:  46%|███████████▍             | 700/1534 [1:14:05<1:42:05,  7.34s/it]"
     ]
    },
    {
     "name": "stderr",
     "output_type": "stream",
     "text": [
      "\r\n",
      "Retrieving Tables for bird-validation...:  52%|█████████████            | 800/1534 [1:19:21<1:13:33,  6.01s/it]"
     ]
    },
    {
     "name": "stderr",
     "output_type": "stream",
     "text": [
      "\r\n",
      "Retrieving Tables for bird-validation...:  59%|███████████████▊           | 900/1534 [1:21:33<48:02,  4.55s/it]"
     ]
    },
    {
     "name": "stderr",
     "output_type": "stream",
     "text": [
      "\r\n",
      "Retrieving Tables for bird-validation...:  65%|████████████████▉         | 1000/1534 [1:25:21<34:14,  3.85s/it]"
     ]
    },
    {
     "name": "stderr",
     "output_type": "stream",
     "text": [
      "\r\n",
      "Retrieving Tables for bird-validation...:  72%|██████████████████▋       | 1100/1534 [1:34:39<31:39,  4.38s/it]"
     ]
    },
    {
     "name": "stderr",
     "output_type": "stream",
     "text": [
      "\r\n",
      "Retrieving Tables for bird-validation...:  78%|████████████████████▎     | 1200/1534 [1:42:33<24:58,  4.49s/it]"
     ]
    },
    {
     "name": "stderr",
     "output_type": "stream",
     "text": [
      "\r\n",
      "Retrieving Tables for bird-validation...:  85%|██████████████████████    | 1300/1534 [1:43:07<12:35,  3.23s/it]"
     ]
    },
    {
     "name": "stderr",
     "output_type": "stream",
     "text": [
      "\r\n",
      "Retrieving Tables for bird-validation...:  91%|███████████████████████▋  | 1400/1534 [1:44:10<05:27,  2.45s/it]"
     ]
    },
    {
     "name": "stderr",
     "output_type": "stream",
     "text": [
      "\r\n",
      "Retrieving Tables for bird-validation...:  98%|█████████████████████████▍| 1500/1534 [1:45:39<01:07,  1.98s/it]"
     ]
    },
    {
     "name": "stderr",
     "output_type": "stream",
     "text": [
      "\r\n",
      "Retrieving Tables for bird-validation...: 1600it [1:46:15,  1.49s/it]                                          "
     ]
    },
    {
     "name": "stderr",
     "output_type": "stream",
     "text": [
      "\r\n",
      "Retrieving Tables for bird-validation...: 100%|██████████████████████████| 1534/1534 [1:46:15<00:00,  4.16s/it]"
     ]
    },
    {
     "name": "stderr",
     "output_type": "stream",
     "text": [
      "\n"
     ]
    },
    {
     "name": "stderr",
     "output_type": "stream",
     "text": [
      "\r\n",
      "  0%|                                                                                    | 0/1 [00:00<?, ?it/s]"
     ]
    },
    {
     "name": "stderr",
     "output_type": "stream",
     "text": [
      "\n"
     ]
    },
    {
     "name": "stderr",
     "output_type": "stream",
     "text": [
      "\r\n",
      "0it [00:00, ?it/s]"
     ]
    },
    {
     "name": "stderr",
     "output_type": "stream",
     "text": [
      "\u001b[A"
     ]
    },
    {
     "name": "stderr",
     "output_type": "stream",
     "text": [
      "\r\n",
      "1it [00:00, 828.91it/s]"
     ]
    },
    {
     "name": "stderr",
     "output_type": "stream",
     "text": [
      "\n",
      "\r\n",
      "100%|███████████████████████████████████████████████████████████████████████████| 1/1 [00:00<00:00, 204.79it/s]"
     ]
    },
    {
     "name": "stderr",
     "output_type": "stream",
     "text": [
      "\n"
     ]
    },
    {
     "name": "stderr",
     "output_type": "stream",
     "text": [
      "\r\n",
      "Retrieving Tables for bird-validation...:   0%|                                       | 0/1534 [00:00<?, ?it/s]"
     ]
    },
    {
     "name": "stderr",
     "output_type": "stream",
     "text": [
      "\r\n",
      "Retrieving Tables for bird-validation...:   7%|█▊                         | 100/1534 [09:50<2:21:07,  5.90s/it]"
     ]
    },
    {
     "name": "stderr",
     "output_type": "stream",
     "text": [
      "\r\n",
      "Retrieving Tables for bird-validation...:  13%|███▌                       | 200/1534 [18:56<2:05:27,  5.64s/it]"
     ]
    },
    {
     "name": "stderr",
     "output_type": "stream",
     "text": [
      "\r\n",
      "Retrieving Tables for bird-validation...:  20%|█████▎                     | 300/1534 [20:46<1:13:24,  3.57s/it]"
     ]
    },
    {
     "name": "stderr",
     "output_type": "stream",
     "text": [
      "\r\n",
      "Retrieving Tables for bird-validation...:  26%|███████                    | 400/1534 [32:13<1:32:05,  4.87s/it]"
     ]
    },
    {
     "name": "stderr",
     "output_type": "stream",
     "text": [
      "\r\n",
      "Retrieving Tables for bird-validation...:  33%|████████▊                  | 500/1534 [46:09<1:45:36,  6.13s/it]"
     ]
    },
    {
     "name": "stderr",
     "output_type": "stream",
     "text": [
      "\r\n",
      "Retrieving Tables for bird-validation...:  39%|██████████▌                | 600/1534 [59:16<1:44:38,  6.72s/it]"
     ]
    },
    {
     "name": "stderr",
     "output_type": "stream",
     "text": [
      "\r\n",
      "Retrieving Tables for bird-validation...:  46%|███████████▍             | 700/1534 [1:16:15<1:49:11,  7.86s/it]"
     ]
    },
    {
     "name": "stderr",
     "output_type": "stream",
     "text": [
      "\r\n",
      "Retrieving Tables for bird-validation...:  52%|█████████████            | 800/1534 [1:22:45<1:20:40,  6.59s/it]"
     ]
    },
    {
     "name": "stderr",
     "output_type": "stream",
     "text": [
      "\r\n",
      "Retrieving Tables for bird-validation...:  59%|███████████████▊           | 900/1534 [1:24:23<51:08,  4.84s/it]"
     ]
    },
    {
     "name": "stderr",
     "output_type": "stream",
     "text": [
      "\r\n",
      "Retrieving Tables for bird-validation...:  65%|████████████████▉         | 1000/1534 [1:30:56<40:34,  4.56s/it]"
     ]
    },
    {
     "name": "stderr",
     "output_type": "stream",
     "text": [
      "\r\n",
      "Retrieving Tables for bird-validation...:  72%|██████████████████▋       | 1100/1534 [1:39:40<34:29,  4.77s/it]"
     ]
    },
    {
     "name": "stderr",
     "output_type": "stream",
     "text": [
      "\r\n",
      "Retrieving Tables for bird-validation...:  78%|████████████████████▎     | 1200/1534 [1:46:35<25:30,  4.58s/it]"
     ]
    },
    {
     "name": "stderr",
     "output_type": "stream",
     "text": [
      "\r\n",
      "Retrieving Tables for bird-validation...:  85%|██████████████████████    | 1300/1534 [1:47:17<12:56,  3.32s/it]"
     ]
    },
    {
     "name": "stderr",
     "output_type": "stream",
     "text": [
      "\r\n",
      "Retrieving Tables for bird-validation...:  91%|███████████████████████▋  | 1400/1534 [1:48:04<05:29,  2.46s/it]"
     ]
    },
    {
     "name": "stderr",
     "output_type": "stream",
     "text": [
      "\r\n",
      "Retrieving Tables for bird-validation...:  98%|█████████████████████████▍| 1500/1534 [1:50:45<01:14,  2.20s/it]"
     ]
    },
    {
     "name": "stderr",
     "output_type": "stream",
     "text": [
      "\r\n",
      "Retrieving Tables for bird-validation...: 1600it [1:51:09,  1.61s/it]                                          "
     ]
    },
    {
     "name": "stderr",
     "output_type": "stream",
     "text": [
      "\r\n",
      "Retrieving Tables for bird-validation...: 100%|██████████████████████████| 1534/1534 [1:51:09<00:00,  4.35s/it]"
     ]
    },
    {
     "name": "stderr",
     "output_type": "stream",
     "text": [
      "\n"
     ]
    },
    {
     "name": "stderr",
     "output_type": "stream",
     "text": [
      "\r\n",
      "  0%|                                                                                    | 0/1 [00:00<?, ?it/s]"
     ]
    },
    {
     "name": "stderr",
     "output_type": "stream",
     "text": [
      "\n"
     ]
    },
    {
     "name": "stderr",
     "output_type": "stream",
     "text": [
      "\r\n",
      "0it [00:00, ?it/s]"
     ]
    },
    {
     "name": "stderr",
     "output_type": "stream",
     "text": [
      "\u001b[A"
     ]
    },
    {
     "name": "stderr",
     "output_type": "stream",
     "text": [
      "\r\n",
      "1it [00:00, 1011.16it/s]"
     ]
    },
    {
     "name": "stderr",
     "output_type": "stream",
     "text": [
      "\n",
      "\r\n",
      "100%|███████████████████████████████████████████████████████████████████████████| 1/1 [00:00<00:00, 193.25it/s]"
     ]
    },
    {
     "name": "stderr",
     "output_type": "stream",
     "text": [
      "\n"
     ]
    },
    {
     "name": "stderr",
     "output_type": "stream",
     "text": [
      "\r\n",
      "Retrieving Tables for bird-validation...:   0%|                                       | 0/1534 [00:00<?, ?it/s]"
     ]
    },
    {
     "name": "stderr",
     "output_type": "stream",
     "text": [
      "\r\n",
      "Retrieving Tables for bird-validation...:   7%|█▊                         | 100/1534 [07:40<1:49:56,  4.60s/it]"
     ]
    },
    {
     "name": "stderr",
     "output_type": "stream",
     "text": [
      "\r\n",
      "Retrieving Tables for bird-validation...:  13%|███▌                       | 200/1534 [13:35<1:28:33,  3.98s/it]"
     ]
    },
    {
     "name": "stderr",
     "output_type": "stream",
     "text": [
      "\r\n",
      "Retrieving Tables for bird-validation...:  20%|█████▋                       | 300/1534 [14:52<51:44,  2.52s/it]"
     ]
    },
    {
     "name": "stderr",
     "output_type": "stream",
     "text": [
      "\r\n",
      "Retrieving Tables for bird-validation...:  26%|███████▌                     | 400/1534 [21:29<58:26,  3.09s/it]"
     ]
    },
    {
     "name": "stderr",
     "output_type": "stream",
     "text": [
      "\r\n",
      "Retrieving Tables for bird-validation...:  33%|████████▊                  | 500/1534 [33:28<1:18:46,  4.57s/it]"
     ]
    },
    {
     "name": "stderr",
     "output_type": "stream",
     "text": [
      "\r\n",
      "Retrieving Tables for bird-validation...:  39%|██████████▌                | 600/1534 [45:41<1:25:44,  5.51s/it]"
     ]
    },
    {
     "name": "stderr",
     "output_type": "stream",
     "text": [
      "\r\n",
      "Retrieving Tables for bird-validation...:  46%|████████████▎              | 700/1534 [59:16<1:28:32,  6.37s/it]"
     ]
    },
    {
     "name": "stderr",
     "output_type": "stream",
     "text": [
      "\r\n",
      "Retrieving Tables for bird-validation...:  52%|█████████████            | 800/1534 [1:03:57<1:04:04,  5.24s/it]"
     ]
    },
    {
     "name": "stderr",
     "output_type": "stream",
     "text": [
      "\r\n",
      "Retrieving Tables for bird-validation...:  59%|███████████████▊           | 900/1534 [1:04:56<39:59,  3.79s/it]"
     ]
    },
    {
     "name": "stderr",
     "output_type": "stream",
     "text": [
      "\r\n",
      "Retrieving Tables for bird-validation...:  65%|████████████████▉         | 1000/1534 [1:09:55<31:30,  3.54s/it]"
     ]
    },
    {
     "name": "stderr",
     "output_type": "stream",
     "text": [
      "\r\n",
      "Retrieving Tables for bird-validation...:  72%|██████████████████▋       | 1100/1534 [1:15:35<25:16,  3.50s/it]"
     ]
    },
    {
     "name": "stderr",
     "output_type": "stream",
     "text": [
      "\r\n",
      "Retrieving Tables for bird-validation...:  78%|████████████████████▎     | 1200/1534 [1:25:10<23:17,  4.18s/it]"
     ]
    },
    {
     "name": "stderr",
     "output_type": "stream",
     "text": [
      "\r\n",
      "Retrieving Tables for bird-validation...:  85%|██████████████████████    | 1300/1534 [1:25:53<11:52,  3.04s/it]"
     ]
    },
    {
     "name": "stderr",
     "output_type": "stream",
     "text": [
      "\r\n",
      "Retrieving Tables for bird-validation...:  91%|███████████████████████▋  | 1400/1534 [1:26:39<05:03,  2.27s/it]"
     ]
    },
    {
     "name": "stderr",
     "output_type": "stream",
     "text": [
      "\r\n",
      "Retrieving Tables for bird-validation...:  98%|█████████████████████████▍| 1500/1534 [1:28:28<01:04,  1.91s/it]"
     ]
    },
    {
     "name": "stderr",
     "output_type": "stream",
     "text": [
      "\r\n",
      "Retrieving Tables for bird-validation...: 1600it [1:28:52,  1.41s/it]                                          "
     ]
    },
    {
     "name": "stderr",
     "output_type": "stream",
     "text": [
      "\r\n",
      "Retrieving Tables for bird-validation...: 100%|██████████████████████████| 1534/1534 [1:28:52<00:00,  3.48s/it]"
     ]
    },
    {
     "name": "stdout",
     "output_type": "stream",
     "text": [
      "[{'Table Retrieval Task': {'bird-validation': TaskResultsDataModel(retrieval_performance=RetrievalPerformanceDataModel(k=1, accuracy=0.7086049543676662, precision=None, recall=None, retrieval_time=3.22692, avg_retrieval_time=0.0021), downstream_task_performance=DownstreamTaskPerformanceDataModel(task_name=None, scores=None), embedding_statistics=EmbeddingStatisticsDataModel(embedding_creation_duration=28.45137, avg_embedding_creation_duration=0.37935, embedding_size=1130.73357, avg_embedding_size=15.07645))}}, {'Table Retrieval Task': {'bird-validation': TaskResultsDataModel(retrieval_performance=RetrievalPerformanceDataModel(k=5, accuracy=0.833767926988266, precision=None, recall=None, retrieval_time=1.11189, avg_retrieval_time=0.00072), downstream_task_performance=DownstreamTaskPerformanceDataModel(task_name=None, scores=None), embedding_statistics=EmbeddingStatisticsDataModel(embedding_creation_duration=12.61032, avg_embedding_creation_duration=0.16814, embedding_size=0.0, avg_embedding_size=0.0))}}, {'Table Retrieval Task': {'bird-validation': TaskResultsDataModel(retrieval_performance=RetrievalPerformanceDataModel(k=10, accuracy=0.8428943937418514, precision=None, recall=None, retrieval_time=1.12779, avg_retrieval_time=0.00074), downstream_task_performance=DownstreamTaskPerformanceDataModel(task_name=None, scores=None), embedding_statistics=EmbeddingStatisticsDataModel(embedding_creation_duration=11.57209, avg_embedding_creation_duration=0.15429, embedding_size=0.0, avg_embedding_size=0.0))}}, {'Table Retrieval Task': {'bird-validation': TaskResultsDataModel(retrieval_performance=RetrievalPerformanceDataModel(k=25, accuracy=0.8585397653194263, precision=None, recall=None, retrieval_time=1.15528, avg_retrieval_time=0.00075), downstream_task_performance=DownstreamTaskPerformanceDataModel(task_name=None, scores=None), embedding_statistics=EmbeddingStatisticsDataModel(embedding_creation_duration=11.59861, avg_embedding_creation_duration=0.15465, embedding_size=0.0, avg_embedding_size=0.0))}}, {'Table Retrieval Task': {'bird-validation': TaskResultsDataModel(retrieval_performance=RetrievalPerformanceDataModel(k=50, accuracy=0.8585397653194263, precision=None, recall=None, retrieval_time=1.14377, avg_retrieval_time=0.00075), downstream_task_performance=DownstreamTaskPerformanceDataModel(task_name=None, scores=None), embedding_statistics=EmbeddingStatisticsDataModel(embedding_creation_duration=11.68718, avg_embedding_creation_duration=0.15583, embedding_size=0.0041, avg_embedding_size=5e-05))}}]\n"
     ]
    },
    {
     "name": "stderr",
     "output_type": "stream",
     "text": [
      "\n"
     ]
    }
   ],
   "source": [
    "from target_benchmark.retrievers import OTTQARetriever\n",
    "bm25_with_title = OTTQARetriever(encoding=\"bm25\", withtitle=True)\n",
    "bm25_with_title_results_bird_val = run_eval_for_top_ks(bm25_with_title, \"bm25_with_title\",top_ks, target_bird, \"bird\", \"validation\")"
   ]
  },
  {
   "cell_type": "code",
   "execution_count": 5,
   "id": "502803e7",
   "metadata": {
    "execution": {
     "iopub.execute_input": "2024-09-17T16:27:35.994448Z",
     "iopub.status.busy": "2024-09-17T16:27:35.994107Z",
     "iopub.status.idle": "2024-09-17T16:27:36.000800Z",
     "shell.execute_reply": "2024-09-17T16:27:36.000318Z"
    },
    "papermill": {
     "duration": 0.014569,
     "end_time": "2024-09-17T16:27:36.001962",
     "exception": false,
     "start_time": "2024-09-17T16:27:35.987393",
     "status": "completed"
    },
    "tags": []
   },
   "outputs": [
    {
     "data": {
      "text/plain": [
       "[{'Table Retrieval Task': {'bird-validation': TaskResultsDataModel(retrieval_performance=RetrievalPerformanceDataModel(k=1, accuracy=0.7086049543676662, precision=None, recall=None, retrieval_time=3.22692, avg_retrieval_time=0.0021), downstream_task_performance=DownstreamTaskPerformanceDataModel(task_name=None, scores=None), embedding_statistics=EmbeddingStatisticsDataModel(embedding_creation_duration=28.45137, avg_embedding_creation_duration=0.37935, embedding_size=1130.73357, avg_embedding_size=15.07645))}},\n",
       " {'Table Retrieval Task': {'bird-validation': TaskResultsDataModel(retrieval_performance=RetrievalPerformanceDataModel(k=5, accuracy=0.833767926988266, precision=None, recall=None, retrieval_time=1.11189, avg_retrieval_time=0.00072), downstream_task_performance=DownstreamTaskPerformanceDataModel(task_name=None, scores=None), embedding_statistics=EmbeddingStatisticsDataModel(embedding_creation_duration=12.61032, avg_embedding_creation_duration=0.16814, embedding_size=0.0, avg_embedding_size=0.0))}},\n",
       " {'Table Retrieval Task': {'bird-validation': TaskResultsDataModel(retrieval_performance=RetrievalPerformanceDataModel(k=10, accuracy=0.8428943937418514, precision=None, recall=None, retrieval_time=1.12779, avg_retrieval_time=0.00074), downstream_task_performance=DownstreamTaskPerformanceDataModel(task_name=None, scores=None), embedding_statistics=EmbeddingStatisticsDataModel(embedding_creation_duration=11.57209, avg_embedding_creation_duration=0.15429, embedding_size=0.0, avg_embedding_size=0.0))}},\n",
       " {'Table Retrieval Task': {'bird-validation': TaskResultsDataModel(retrieval_performance=RetrievalPerformanceDataModel(k=25, accuracy=0.8585397653194263, precision=None, recall=None, retrieval_time=1.15528, avg_retrieval_time=0.00075), downstream_task_performance=DownstreamTaskPerformanceDataModel(task_name=None, scores=None), embedding_statistics=EmbeddingStatisticsDataModel(embedding_creation_duration=11.59861, avg_embedding_creation_duration=0.15465, embedding_size=0.0, avg_embedding_size=0.0))}},\n",
       " {'Table Retrieval Task': {'bird-validation': TaskResultsDataModel(retrieval_performance=RetrievalPerformanceDataModel(k=50, accuracy=0.8585397653194263, precision=None, recall=None, retrieval_time=1.14377, avg_retrieval_time=0.00075), downstream_task_performance=DownstreamTaskPerformanceDataModel(task_name=None, scores=None), embedding_statistics=EmbeddingStatisticsDataModel(embedding_creation_duration=11.68718, avg_embedding_creation_duration=0.15583, embedding_size=0.0041, avg_embedding_size=5e-05))}}]"
      ]
     },
     "execution_count": 5,
     "metadata": {},
     "output_type": "execute_result"
    }
   ],
   "source": [
    "bm25_with_title_results_bird_val"
   ]
  }
 ],
 "metadata": {
  "language_info": {
   "codemirror_mode": {
    "name": "ipython",
    "version": 3
   },
   "file_extension": ".py",
   "mimetype": "text/x-python",
   "name": "python",
   "nbconvert_exporter": "python",
   "pygments_lexer": "ipython3",
   "version": "3.12.2"
  },
  "papermill": {
   "default_parameters": {},
   "duration": 24440.952515,
   "end_time": "2024-09-17T16:27:39.164109",
   "environment_variables": {},
   "exception": true,
   "input_path": "run_bird_eval.ipynb",
   "output_path": "out.ipynb",
   "parameters": {},
   "start_time": "2024-09-17T09:40:18.211594",
   "version": "2.6.0"
  },
  "widgets": {
   "application/vnd.jupyter.widget-state+json": {
    "state": {
     "3b3e55c421d94f25949f5805bfbc5769": {
      "model_module": "@jupyter-widgets/controls",
      "model_module_version": "1.5.0",
      "model_name": "DescriptionStyleModel",
      "state": {
       "_model_module": "@jupyter-widgets/controls",
       "_model_module_version": "1.5.0",
       "_model_name": "DescriptionStyleModel",
       "_view_count": null,
       "_view_module": "@jupyter-widgets/base",
       "_view_module_version": "1.2.0",
       "_view_name": "StyleView",
       "description_width": ""
      }
     },
     "42e622e5a8b84b0aaf27deb834d12890": {
      "model_module": "@jupyter-widgets/controls",
      "model_module_version": "1.5.0",
      "model_name": "DescriptionStyleModel",
      "state": {
       "_model_module": "@jupyter-widgets/controls",
       "_model_module_version": "1.5.0",
       "_model_name": "DescriptionStyleModel",
       "_view_count": null,
       "_view_module": "@jupyter-widgets/base",
       "_view_module_version": "1.2.0",
       "_view_name": "StyleView",
       "description_width": ""
      }
     },
     "6032e67d1acd4f6db0f9de4dd7dcdb12": {
      "model_module": "@jupyter-widgets/controls",
      "model_module_version": "1.5.0",
      "model_name": "HBoxModel",
      "state": {
       "_dom_classes": [],
       "_model_module": "@jupyter-widgets/controls",
       "_model_module_version": "1.5.0",
       "_model_name": "HBoxModel",
       "_view_count": null,
       "_view_module": "@jupyter-widgets/controls",
       "_view_module_version": "1.5.0",
       "_view_name": "HBoxView",
       "box_style": "",
       "children": [
        "IPY_MODEL_a24ecc26518c421ea8ab2a37ed10c116",
        "IPY_MODEL_73845da5f43141ffb7af7c45c1bf5f30",
        "IPY_MODEL_e39e20d2ef534e3cbedcf4d3ffc21230"
       ],
       "layout": "IPY_MODEL_b4c1f114865b45ec839c75c14c6c02ca"
      }
     },
     "73845da5f43141ffb7af7c45c1bf5f30": {
      "model_module": "@jupyter-widgets/controls",
      "model_module_version": "1.5.0",
      "model_name": "FloatProgressModel",
      "state": {
       "_dom_classes": [],
       "_model_module": "@jupyter-widgets/controls",
       "_model_module_version": "1.5.0",
       "_model_name": "FloatProgressModel",
       "_view_count": null,
       "_view_module": "@jupyter-widgets/controls",
       "_view_module_version": "1.5.0",
       "_view_name": "ProgressView",
       "bar_style": "success",
       "description": "",
       "description_tooltip": null,
       "layout": "IPY_MODEL_c5a53afc69d64f249da7218309c16eb8",
       "max": 104,
       "min": 0,
       "orientation": "horizontal",
       "style": "IPY_MODEL_f5d85394fe2747d88598264bf4f95728",
       "value": 104
      }
     },
     "8420a1c4a02848c6b50f7f9bb4fdf753": {
      "model_module": "@jupyter-widgets/base",
      "model_module_version": "1.2.0",
      "model_name": "LayoutModel",
      "state": {
       "_model_module": "@jupyter-widgets/base",
       "_model_module_version": "1.2.0",
       "_model_name": "LayoutModel",
       "_view_count": null,
       "_view_module": "@jupyter-widgets/base",
       "_view_module_version": "1.2.0",
       "_view_name": "LayoutView",
       "align_content": null,
       "align_items": null,
       "align_self": null,
       "border": null,
       "bottom": null,
       "display": null,
       "flex": null,
       "flex_flow": null,
       "grid_area": null,
       "grid_auto_columns": null,
       "grid_auto_flow": null,
       "grid_auto_rows": null,
       "grid_column": null,
       "grid_gap": null,
       "grid_row": null,
       "grid_template_areas": null,
       "grid_template_columns": null,
       "grid_template_rows": null,
       "height": null,
       "justify_content": null,
       "justify_items": null,
       "left": null,
       "margin": null,
       "max_height": null,
       "max_width": null,
       "min_height": null,
       "min_width": null,
       "object_fit": null,
       "object_position": null,
       "order": null,
       "overflow": null,
       "overflow_x": null,
       "overflow_y": null,
       "padding": null,
       "right": null,
       "top": null,
       "visibility": null,
       "width": null
      }
     },
     "a24ecc26518c421ea8ab2a37ed10c116": {
      "model_module": "@jupyter-widgets/controls",
      "model_module_version": "1.5.0",
      "model_name": "HTMLModel",
      "state": {
       "_dom_classes": [],
       "_model_module": "@jupyter-widgets/controls",
       "_model_module_version": "1.5.0",
       "_model_name": "HTMLModel",
       "_view_count": null,
       "_view_module": "@jupyter-widgets/controls",
       "_view_module_version": "1.5.0",
       "_view_name": "HTMLView",
       "description": "",
       "description_tooltip": null,
       "layout": "IPY_MODEL_8420a1c4a02848c6b50f7f9bb4fdf753",
       "placeholder": "​",
       "style": "IPY_MODEL_42e622e5a8b84b0aaf27deb834d12890",
       "value": "Fetching 104 files: 100%"
      }
     },
     "b4c1f114865b45ec839c75c14c6c02ca": {
      "model_module": "@jupyter-widgets/base",
      "model_module_version": "1.2.0",
      "model_name": "LayoutModel",
      "state": {
       "_model_module": "@jupyter-widgets/base",
       "_model_module_version": "1.2.0",
       "_model_name": "LayoutModel",
       "_view_count": null,
       "_view_module": "@jupyter-widgets/base",
       "_view_module_version": "1.2.0",
       "_view_name": "LayoutView",
       "align_content": null,
       "align_items": null,
       "align_self": null,
       "border": null,
       "bottom": null,
       "display": null,
       "flex": null,
       "flex_flow": null,
       "grid_area": null,
       "grid_auto_columns": null,
       "grid_auto_flow": null,
       "grid_auto_rows": null,
       "grid_column": null,
       "grid_gap": null,
       "grid_row": null,
       "grid_template_areas": null,
       "grid_template_columns": null,
       "grid_template_rows": null,
       "height": null,
       "justify_content": null,
       "justify_items": null,
       "left": null,
       "margin": null,
       "max_height": null,
       "max_width": null,
       "min_height": null,
       "min_width": null,
       "object_fit": null,
       "object_position": null,
       "order": null,
       "overflow": null,
       "overflow_x": null,
       "overflow_y": null,
       "padding": null,
       "right": null,
       "top": null,
       "visibility": null,
       "width": null
      }
     },
     "c5a53afc69d64f249da7218309c16eb8": {
      "model_module": "@jupyter-widgets/base",
      "model_module_version": "1.2.0",
      "model_name": "LayoutModel",
      "state": {
       "_model_module": "@jupyter-widgets/base",
       "_model_module_version": "1.2.0",
       "_model_name": "LayoutModel",
       "_view_count": null,
       "_view_module": "@jupyter-widgets/base",
       "_view_module_version": "1.2.0",
       "_view_name": "LayoutView",
       "align_content": null,
       "align_items": null,
       "align_self": null,
       "border": null,
       "bottom": null,
       "display": null,
       "flex": null,
       "flex_flow": null,
       "grid_area": null,
       "grid_auto_columns": null,
       "grid_auto_flow": null,
       "grid_auto_rows": null,
       "grid_column": null,
       "grid_gap": null,
       "grid_row": null,
       "grid_template_areas": null,
       "grid_template_columns": null,
       "grid_template_rows": null,
       "height": null,
       "justify_content": null,
       "justify_items": null,
       "left": null,
       "margin": null,
       "max_height": null,
       "max_width": null,
       "min_height": null,
       "min_width": null,
       "object_fit": null,
       "object_position": null,
       "order": null,
       "overflow": null,
       "overflow_x": null,
       "overflow_y": null,
       "padding": null,
       "right": null,
       "top": null,
       "visibility": null,
       "width": null
      }
     },
     "d7c85d5dd37a4883a456b1f25ec49e44": {
      "model_module": "@jupyter-widgets/base",
      "model_module_version": "1.2.0",
      "model_name": "LayoutModel",
      "state": {
       "_model_module": "@jupyter-widgets/base",
       "_model_module_version": "1.2.0",
       "_model_name": "LayoutModel",
       "_view_count": null,
       "_view_module": "@jupyter-widgets/base",
       "_view_module_version": "1.2.0",
       "_view_name": "LayoutView",
       "align_content": null,
       "align_items": null,
       "align_self": null,
       "border": null,
       "bottom": null,
       "display": null,
       "flex": null,
       "flex_flow": null,
       "grid_area": null,
       "grid_auto_columns": null,
       "grid_auto_flow": null,
       "grid_auto_rows": null,
       "grid_column": null,
       "grid_gap": null,
       "grid_row": null,
       "grid_template_areas": null,
       "grid_template_columns": null,
       "grid_template_rows": null,
       "height": null,
       "justify_content": null,
       "justify_items": null,
       "left": null,
       "margin": null,
       "max_height": null,
       "max_width": null,
       "min_height": null,
       "min_width": null,
       "object_fit": null,
       "object_position": null,
       "order": null,
       "overflow": null,
       "overflow_x": null,
       "overflow_y": null,
       "padding": null,
       "right": null,
       "top": null,
       "visibility": null,
       "width": null
      }
     },
     "e39e20d2ef534e3cbedcf4d3ffc21230": {
      "model_module": "@jupyter-widgets/controls",
      "model_module_version": "1.5.0",
      "model_name": "HTMLModel",
      "state": {
       "_dom_classes": [],
       "_model_module": "@jupyter-widgets/controls",
       "_model_module_version": "1.5.0",
       "_model_name": "HTMLModel",
       "_view_count": null,
       "_view_module": "@jupyter-widgets/controls",
       "_view_module_version": "1.5.0",
       "_view_name": "HTMLView",
       "description": "",
       "description_tooltip": null,
       "layout": "IPY_MODEL_d7c85d5dd37a4883a456b1f25ec49e44",
       "placeholder": "​",
       "style": "IPY_MODEL_3b3e55c421d94f25949f5805bfbc5769",
       "value": " 104/104 [00:00&lt;00:00, 2976.08it/s]"
      }
     },
     "f5d85394fe2747d88598264bf4f95728": {
      "model_module": "@jupyter-widgets/controls",
      "model_module_version": "1.5.0",
      "model_name": "ProgressStyleModel",
      "state": {
       "_model_module": "@jupyter-widgets/controls",
       "_model_module_version": "1.5.0",
       "_model_name": "ProgressStyleModel",
       "_view_count": null,
       "_view_module": "@jupyter-widgets/base",
       "_view_module_version": "1.2.0",
       "_view_name": "StyleView",
       "bar_color": null,
       "description_width": ""
      }
     }
    },
    "version_major": 2,
    "version_minor": 0
   }
  }
 },
 "nbformat": 4,
 "nbformat_minor": 5
}
