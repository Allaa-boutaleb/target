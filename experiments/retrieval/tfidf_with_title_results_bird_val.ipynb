{
 "cells": [
  {
   "cell_type": "code",
   "execution_count": 1,
   "id": "405b83ea",
   "metadata": {
    "execution": {
     "iopub.execute_input": "2024-09-18T03:56:15.931220Z",
     "iopub.status.busy": "2024-09-18T03:56:15.930790Z",
     "iopub.status.idle": "2024-09-18T03:56:27.793289Z",
     "shell.execute_reply": "2024-09-18T03:56:27.792733Z"
    },
    "papermill": {
     "duration": 11.866811,
     "end_time": "2024-09-18T03:56:27.795046",
     "exception": false,
     "start_time": "2024-09-18T03:56:15.928235",
     "status": "completed"
    },
    "tags": []
   },
   "outputs": [
    {
     "name": "stderr",
     "output_type": "stream",
     "text": [
      "2024-09-18 08:18:21.862972: I external/local_tsl/tsl/cuda/cudart_stub.cc:32] Could not find cuda drivers on your machine, GPU will not be used.\n",
      "2024-09-18 08:18:21.866816: I external/local_tsl/tsl/cuda/cudart_stub.cc:32] Could not find cuda drivers on your machine, GPU will not be used.\n",
      "2024-09-18 08:18:21.920983: I tensorflow/core/platform/cpu_feature_guard.cc:210] This TensorFlow binary is optimized to use available CPU instructions in performance-critical operations.\n",
      "To enable the following instructions: AVX2 FMA, in other operations, rebuild TensorFlow with the appropriate compiler flags.\n",
      "2024-09-18 08:18:23.024368: W tensorflow/compiler/tf2tensorrt/utils/py_utils.cc:38] TF-TRT Warning: Could not find TensorRT\n"
     ]
    }
   ],
   "source": [
    "from target_benchmark.evaluators import TARGET, get_task_names\n",
    "target_bird = TARGET((\"Table Retrieval Task\", \"bird-validation\"))"
   ]
  },
  {
   "cell_type": "code",
   "execution_count": 2,
   "id": "2736d67b",
   "metadata": {
    "execution": {
     "iopub.execute_input": "2024-09-18T03:56:27.799386Z",
     "iopub.status.busy": "2024-09-18T03:56:27.798686Z",
     "iopub.status.idle": "2024-09-18T03:56:27.801844Z",
     "shell.execute_reply": "2024-09-18T03:56:27.801363Z"
    },
    "papermill": {
     "duration": 0.006245,
     "end_time": "2024-09-18T03:56:27.802991",
     "exception": false,
     "start_time": "2024-09-18T03:56:27.796746",
     "status": "completed"
    },
    "tags": []
   },
   "outputs": [],
   "source": [
    "top_ks = [1, 5, 10, 25, 50]"
   ]
  },
  {
   "cell_type": "code",
   "execution_count": 3,
   "id": "3e5c09b2",
   "metadata": {
    "execution": {
     "iopub.execute_input": "2024-09-18T03:56:27.806639Z",
     "iopub.status.busy": "2024-09-18T03:56:27.806113Z",
     "iopub.status.idle": "2024-09-18T03:56:27.809954Z",
     "shell.execute_reply": "2024-09-18T03:56:27.809290Z"
    },
    "papermill": {
     "duration": 0.006851,
     "end_time": "2024-09-18T03:56:27.811084",
     "exception": false,
     "start_time": "2024-09-18T03:56:27.804233",
     "status": "completed"
    },
    "tags": []
   },
   "outputs": [],
   "source": [
    "def run_eval_for_top_ks(retriever, retriever_name: str, top_ks: list[int], target: TARGET, dataset_name: str, split: str):\n",
    "    results = []\n",
    "    for top_k in top_ks:\n",
    "        outcome = target.run(retriever=retriever, split=split, batch_size=100, top_k=top_k, retrieval_results_file=f\"./{retriever_name}/{dataset_name}_{top_k}.jsonl\")\n",
    "        results.append(outcome)\n",
    "        print(outcome)\n",
    "    return results\n",
    "    "
   ]
  },
  {
   "cell_type": "code",
   "execution_count": 4,
   "id": "70ba0c6f",
   "metadata": {
    "execution": {
     "iopub.execute_input": "2024-09-18T03:56:27.814507Z",
     "iopub.status.busy": "2024-09-18T03:56:27.814076Z",
     "iopub.status.idle": "2024-09-18T08:17:42.204292Z",
     "shell.execute_reply": "2024-09-18T08:17:42.203365Z"
    },
    "papermill": {
     "duration": 15673.964804,
     "end_time": "2024-09-18T08:17:41.777112",
     "exception": false,
     "start_time": "2024-09-18T03:56:27.812308",
     "status": "completed"
    },
    "tags": []
   },
   "outputs": [
    {
     "name": "stdout",
     "output_type": "stream",
     "text": [
      "running tfidf with title on bird!\n"
     ]
    },
    {
     "data": {
      "application/vnd.jupyter.widget-view+json": {
       "model_id": "a4874d37593346138f814aa8cc579e30",
       "version_major": 2,
       "version_minor": 0
      },
      "text/plain": [
       "Fetching 104 files:   0%|          | 0/104 [00:00<?, ?it/s]"
      ]
     },
     "metadata": {},
     "output_type": "display_data"
    },
    {
     "name": "stderr",
     "output_type": "stream",
     "text": [
      "1it [00:00, 1261.07it/s]:00<?, ?it/s]\n",
      "100%|██████████| 1/1 [00:00<00:00, 150.24it/s]\n",
      "Retrieving Tables for bird-validation...: 100%|██████████| 1534/1534 [00:03<00:00, 419.26it/s]\n"
     ]
    },
    {
     "name": "stdout",
     "output_type": "stream",
     "text": [
      "{'Table Retrieval Task': {'bird-validation': TaskResultsDataModel(retrieval_performance=RetrievalPerformanceDataModel(k=1, accuracy=0.6401564537157758, precision=None, recall=None, retrieval_time=3.6334, avg_retrieval_time=0.00237), downstream_task_performance=DownstreamTaskPerformanceDataModel(task_name=None, scores=None), embedding_statistics=EmbeddingStatisticsDataModel(embedding_creation_duration=13.27682, avg_embedding_creation_duration=0.17702, embedding_size=0.24986, avg_embedding_size=0.00333))}}\n"
     ]
    },
    {
     "name": "stderr",
     "output_type": "stream",
     "text": [
      "1it [00:00, 951.31it/s]0:00<?, ?it/s]\n",
      "100%|██████████| 1/1 [00:00<00:00, 198.85it/s]\n",
      "Retrieving Tables for bird-validation...: 100%|██████████| 1534/1534 [00:01<00:00, 1326.15it/s]\n"
     ]
    },
    {
     "name": "stdout",
     "output_type": "stream",
     "text": [
      "{'Table Retrieval Task': {'bird-validation': TaskResultsDataModel(retrieval_performance=RetrievalPerformanceDataModel(k=5, accuracy=0.833116036505867, precision=None, recall=None, retrieval_time=1.11568, avg_retrieval_time=0.00073), downstream_task_performance=DownstreamTaskPerformanceDataModel(task_name=None, scores=None), embedding_statistics=EmbeddingStatisticsDataModel(embedding_creation_duration=13.0911, avg_embedding_creation_duration=0.17455, embedding_size=0.08602, avg_embedding_size=0.00115))}}\n"
     ]
    },
    {
     "name": "stderr",
     "output_type": "stream",
     "text": [
      "1it [00:00, 997.46it/s]0:00<?, ?it/s]\n",
      "100%|██████████| 1/1 [00:00<00:00, 177.60it/s]\n",
      "Retrieving Tables for bird-validation...: 100%|██████████| 1534/1534 [00:01<00:00, 1291.86it/s]\n"
     ]
    },
    {
     "name": "stdout",
     "output_type": "stream",
     "text": [
      "{'Table Retrieval Task': {'bird-validation': TaskResultsDataModel(retrieval_performance=RetrievalPerformanceDataModel(k=10, accuracy=0.8461538461538461, precision=None, recall=None, retrieval_time=1.15022, avg_retrieval_time=0.00075), downstream_task_performance=DownstreamTaskPerformanceDataModel(task_name=None, scores=None), embedding_statistics=EmbeddingStatisticsDataModel(embedding_creation_duration=13.16025, avg_embedding_creation_duration=0.17547, embedding_size=0.18022, avg_embedding_size=0.0024))}}\n"
     ]
    },
    {
     "name": "stderr",
     "output_type": "stream",
     "text": [
      "1it [00:00, 1226.76it/s]:00<?, ?it/s]\n",
      "100%|██████████| 1/1 [00:00<00:00, 183.46it/s]\n",
      "Retrieving Tables for bird-validation...: 100%|██████████| 1534/1534 [00:01<00:00, 1307.84it/s]\n"
     ]
    },
    {
     "name": "stdout",
     "output_type": "stream",
     "text": [
      "{'Table Retrieval Task': {'bird-validation': TaskResultsDataModel(retrieval_performance=RetrievalPerformanceDataModel(k=25, accuracy=0.8585397653194263, precision=None, recall=None, retrieval_time=1.13577, avg_retrieval_time=0.00074), downstream_task_performance=DownstreamTaskPerformanceDataModel(task_name=None, scores=None), embedding_statistics=EmbeddingStatisticsDataModel(embedding_creation_duration=13.24553, avg_embedding_creation_duration=0.17661, embedding_size=0.24166, avg_embedding_size=0.00322))}}\n"
     ]
    },
    {
     "name": "stderr",
     "output_type": "stream",
     "text": [
      "1it [00:00, 985.74it/s]0:00<?, ?it/s]\n",
      "100%|██████████| 1/1 [00:00<00:00, 200.94it/s]\n",
      "Retrieving Tables for bird-validation...: 100%|██████████| 1534/1534 [00:01<00:00, 1315.88it/s]"
     ]
    },
    {
     "name": "stdout",
     "output_type": "stream",
     "text": [
      "{'Table Retrieval Task': {'bird-validation': TaskResultsDataModel(retrieval_performance=RetrievalPerformanceDataModel(k=50, accuracy=0.8585397653194263, precision=None, recall=None, retrieval_time=1.12822, avg_retrieval_time=0.00074), downstream_task_performance=DownstreamTaskPerformanceDataModel(task_name=None, scores=None), embedding_statistics=EmbeddingStatisticsDataModel(embedding_creation_duration=13.23669, avg_embedding_creation_duration=0.17649, embedding_size=0.26624, avg_embedding_size=0.00355))}}\n"
     ]
    },
    {
     "name": "stderr",
     "output_type": "stream",
     "text": [
      "\n"
     ]
    }
   ],
   "source": [
    "from target_benchmark.retrievers import OTTQARetriever\n",
    "tfidf_with_title = OTTQARetriever(encoding=\"tfidf\", withtitle=True)\n",
    "print(\"running tfidf with title on bird!\")\n",
    "tfidf_with_title_results_bird_val = run_eval_for_top_ks(tfidf_with_title, \"tfidf_with_title\",top_ks, target_bird, \"bird\", \"validation\")"
   ]
  },
  {
   "cell_type": "code",
   "execution_count": 5,
   "id": "d12fa830",
   "metadata": {
    "papermill": {
     "duration": null,
     "end_time": null,
     "exception": null,
     "start_time": null,
     "status": "completed"
    },
    "tags": []
   },
   "outputs": [
    {
     "data": {
      "text/plain": [
       "[{'Table Retrieval Task': {'bird-validation': TaskResultsDataModel(retrieval_performance=RetrievalPerformanceDataModel(k=1, accuracy=0.6401564537157758, precision=None, recall=None, retrieval_time=3.6334, avg_retrieval_time=0.00237), downstream_task_performance=DownstreamTaskPerformanceDataModel(task_name=None, scores=None), embedding_statistics=EmbeddingStatisticsDataModel(embedding_creation_duration=13.27682, avg_embedding_creation_duration=0.17702, embedding_size=0.24986, avg_embedding_size=0.00333))}},\n",
       " {'Table Retrieval Task': {'bird-validation': TaskResultsDataModel(retrieval_performance=RetrievalPerformanceDataModel(k=5, accuracy=0.833116036505867, precision=None, recall=None, retrieval_time=1.11568, avg_retrieval_time=0.00073), downstream_task_performance=DownstreamTaskPerformanceDataModel(task_name=None, scores=None), embedding_statistics=EmbeddingStatisticsDataModel(embedding_creation_duration=13.0911, avg_embedding_creation_duration=0.17455, embedding_size=0.08602, avg_embedding_size=0.00115))}},\n",
       " {'Table Retrieval Task': {'bird-validation': TaskResultsDataModel(retrieval_performance=RetrievalPerformanceDataModel(k=10, accuracy=0.8461538461538461, precision=None, recall=None, retrieval_time=1.15022, avg_retrieval_time=0.00075), downstream_task_performance=DownstreamTaskPerformanceDataModel(task_name=None, scores=None), embedding_statistics=EmbeddingStatisticsDataModel(embedding_creation_duration=13.16025, avg_embedding_creation_duration=0.17547, embedding_size=0.18022, avg_embedding_size=0.0024))}},\n",
       " {'Table Retrieval Task': {'bird-validation': TaskResultsDataModel(retrieval_performance=RetrievalPerformanceDataModel(k=25, accuracy=0.8585397653194263, precision=None, recall=None, retrieval_time=1.13577, avg_retrieval_time=0.00074), downstream_task_performance=DownstreamTaskPerformanceDataModel(task_name=None, scores=None), embedding_statistics=EmbeddingStatisticsDataModel(embedding_creation_duration=13.24553, avg_embedding_creation_duration=0.17661, embedding_size=0.24166, avg_embedding_size=0.00322))}},\n",
       " {'Table Retrieval Task': {'bird-validation': TaskResultsDataModel(retrieval_performance=RetrievalPerformanceDataModel(k=50, accuracy=0.8585397653194263, precision=None, recall=None, retrieval_time=1.12822, avg_retrieval_time=0.00074), downstream_task_performance=DownstreamTaskPerformanceDataModel(task_name=None, scores=None), embedding_statistics=EmbeddingStatisticsDataModel(embedding_creation_duration=13.23669, avg_embedding_creation_duration=0.17649, embedding_size=0.26624, avg_embedding_size=0.00355))}}]"
      ]
     },
     "execution_count": 5,
     "metadata": {},
     "output_type": "execute_result"
    }
   ],
   "source": [
    "tfidf_with_title_results_bird_val"
   ]
  }
 ],
 "metadata": {
  "kernelspec": {
   "display_name": "target",
   "language": "python",
   "name": "python3"
  },
  "language_info": {
   "codemirror_mode": {
    "name": "ipython",
    "version": 3
   },
   "file_extension": ".py",
   "mimetype": "text/x-python",
   "name": "python",
   "nbconvert_exporter": "python",
   "pygments_lexer": "ipython3",
   "version": "3.12.2"
  },
  "papermill": {
   "default_parameters": {},
   "duration": 15689.769918,
   "end_time": "2024-09-18T08:17:44.476714",
   "environment_variables": {},
   "exception": null,
   "input_path": "tfidf_with_title_results_bird_val_in.ipynb",
   "output_path": "tfidf_with_title_results_bird_val.ipynb",
   "parameters": {},
   "start_time": "2024-09-18T03:56:14.706796",
   "version": "2.6.0"
  }
 },
 "nbformat": 4,
 "nbformat_minor": 5
}
