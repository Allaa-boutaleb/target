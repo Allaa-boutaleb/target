{
 "cells": [
  {
   "cell_type": "code",
   "execution_count": 1,
   "id": "405b83ea",
   "metadata": {
    "execution": {
     "iopub.execute_input": "2024-09-18T03:56:15.931220Z",
     "iopub.status.busy": "2024-09-18T03:56:15.930790Z",
     "iopub.status.idle": "2024-09-18T03:56:27.793289Z",
     "shell.execute_reply": "2024-09-18T03:56:27.792733Z"
    },
    "papermill": {
     "duration": 11.866811,
     "end_time": "2024-09-18T03:56:27.795046",
     "exception": false,
     "start_time": "2024-09-18T03:56:15.928235",
     "status": "completed"
    },
    "tags": []
   },
   "outputs": [
    {
     "name": "stderr",
     "output_type": "stream",
     "text": [
      "2024-09-18 03:56:24.461538: I external/local_tsl/tsl/cuda/cudart_stub.cc:32] Could not find cuda drivers on your machine, GPU will not be used.\n",
      "2024-09-18 03:56:24.614686: I external/local_tsl/tsl/cuda/cudart_stub.cc:32] Could not find cuda drivers on your machine, GPU will not be used.\n",
      "2024-09-18 03:56:25.161401: I tensorflow/core/platform/cpu_feature_guard.cc:210] This TensorFlow binary is optimized to use available CPU instructions in performance-critical operations.\n",
      "To enable the following instructions: AVX2 FMA, in other operations, rebuild TensorFlow with the appropriate compiler flags.\n"
     ]
    },
    {
     "name": "stderr",
     "output_type": "stream",
     "text": [
      "2024-09-18 03:56:26.589649: W tensorflow/compiler/tf2tensorrt/utils/py_utils.cc:38] TF-TRT Warning: Could not find TensorRT\n"
     ]
    }
   ],
   "source": [
    "from target_benchmark.evaluators import TARGET, get_task_names\n",
    "target_bird = TARGET((\"Table Retrieval Task\", \"bird-validation\"))"
   ]
  },
  {
   "cell_type": "code",
   "execution_count": 2,
   "id": "2736d67b",
   "metadata": {
    "execution": {
     "iopub.execute_input": "2024-09-18T03:56:27.799386Z",
     "iopub.status.busy": "2024-09-18T03:56:27.798686Z",
     "iopub.status.idle": "2024-09-18T03:56:27.801844Z",
     "shell.execute_reply": "2024-09-18T03:56:27.801363Z"
    },
    "papermill": {
     "duration": 0.006245,
     "end_time": "2024-09-18T03:56:27.802991",
     "exception": false,
     "start_time": "2024-09-18T03:56:27.796746",
     "status": "completed"
    },
    "tags": []
   },
   "outputs": [],
   "source": [
    "top_ks = [1, 5, 10, 25, 50]"
   ]
  },
  {
   "cell_type": "code",
   "execution_count": 3,
   "id": "3e5c09b2",
   "metadata": {
    "execution": {
     "iopub.execute_input": "2024-09-18T03:56:27.806639Z",
     "iopub.status.busy": "2024-09-18T03:56:27.806113Z",
     "iopub.status.idle": "2024-09-18T03:56:27.809954Z",
     "shell.execute_reply": "2024-09-18T03:56:27.809290Z"
    },
    "papermill": {
     "duration": 0.006851,
     "end_time": "2024-09-18T03:56:27.811084",
     "exception": false,
     "start_time": "2024-09-18T03:56:27.804233",
     "status": "completed"
    },
    "tags": []
   },
   "outputs": [],
   "source": [
    "def run_eval_for_top_ks(retriever, retriever_name: str, top_ks: list[int], target: TARGET, dataset_name: str, split: str):\n",
    "    results = []\n",
    "    for top_k in top_ks:\n",
    "        outcome = target.run(retriever=retriever, split=split, batch_size=100, top_k=top_k, retrieval_results_file=f\"./{retriever_name}/{dataset_name}_{top_k}.jsonl\")\n",
    "        results.append(outcome)\n",
    "        print(outcome)\n",
    "    return results\n",
    "    "
   ]
  },
  {
   "cell_type": "code",
   "execution_count": 4,
   "id": "70ba0c6f",
   "metadata": {
    "execution": {
     "iopub.execute_input": "2024-09-18T03:56:27.814507Z",
     "iopub.status.busy": "2024-09-18T03:56:27.814076Z"
    },
    "papermill": {
     "duration": null,
     "end_time": null,
     "exception": false,
     "start_time": "2024-09-18T03:56:27.812308",
     "status": "running"
    },
    "tags": []
   },
   "outputs": [
    {
     "name": "stdout",
     "output_type": "stream",
     "text": [
      "running tfidf with title on bird!\n"
     ]
    },
    {
     "data": {
      "application/vnd.jupyter.widget-view+json": {
       "model_id": "6a9e97b19cc943cdbb7f658126ad0035",
       "version_major": 2,
       "version_minor": 0
      },
      "text/plain": [
       "Fetching 104 files:   0%|          | 0/104 [00:00<?, ?it/s]"
      ]
     },
     "metadata": {},
     "output_type": "display_data"
    },
    {
     "name": "stderr",
     "output_type": "stream",
     "text": [
      "\r",
      "  0%|                                                                                     | 0/1 [00:00<?, ?it/s]"
     ]
    },
    {
     "name": "stderr",
     "output_type": "stream",
     "text": [
      "\n"
     ]
    },
    {
     "name": "stderr",
     "output_type": "stream",
     "text": [
      "\r",
      "0it [00:00, ?it/s]"
     ]
    },
    {
     "name": "stderr",
     "output_type": "stream",
     "text": [
      "\u001b[A"
     ]
    },
    {
     "name": "stderr",
     "output_type": "stream",
     "text": [
      "\r",
      "1it [00:00, 1501.72it/s]"
     ]
    },
    {
     "name": "stderr",
     "output_type": "stream",
     "text": [
      "\n",
      "\r",
      "100%|████████████████████████████████████████████████████████████████████████████| 1/1 [00:00<00:00, 190.73it/s]"
     ]
    },
    {
     "name": "stderr",
     "output_type": "stream",
     "text": [
      "\n"
     ]
    },
    {
     "name": "stderr",
     "output_type": "stream",
     "text": [
      "\r",
      "Retrieving Tables for bird-validation...:   0%|                                        | 0/1534 [00:00<?, ?it/s]"
     ]
    },
    {
     "name": "stderr",
     "output_type": "stream",
     "text": [
      "\r",
      "Retrieving Tables for bird-validation...:   7%|█▉                            | 100/1534 [00:08<01:59, 12.00it/s]"
     ]
    },
    {
     "name": "stderr",
     "output_type": "stream",
     "text": [
      "\r",
      "Retrieving Tables for bird-validation...:   7%|█▉                            | 100/1534 [00:23<01:59, 12.00it/s]"
     ]
    },
    {
     "name": "stderr",
     "output_type": "stream",
     "text": [
      "\r",
      "Retrieving Tables for bird-validation...:  13%|███▉                          | 200/1534 [01:05<08:13,  2.70it/s]"
     ]
    },
    {
     "name": "stderr",
     "output_type": "stream",
     "text": [
      "\r",
      "Retrieving Tables for bird-validation...:  20%|█████▊                        | 300/1534 [01:44<07:46,  2.65it/s]"
     ]
    },
    {
     "name": "stderr",
     "output_type": "stream",
     "text": [
      "\r",
      "Retrieving Tables for bird-validation...:  26%|███████▊                      | 400/1534 [03:09<10:39,  1.77it/s]"
     ]
    },
    {
     "name": "stderr",
     "output_type": "stream",
     "text": [
      "\r",
      "Retrieving Tables for bird-validation...:  33%|█████████▊                    | 500/1534 [05:07<13:35,  1.27it/s]"
     ]
    },
    {
     "name": "stderr",
     "output_type": "stream",
     "text": [
      "\r",
      "Retrieving Tables for bird-validation...:  39%|███████████▋                  | 600/1534 [10:10<24:06,  1.55s/it]"
     ]
    },
    {
     "name": "stderr",
     "output_type": "stream",
     "text": [
      "\r",
      "Retrieving Tables for bird-validation...:  46%|█████████████▋                | 700/1534 [17:03<33:16,  2.39s/it]"
     ]
    },
    {
     "name": "stderr",
     "output_type": "stream",
     "text": [
      "\r",
      "Retrieving Tables for bird-validation...:  52%|███████████████▋              | 800/1534 [17:48<21:42,  1.77s/it]"
     ]
    },
    {
     "name": "stderr",
     "output_type": "stream",
     "text": [
      "\r",
      "Retrieving Tables for bird-validation...:  59%|█████████████████▌            | 900/1534 [18:06<13:29,  1.28s/it]"
     ]
    },
    {
     "name": "stderr",
     "output_type": "stream",
     "text": [
      "\r",
      "Retrieving Tables for bird-validation...:  65%|██████████████████▉          | 1000/1534 [18:18<08:10,  1.09it/s]"
     ]
    },
    {
     "name": "stderr",
     "output_type": "stream",
     "text": [
      "\r",
      "Retrieving Tables for bird-validation...:  72%|████████████████████▊        | 1100/1534 [20:22<07:21,  1.02s/it]"
     ]
    },
    {
     "name": "stderr",
     "output_type": "stream",
     "text": [
      "\r",
      "Retrieving Tables for bird-validation...:  78%|██████████████████████▋      | 1200/1534 [24:01<07:39,  1.37s/it]"
     ]
    },
    {
     "name": "stderr",
     "output_type": "stream",
     "text": [
      "\r",
      "Retrieving Tables for bird-validation...:  85%|████████████████████████▌    | 1300/1534 [24:21<03:58,  1.02s/it]"
     ]
    },
    {
     "name": "stderr",
     "output_type": "stream",
     "text": [
      "\r",
      "Retrieving Tables for bird-validation...:  91%|██████████████████████████▍  | 1400/1534 [24:31<01:39,  1.35it/s]"
     ]
    },
    {
     "name": "stderr",
     "output_type": "stream",
     "text": [
      "\r",
      "Retrieving Tables for bird-validation...:  98%|████████████████████████████▎| 1500/1534 [24:41<00:18,  1.83it/s]"
     ]
    },
    {
     "name": "stderr",
     "output_type": "stream",
     "text": [
      "\r",
      "Retrieving Tables for bird-validation...: 1600it [24:53,  2.39it/s]                                             "
     ]
    },
    {
     "name": "stderr",
     "output_type": "stream",
     "text": [
      "\r",
      "Retrieving Tables for bird-validation...: 100%|█████████████████████████████| 1534/1534 [24:53<00:00,  1.03it/s]"
     ]
    },
    {
     "name": "stderr",
     "output_type": "stream",
     "text": [
      "\n"
     ]
    },
    {
     "name": "stdout",
     "output_type": "stream",
     "text": [
      "{'Table Retrieval Task': {'bird-validation': TaskResultsDataModel(retrieval_performance=RetrievalPerformanceDataModel(k=1, accuracy=0.6401564537157758, precision=None, recall=None, retrieval_time=3.34152, avg_retrieval_time=0.00218), downstream_task_performance=DownstreamTaskPerformanceDataModel(task_name=None, scores=None), embedding_statistics=EmbeddingStatisticsDataModel(embedding_creation_duration=12.79493, avg_embedding_creation_duration=0.1706, embedding_size=0.0041, avg_embedding_size=5e-05))}}\n"
     ]
    },
    {
     "name": "stderr",
     "output_type": "stream",
     "text": [
      "\r",
      "  0%|                                                                                    | 0/1 [00:00<?, ?it/s]"
     ]
    },
    {
     "name": "stderr",
     "output_type": "stream",
     "text": [
      "\n"
     ]
    },
    {
     "name": "stderr",
     "output_type": "stream",
     "text": [
      "\r",
      "0it [00:00, ?it/s]"
     ]
    },
    {
     "name": "stderr",
     "output_type": "stream",
     "text": [
      "\u001b[A"
     ]
    },
    {
     "name": "stderr",
     "output_type": "stream",
     "text": [
      "\r",
      "1it [00:00, 1530.77it/s]"
     ]
    },
    {
     "name": "stderr",
     "output_type": "stream",
     "text": [
      "\n",
      "\r",
      "100%|███████████████████████████████████████████████████████████████████████████| 1/1 [00:00<00:00, 166.70it/s]"
     ]
    },
    {
     "name": "stderr",
     "output_type": "stream",
     "text": [
      "\n"
     ]
    },
    {
     "name": "stderr",
     "output_type": "stream",
     "text": [
      "\r",
      "Retrieving Tables for bird-validation...:   0%|                                       | 0/1534 [00:00<?, ?it/s]"
     ]
    },
    {
     "name": "stderr",
     "output_type": "stream",
     "text": [
      "\r",
      "Retrieving Tables for bird-validation...:   7%|█▊                         | 100/1534 [06:52<1:38:38,  4.13s/it]"
     ]
    },
    {
     "name": "stderr",
     "output_type": "stream",
     "text": [
      "\r",
      "Retrieving Tables for bird-validation...:  13%|███▌                       | 200/1534 [12:20<1:20:37,  3.63s/it]"
     ]
    },
    {
     "name": "stderr",
     "output_type": "stream",
     "text": [
      "\r",
      "Retrieving Tables for bird-validation...:  20%|█████▋                       | 300/1534 [13:32<47:16,  2.30s/it]"
     ]
    },
    {
     "name": "stderr",
     "output_type": "stream",
     "text": [
      "\r",
      "Retrieving Tables for bird-validation...:  26%|███████                    | 400/1534 [21:44<1:03:03,  3.34s/it]"
     ]
    },
    {
     "name": "stderr",
     "output_type": "stream",
     "text": [
      "\r",
      "Retrieving Tables for bird-validation...:  33%|████████▊                  | 500/1534 [33:51<1:21:53,  4.75s/it]"
     ]
    }
   ],
   "source": [
    "from target_benchmark.retrievers import OTTQARetriever\n",
    "tfidf_with_title = OTTQARetriever(encoding=\"tfidf\", withtitle=True)\n",
    "print(\"running tfidf with title on bird!\")\n",
    "tfidf_with_title_results_bird_val = run_eval_for_top_ks(tfidf_with_title, \"tfidf_with_title\",top_ks, target_bird, \"bird\", \"validation\")"
   ]
  },
  {
   "cell_type": "code",
   "execution_count": null,
   "id": "d12fa830",
   "metadata": {
    "papermill": {
     "duration": null,
     "end_time": null,
     "exception": null,
     "start_time": null,
     "status": "pending"
    },
    "tags": []
   },
   "outputs": [],
   "source": [
    "tfidf_with_title_results_bird_val"
   ]
  },
  {
   "cell_type": "code",
   "execution_count": null,
   "id": "81aa1ca1",
   "metadata": {
    "papermill": {
     "duration": null,
     "end_time": null,
     "exception": null,
     "start_time": null,
     "status": "pending"
    },
    "tags": []
   },
   "outputs": [],
   "source": [
    "# from target_benchmark.retrievers import LlamaIndexRetriever\n",
    "# llamaindex_retriever = LlamaIndexRetriever()\n",
    "# llamaindex_results_bird_val = run_eval_for_top_ks(llamaindex_retriever, \"llamaindex\",top_ks, target_bird, \"bird\", \"validation\")"
   ]
  },
  {
   "cell_type": "code",
   "execution_count": null,
   "id": "2112ff7b",
   "metadata": {
    "papermill": {
     "duration": null,
     "end_time": null,
     "exception": null,
     "start_time": null,
     "status": "pending"
    },
    "tags": []
   },
   "outputs": [],
   "source": [
    "# llamaindex_results_bird_val"
   ]
  }
 ],
 "metadata": {
  "language_info": {
   "name": "python"
  },
  "papermill": {
   "default_parameters": {},
   "duration": null,
   "end_time": null,
   "environment_variables": {},
   "exception": null,
   "input_path": "tfidf_with_title_results_bird_val_in.ipynb",
   "output_path": "tfidf_with_title_results_bird_val.ipynb",
   "parameters": {},
   "start_time": "2024-09-18T03:56:14.706796",
   "version": "2.6.0"
  }
 },
 "nbformat": 4,
 "nbformat_minor": 5
}
