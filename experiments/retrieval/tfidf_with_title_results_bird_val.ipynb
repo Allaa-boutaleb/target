{
 "cells": [
  {
   "cell_type": "code",
   "execution_count": 1,
   "id": "405b83ea",
   "metadata": {
    "execution": {
     "iopub.execute_input": "2024-09-17T19:30:00.083828Z",
     "iopub.status.busy": "2024-09-17T19:30:00.083367Z",
     "iopub.status.idle": "2024-09-17T19:30:08.648176Z",
     "shell.execute_reply": "2024-09-17T19:30:08.647581Z"
    },
    "papermill": {
     "duration": 8.569718,
     "end_time": "2024-09-17T19:30:08.649918",
     "exception": false,
     "start_time": "2024-09-17T19:30:00.080200",
     "status": "completed"
    },
    "tags": []
   },
   "outputs": [
    {
     "name": "stderr",
     "output_type": "stream",
     "text": [
      "2024-09-17 19:30:06.809137: I external/local_tsl/tsl/cuda/cudart_stub.cc:32] Could not find cuda drivers on your machine, GPU will not be used.\n",
      "2024-09-17 19:30:06.812648: I external/local_tsl/tsl/cuda/cudart_stub.cc:32] Could not find cuda drivers on your machine, GPU will not be used.\n",
      "2024-09-17 19:30:06.864500: I tensorflow/core/platform/cpu_feature_guard.cc:210] This TensorFlow binary is optimized to use available CPU instructions in performance-critical operations.\n",
      "To enable the following instructions: AVX2 FMA, in other operations, rebuild TensorFlow with the appropriate compiler flags.\n"
     ]
    },
    {
     "name": "stderr",
     "output_type": "stream",
     "text": [
      "2024-09-17 19:30:07.983657: W tensorflow/compiler/tf2tensorrt/utils/py_utils.cc:38] TF-TRT Warning: Could not find TensorRT\n"
     ]
    }
   ],
   "source": [
    "from target_benchmark.evaluators import TARGET, get_task_names\n",
    "target_bird = TARGET((\"Table Retrieval Task\", \"bird-validation\"))"
   ]
  },
  {
   "cell_type": "code",
   "execution_count": 2,
   "id": "2736d67b",
   "metadata": {
    "execution": {
     "iopub.execute_input": "2024-09-17T19:30:08.654591Z",
     "iopub.status.busy": "2024-09-17T19:30:08.653899Z",
     "iopub.status.idle": "2024-09-17T19:30:08.657180Z",
     "shell.execute_reply": "2024-09-17T19:30:08.656706Z"
    },
    "papermill": {
     "duration": 0.006669,
     "end_time": "2024-09-17T19:30:08.658472",
     "exception": false,
     "start_time": "2024-09-17T19:30:08.651803",
     "status": "completed"
    },
    "tags": []
   },
   "outputs": [],
   "source": [
    "top_ks = [1, 5, 10, 25, 50]"
   ]
  },
  {
   "cell_type": "code",
   "execution_count": 3,
   "id": "3e5c09b2",
   "metadata": {
    "execution": {
     "iopub.execute_input": "2024-09-17T19:30:08.662342Z",
     "iopub.status.busy": "2024-09-17T19:30:08.661958Z",
     "iopub.status.idle": "2024-09-17T19:30:08.665623Z",
     "shell.execute_reply": "2024-09-17T19:30:08.665111Z"
    },
    "papermill": {
     "duration": 0.006847,
     "end_time": "2024-09-17T19:30:08.666797",
     "exception": false,
     "start_time": "2024-09-17T19:30:08.659950",
     "status": "completed"
    },
    "tags": []
   },
   "outputs": [],
   "source": [
    "def run_eval_for_top_ks(retriever, retriever_name: str, top_ks: list[int], target: TARGET, dataset_name: str, split: str):\n",
    "    results = []\n",
    "    for top_k in top_ks:\n",
    "        results.append(target.run(retriever=retriever, split=split, batch_size=100, top_k=top_k, retrieval_results_file=f\"./{retriever_name}/{dataset_name}_{top_k}.jsonl\"))\n",
    "    print(results)\n",
    "    return results\n",
    "    "
   ]
  },
  {
   "cell_type": "code",
   "execution_count": 4,
   "id": "31891e01",
   "metadata": {
    "execution": {
     "iopub.execute_input": "2024-09-17T19:30:08.670751Z",
     "iopub.status.busy": "2024-09-17T19:30:08.670250Z",
     "iopub.status.idle": "2024-09-17T19:30:08.672949Z",
     "shell.execute_reply": "2024-09-17T19:30:08.672445Z"
    },
    "papermill": {
     "duration": 0.005917,
     "end_time": "2024-09-17T19:30:08.674155",
     "exception": false,
     "start_time": "2024-09-17T19:30:08.668238",
     "status": "completed"
    },
    "tags": []
   },
   "outputs": [],
   "source": [
    "# from target_benchmark.retrievers import OTTQARetriever\n",
    "# bm25_with_title = OTTQARetriever(encoding=\"bm25\", withtitle=True)\n",
    "# bm25_with_title_results_bird_val = run_eval_for_top_ks(bm25_with_title, \"bm25_with_title\",top_ks, target_bird, \"bird\", \"validation\")"
   ]
  },
  {
   "cell_type": "code",
   "execution_count": 5,
   "id": "bf9dd5e7",
   "metadata": {
    "execution": {
     "iopub.execute_input": "2024-09-17T19:30:08.678215Z",
     "iopub.status.busy": "2024-09-17T19:30:08.677693Z",
     "iopub.status.idle": "2024-09-17T19:30:08.680456Z",
     "shell.execute_reply": "2024-09-17T19:30:08.679973Z"
    },
    "papermill": {
     "duration": 0.005906,
     "end_time": "2024-09-17T19:30:08.681634",
     "exception": false,
     "start_time": "2024-09-17T19:30:08.675728",
     "status": "completed"
    },
    "tags": []
   },
   "outputs": [],
   "source": [
    "# bm25_with_title_results_bird_val"
   ]
  },
  {
   "cell_type": "code",
   "execution_count": 6,
   "id": "70ba0c6f",
   "metadata": {
    "execution": {
     "iopub.execute_input": "2024-09-17T19:30:08.685446Z",
     "iopub.status.busy": "2024-09-17T19:30:08.685074Z"
    },
    "papermill": {
     "duration": 8654.437964,
     "end_time": "2024-09-17T21:54:23.121033",
     "exception": false,
     "start_time": "2024-09-17T19:30:08.683069",
     "status": "completed"
    },
    "tags": []
   },
   "outputs": [
    {
     "name": "stdout",
     "output_type": "stream",
     "text": [
      "running tfidf with title on bird!\n"
     ]
    },
    {
     "data": {
      "application/vnd.jupyter.widget-view+json": {
       "model_id": "aec4e07bdb8b4a47b17ee9deaef2ce2b",
       "version_major": 2,
       "version_minor": 0
      },
      "text/plain": [
       "Fetching 104 files:   0%|          | 0/104 [00:00<?, ?it/s]"
      ]
     },
     "metadata": {},
     "output_type": "display_data"
    },
    {
     "name": "stderr",
     "output_type": "stream",
     "text": [
      "\r",
      "  0%|                                                                                                                 | 0/1 [00:00<?, ?it/s]"
     ]
    },
    {
     "name": "stderr",
     "output_type": "stream",
     "text": [
      "\n"
     ]
    },
    {
     "name": "stderr",
     "output_type": "stream",
     "text": [
      "\r",
      "0it [00:00, ?it/s]"
     ]
    },
    {
     "name": "stderr",
     "output_type": "stream",
     "text": [
      "\u001b[A"
     ]
    },
    {
     "name": "stderr",
     "output_type": "stream",
     "text": [
      "\r",
      "100%|█████████████████████████████████████████████████████████████████████████████████████████████████████████| 1/1 [00:00<00:00,  8.50it/s]"
     ]
    },
    {
     "name": "stderr",
     "output_type": "stream",
     "text": [
      "\r",
      "1it [00:00, 681.11it/s]"
     ]
    },
    {
     "name": "stderr",
     "output_type": "stream",
     "text": [
      "\n",
      "\r",
      "100%|█████████████████████████████████████████████████████████████████████████████████████████████████████████| 1/1 [00:00<00:00,  8.42it/s]"
     ]
    },
    {
     "name": "stderr",
     "output_type": "stream",
     "text": [
      "\n"
     ]
    },
    {
     "name": "stderr",
     "output_type": "stream",
     "text": [
      "\r",
      "Retrieving Tables for bird-validation...:   0%|                                                                    | 0/1534 [00:00<?, ?it/s]"
     ]
    },
    {
     "name": "stderr",
     "output_type": "stream",
     "text": [
      "\r",
      "Retrieving Tables for bird-validation...:   7%|███▊                                                      | 100/1534 [00:07<01:44, 13.76it/s]"
     ]
    },
    {
     "name": "stderr",
     "output_type": "stream",
     "text": [
      "\r",
      "Retrieving Tables for bird-validation...:   7%|███▊                                                      | 100/1534 [00:18<01:44, 13.76it/s]"
     ]
    },
    {
     "name": "stderr",
     "output_type": "stream",
     "text": [
      "\r",
      "Retrieving Tables for bird-validation...:  13%|███████▌                                                  | 200/1534 [00:41<05:10,  4.29it/s]"
     ]
    },
    {
     "name": "stderr",
     "output_type": "stream",
     "text": [
      "\r",
      "Retrieving Tables for bird-validation...:  20%|███████████▎                                              | 300/1534 [01:12<05:28,  3.76it/s]"
     ]
    },
    {
     "name": "stderr",
     "output_type": "stream",
     "text": [
      "\r",
      "Retrieving Tables for bird-validation...:  26%|███████████████                                           | 400/1534 [02:50<10:19,  1.83it/s]"
     ]
    },
    {
     "name": "stderr",
     "output_type": "stream",
     "text": [
      "\r",
      "Retrieving Tables for bird-validation...:  33%|██████████████████▉                                       | 500/1534 [04:45<13:13,  1.30it/s]"
     ]
    },
    {
     "name": "stderr",
     "output_type": "stream",
     "text": [
      "\r",
      "Retrieving Tables for bird-validation...:  39%|██████████████████████▋                                   | 600/1534 [09:27<22:48,  1.47s/it]"
     ]
    },
    {
     "name": "stderr",
     "output_type": "stream",
     "text": [
      "\r",
      "Retrieving Tables for bird-validation...:  46%|██████████████████████████▍                               | 700/1534 [14:02<26:10,  1.88s/it]"
     ]
    },
    {
     "name": "stderr",
     "output_type": "stream",
     "text": [
      "\r",
      "Retrieving Tables for bird-validation...:  52%|██████████████████████████████▏                           | 800/1534 [14:20<16:25,  1.34s/it]"
     ]
    },
    {
     "name": "stderr",
     "output_type": "stream",
     "text": [
      "\r",
      "Retrieving Tables for bird-validation...:  59%|██████████████████████████████████                        | 900/1534 [14:31<10:07,  1.04it/s]"
     ]
    },
    {
     "name": "stderr",
     "output_type": "stream",
     "text": [
      "\r",
      "Retrieving Tables for bird-validation...:  65%|█████████████████████████████████████▏                   | 1000/1534 [14:44<06:14,  1.43it/s]"
     ]
    },
    {
     "name": "stderr",
     "output_type": "stream",
     "text": [
      "\r",
      "Retrieving Tables for bird-validation...:  72%|████████████████████████████████████████▊                | 1100/1534 [17:37<07:20,  1.02s/it]"
     ]
    },
    {
     "name": "stderr",
     "output_type": "stream",
     "text": [
      "\r",
      "Retrieving Tables for bird-validation...:  78%|████████████████████████████████████████████▌            | 1200/1534 [19:42<06:02,  1.09s/it]"
     ]
    },
    {
     "name": "stderr",
     "output_type": "stream",
     "text": [
      "\r",
      "Retrieving Tables for bird-validation...:  85%|████████████████████████████████████████████████▎        | 1300/1534 [20:04<03:12,  1.21it/s]"
     ]
    },
    {
     "name": "stderr",
     "output_type": "stream",
     "text": [
      "\r",
      "Retrieving Tables for bird-validation...:  91%|████████████████████████████████████████████████████     | 1400/1534 [20:14<01:21,  1.65it/s]"
     ]
    },
    {
     "name": "stderr",
     "output_type": "stream",
     "text": [
      "\r",
      "Retrieving Tables for bird-validation...:  91%|████████████████████████████████████████████████████     | 1400/1534 [20:26<01:21,  1.65it/s]"
     ]
    },
    {
     "name": "stderr",
     "output_type": "stream",
     "text": [
      "\r",
      "Retrieving Tables for bird-validation...:  98%|███████████████████████████████████████████████████████▋ | 1500/1534 [20:50<00:18,  1.88it/s]"
     ]
    },
    {
     "name": "stderr",
     "output_type": "stream",
     "text": [
      "\r",
      "Retrieving Tables for bird-validation...: 1600it [21:38,  1.93it/s]                                                                         "
     ]
    },
    {
     "name": "stderr",
     "output_type": "stream",
     "text": [
      "\r",
      "Retrieving Tables for bird-validation...: 100%|█████████████████████████████████████████████████████████| 1534/1534 [21:38<00:00,  1.18it/s]"
     ]
    },
    {
     "name": "stderr",
     "output_type": "stream",
     "text": [
      "\n"
     ]
    },
    {
     "name": "stderr",
     "output_type": "stream",
     "text": [
      "\r",
      "  0%|                                                                                                                 | 0/1 [00:00<?, ?it/s]"
     ]
    },
    {
     "name": "stderr",
     "output_type": "stream",
     "text": [
      "\n"
     ]
    },
    {
     "name": "stderr",
     "output_type": "stream",
     "text": [
      "\r",
      "0it [00:00, ?it/s]"
     ]
    },
    {
     "name": "stderr",
     "output_type": "stream",
     "text": [
      "\u001b[A"
     ]
    },
    {
     "name": "stderr",
     "output_type": "stream",
     "text": [
      "\r",
      "1it [00:00, 1494.76it/s]"
     ]
    },
    {
     "name": "stderr",
     "output_type": "stream",
     "text": [
      "\n",
      "\r",
      "100%|████████████████████████████████████████████████████████████████████████████████████████████████████████| 1/1 [00:00<00:00, 193.43it/s]"
     ]
    },
    {
     "name": "stderr",
     "output_type": "stream",
     "text": [
      "\n"
     ]
    },
    {
     "name": "stderr",
     "output_type": "stream",
     "text": [
      "\r",
      "Retrieving Tables for bird-validation...:   0%|                                                                    | 0/1534 [00:00<?, ?it/s]"
     ]
    },
    {
     "name": "stderr",
     "output_type": "stream",
     "text": [
      "\r",
      "Retrieving Tables for bird-validation...:   7%|███▋                                                    | 100/1534 [07:11<1:43:02,  4.31s/it]"
     ]
    },
    {
     "name": "stderr",
     "output_type": "stream",
     "text": [
      "\r",
      "Retrieving Tables for bird-validation...:  13%|███████▎                                                | 200/1534 [11:20<1:12:01,  3.24s/it]"
     ]
    },
    {
     "name": "stderr",
     "output_type": "stream",
     "text": [
      "\r",
      "Retrieving Tables for bird-validation...:  20%|███████████▎                                              | 300/1534 [12:02<40:10,  1.95s/it]"
     ]
    },
    {
     "name": "stderr",
     "output_type": "stream",
     "text": [
      "\r",
      "Retrieving Tables for bird-validation...:  26%|███████████████                                           | 400/1534 [19:45<56:53,  3.01s/it]"
     ]
    },
    {
     "name": "stderr",
     "output_type": "stream",
     "text": [
      "\r",
      "Retrieving Tables for bird-validation...:  33%|██████████████████▎                                     | 500/1534 [32:12<1:19:36,  4.62s/it]"
     ]
    },
    {
     "name": "stderr",
     "output_type": "stream",
     "text": [
      "\r",
      "Retrieving Tables for bird-validation...:  39%|█████████████████████▉                                  | 600/1534 [43:03<1:21:55,  5.26s/it]"
     ]
    },
    {
     "name": "stderr",
     "output_type": "stream",
     "text": [
      "\r",
      "Retrieving Tables for bird-validation...:  46%|█████████████████████████▌                              | 700/1534 [56:58<1:27:08,  6.27s/it]"
     ]
    },
    {
     "name": "stderr",
     "output_type": "stream",
     "text": [
      "\r",
      "Retrieving Tables for bird-validation...:  52%|████████████████████████████▏                         | 800/1534 [1:01:10<1:02:07,  5.08s/it]"
     ]
    },
    {
     "name": "stderr",
     "output_type": "stream",
     "text": [
      "\r",
      "Retrieving Tables for bird-validation...:  59%|████████████████████████████████▊                       | 900/1534 [1:02:12<38:54,  3.68s/it]"
     ]
    },
    {
     "name": "stderr",
     "output_type": "stream",
     "text": [
      "\r",
      "Retrieving Tables for bird-validation...:  65%|███████████████████████████████████▊                   | 1000/1534 [1:05:29<28:05,  3.16s/it]"
     ]
    },
    {
     "name": "stderr",
     "output_type": "stream",
     "text": [
      "\r",
      "Retrieving Tables for bird-validation...:  72%|███████████████████████████████████████▍               | 1100/1534 [1:11:54<24:21,  3.37s/it]"
     ]
    },
    {
     "name": "stderr",
     "output_type": "stream",
     "text": [
      "\r",
      "Retrieving Tables for bird-validation...:  78%|███████████████████████████████████████████            | 1200/1534 [1:17:29<18:42,  3.36s/it]"
     ]
    },
    {
     "name": "stderr",
     "output_type": "stream",
     "text": [
      "\r",
      "Retrieving Tables for bird-validation...:  85%|██████████████████████████████████████████████▌        | 1300/1534 [1:17:51<09:24,  2.41s/it]"
     ]
    },
    {
     "name": "stderr",
     "output_type": "stream",
     "text": [
      "\r",
      "Retrieving Tables for bird-validation...:  91%|██████████████████████████████████████████████████▏    | 1400/1534 [1:18:20<03:57,  1.77s/it]"
     ]
    },
    {
     "name": "stderr",
     "output_type": "stream",
     "text": [
      "\r",
      "Retrieving Tables for bird-validation...:  98%|█████████████████████████████████████████████████████▊ | 1500/1534 [1:19:07<00:46,  1.38s/it]"
     ]
    },
    {
     "name": "stderr",
     "output_type": "stream",
     "text": [
      "\r",
      "Retrieving Tables for bird-validation...: 1600it [1:19:33,  1.04s/it]                                                                       "
     ]
    },
    {
     "name": "stderr",
     "output_type": "stream",
     "text": [
      "\r",
      "Retrieving Tables for bird-validation...: 100%|███████████████████████████████████████████████████████| 1534/1534 [1:19:33<00:00,  3.11s/it]"
     ]
    },
    {
     "name": "stderr",
     "output_type": "stream",
     "text": [
      "\n"
     ]
    },
    {
     "name": "stderr",
     "output_type": "stream",
     "text": [
      "\r",
      "  0%|                                                                                                                 | 0/1 [00:00<?, ?it/s]"
     ]
    },
    {
     "name": "stderr",
     "output_type": "stream",
     "text": [
      "\n"
     ]
    },
    {
     "name": "stderr",
     "output_type": "stream",
     "text": [
      "\r",
      "0it [00:00, ?it/s]"
     ]
    },
    {
     "name": "stderr",
     "output_type": "stream",
     "text": [
      "\u001b[A"
     ]
    },
    {
     "name": "stderr",
     "output_type": "stream",
     "text": [
      "\r",
      "1it [00:00, 1311.95it/s]"
     ]
    },
    {
     "name": "stderr",
     "output_type": "stream",
     "text": [
      "\n",
      "\r",
      "100%|████████████████████████████████████████████████████████████████████████████████████████████████████████| 1/1 [00:00<00:00, 182.63it/s]"
     ]
    },
    {
     "name": "stderr",
     "output_type": "stream",
     "text": [
      "\n"
     ]
    },
    {
     "name": "stderr",
     "output_type": "stream",
     "text": [
      "\r",
      "Retrieving Tables for bird-validation...:   0%|                                                                    | 0/1534 [00:00<?, ?it/s]"
     ]
    },
    {
     "name": "stderr",
     "output_type": "stream",
     "text": [
      "\r",
      "Retrieving Tables for bird-validation...:   7%|███▋                                                    | 100/1534 [07:02<1:41:01,  4.23s/it]"
     ]
    },
    {
     "name": "stderr",
     "output_type": "stream",
     "text": [
      "\r",
      "Retrieving Tables for bird-validation...:  13%|███████▎                                                | 200/1534 [13:30<1:29:22,  4.02s/it]"
     ]
    },
    {
     "name": "stderr",
     "output_type": "stream",
     "text": [
      "\r",
      "Retrieving Tables for bird-validation...:  20%|███████████▎                                              | 300/1534 [15:42<57:22,  2.79s/it]"
     ]
    },
    {
     "name": "stderr",
     "output_type": "stream",
     "text": [
      "\r",
      "Retrieving Tables for bird-validation...:  26%|██████████████▌                                         | 400/1534 [28:03<1:27:10,  4.61s/it]"
     ]
    }
   ],
   "source": [
    "from target_benchmark.retrievers import OTTQARetriever\n",
    "tfidf_with_title = OTTQARetriever(encoding=\"tfidf\", withtitle=True)\n",
    "print(\"running tfidf with title on bird!\")\n",
    "tfidf_with_title_results_bird_val = run_eval_for_top_ks(tfidf_with_title, \"tfidf_with_title\",top_ks, target_bird, \"bird\", \"validation\")"
   ]
  },
  {
   "cell_type": "code",
   "execution_count": null,
   "id": "d12fa830",
   "metadata": {
    "papermill": {
     "duration": null,
     "end_time": null,
     "exception": null,
     "start_time": null,
     "status": "completed"
    },
    "tags": []
   },
   "outputs": [],
   "source": [
    "tfidf_with_title_results_bird_val"
   ]
  },
  {
   "cell_type": "code",
   "execution_count": null,
   "id": "81aa1ca1",
   "metadata": {
    "papermill": {
     "duration": null,
     "end_time": null,
     "exception": null,
     "start_time": null,
     "status": "completed"
    },
    "tags": []
   },
   "outputs": [],
   "source": [
    "# from target_benchmark.retrievers import LlamaIndexRetriever\n",
    "# llamaindex_retriever = LlamaIndexRetriever()\n",
    "# llamaindex_results_bird_val = run_eval_for_top_ks(llamaindex_retriever, \"llamaindex\",top_ks, target_bird, \"bird\", \"validation\")"
   ]
  },
  {
   "cell_type": "code",
   "execution_count": null,
   "id": "2112ff7b",
   "metadata": {
    "papermill": {
     "duration": null,
     "end_time": null,
     "exception": null,
     "start_time": null,
     "status": "completed"
    },
    "tags": []
   },
   "outputs": [],
   "source": [
    "# llamaindex_results_bird_val"
   ]
  }
 ],
 "metadata": {
  "language_info": {
   "name": "python"
  },
  "papermill": {
   "default_parameters": {},
   "duration": 8665.176521,
   "end_time": "2024-09-17T21:54:24.128566",
   "environment_variables": {},
   "exception": null,
   "input_path": "run_bird_eval.ipynb",
   "output_path": "tfidf_with_title_results_bird_val.ipynb",
   "parameters": {},
   "start_time": "2024-09-17T19:29:58.952045",
   "version": "2.6.0"
  }
 },
 "nbformat": 4,
 "nbformat_minor": 5
}
