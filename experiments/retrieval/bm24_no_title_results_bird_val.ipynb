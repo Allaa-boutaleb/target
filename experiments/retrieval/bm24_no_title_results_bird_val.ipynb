{
 "cells": [
  {
   "cell_type": "code",
   "execution_count": 1,
   "id": "27e66e62",
   "metadata": {
    "execution": {
     "iopub.execute_input": "2024-09-17T21:38:23.686382Z",
     "iopub.status.busy": "2024-09-17T21:38:23.685817Z",
     "iopub.status.idle": "2024-09-17T21:38:32.366193Z",
     "shell.execute_reply": "2024-09-17T21:38:32.365621Z"
    },
    "papermill": {
     "duration": 8.6845,
     "end_time": "2024-09-17T21:38:32.367884",
     "exception": false,
     "start_time": "2024-09-17T21:38:23.683384",
     "status": "completed"
    },
    "tags": []
   },
   "outputs": [
    {
     "name": "stderr",
     "output_type": "stream",
     "text": [
      "2024-09-17 21:38:30.466434: I external/local_tsl/tsl/cuda/cudart_stub.cc:32] Could not find cuda drivers on your machine, GPU will not be used.\n",
      "2024-09-17 21:38:30.469980: I external/local_tsl/tsl/cuda/cudart_stub.cc:32] Could not find cuda drivers on your machine, GPU will not be used.\n",
      "2024-09-17 21:38:30.521663: I tensorflow/core/platform/cpu_feature_guard.cc:210] This TensorFlow binary is optimized to use available CPU instructions in performance-critical operations.\n",
      "To enable the following instructions: AVX2 FMA, in other operations, rebuild TensorFlow with the appropriate compiler flags.\n"
     ]
    },
    {
     "name": "stderr",
     "output_type": "stream",
     "text": [
      "2024-09-17 21:38:31.658008: W tensorflow/compiler/tf2tensorrt/utils/py_utils.cc:38] TF-TRT Warning: Could not find TensorRT\n"
     ]
    }
   ],
   "source": [
    "from target_benchmark.evaluators import TARGET\n",
    "target_bird = TARGET((\"Table Retrieval Task\", \"bird-validation\"))"
   ]
  },
  {
   "cell_type": "code",
   "execution_count": 2,
   "id": "6990dcb2",
   "metadata": {
    "execution": {
     "iopub.execute_input": "2024-09-17T21:38:32.372069Z",
     "iopub.status.busy": "2024-09-17T21:38:32.371407Z",
     "iopub.status.idle": "2024-09-17T21:38:32.376063Z",
     "shell.execute_reply": "2024-09-17T21:38:32.375525Z"
    },
    "papermill": {
     "duration": 0.007794,
     "end_time": "2024-09-17T21:38:32.377376",
     "exception": false,
     "start_time": "2024-09-17T21:38:32.369582",
     "status": "completed"
    },
    "tags": []
   },
   "outputs": [],
   "source": [
    "top_ks = [1, 5, 10, 25, 50]"
   ]
  },
  {
   "cell_type": "code",
   "execution_count": 3,
   "id": "412acf96",
   "metadata": {
    "execution": {
     "iopub.execute_input": "2024-09-17T21:38:32.381240Z",
     "iopub.status.busy": "2024-09-17T21:38:32.380912Z",
     "iopub.status.idle": "2024-09-17T21:38:32.384754Z",
     "shell.execute_reply": "2024-09-17T21:38:32.384136Z"
    },
    "papermill": {
     "duration": 0.007647,
     "end_time": "2024-09-17T21:38:32.386497",
     "exception": false,
     "start_time": "2024-09-17T21:38:32.378850",
     "status": "completed"
    },
    "tags": []
   },
   "outputs": [],
   "source": [
    "def run_eval_for_top_ks(retriever, retriever_name: str, top_ks: list[int], target: TARGET, dataset_name: str, split: str):\n",
    "    results = []\n",
    "    for top_k in top_ks:\n",
    "        results.append(target.run(retriever=retriever, split=split, batch_size=100, top_k=top_k, retrieval_results_file=f\"./{retriever_name}/{dataset_name}_{top_k}.jsonl\"))\n",
    "    print(results)\n",
    "    return results\n",
    "    "
   ]
  },
  {
   "cell_type": "code",
   "execution_count": 4,
   "id": "19c2b9dc",
   "metadata": {
    "execution": {
     "iopub.execute_input": "2024-09-17T21:38:32.390151Z",
     "iopub.status.busy": "2024-09-17T21:38:32.389834Z"
    },
    "papermill": {
     "duration": null,
     "end_time": null,
     "exception": false,
     "start_time": "2024-09-17T21:38:32.387939",
     "status": "running"
    },
    "tags": []
   },
   "outputs": [
    {
     "name": "stdout",
     "output_type": "stream",
     "text": [
      "running bm25 without title on bird!\n"
     ]
    },
    {
     "data": {
      "application/vnd.jupyter.widget-view+json": {
       "model_id": "cdc3d1f1a8a940dea599f3a2529bb19b",
       "version_major": 2,
       "version_minor": 0
      },
      "text/plain": [
       "Fetching 104 files:   0%|          | 0/104 [00:00<?, ?it/s]"
      ]
     },
     "metadata": {},
     "output_type": "display_data"
    },
    {
     "name": "stderr",
     "output_type": "stream",
     "text": [
      "\r",
      "  0%|                                                                                                                | 0/1 [00:00<?, ?it/s]"
     ]
    },
    {
     "name": "stderr",
     "output_type": "stream",
     "text": [
      "\n"
     ]
    },
    {
     "name": "stderr",
     "output_type": "stream",
     "text": [
      "\r",
      "0it [00:00, ?it/s]"
     ]
    },
    {
     "name": "stderr",
     "output_type": "stream",
     "text": [
      "\u001b[A"
     ]
    },
    {
     "name": "stderr",
     "output_type": "stream",
     "text": [
      "\r",
      "100%|████████████████████████████████████████████████████████████████████████████████████████████████████████| 1/1 [00:00<00:00,  8.95it/s]"
     ]
    },
    {
     "name": "stderr",
     "output_type": "stream",
     "text": [
      "\r",
      "1it [00:00, 630.72it/s]"
     ]
    },
    {
     "name": "stderr",
     "output_type": "stream",
     "text": [
      "\n",
      "\r",
      "100%|████████████████████████████████████████████████████████████████████████████████████████████████████████| 1/1 [00:00<00:00,  8.85it/s]"
     ]
    },
    {
     "name": "stderr",
     "output_type": "stream",
     "text": [
      "\n"
     ]
    },
    {
     "name": "stderr",
     "output_type": "stream",
     "text": [
      "\r",
      "Retrieving Tables for bird-validation...:   0%|                                                                   | 0/1534 [00:00<?, ?it/s]"
     ]
    },
    {
     "name": "stderr",
     "output_type": "stream",
     "text": [
      "\r",
      "Retrieving Tables for bird-validation...:   7%|███▋                                                     | 100/1534 [00:42<10:14,  2.33it/s]"
     ]
    },
    {
     "name": "stderr",
     "output_type": "stream",
     "text": [
      "\r",
      "Retrieving Tables for bird-validation...:  13%|███████▍                                                 | 200/1534 [02:05<14:46,  1.51it/s]"
     ]
    },
    {
     "name": "stderr",
     "output_type": "stream",
     "text": [
      "\r",
      "Retrieving Tables for bird-validation...:  20%|███████████▏                                             | 300/1534 [02:09<07:46,  2.64it/s]"
     ]
    },
    {
     "name": "stderr",
     "output_type": "stream",
     "text": [
      "\r",
      "Retrieving Tables for bird-validation...:  20%|███████████▏                                             | 300/1534 [02:21<07:46,  2.64it/s]"
     ]
    },
    {
     "name": "stderr",
     "output_type": "stream",
     "text": [
      "\r",
      "Retrieving Tables for bird-validation...:  26%|██████████████▊                                          | 400/1534 [02:53<07:35,  2.49it/s]"
     ]
    },
    {
     "name": "stderr",
     "output_type": "stream",
     "text": [
      "\r",
      "Retrieving Tables for bird-validation...:  33%|██████████████████▌                                      | 500/1534 [04:47<11:30,  1.50it/s]"
     ]
    },
    {
     "name": "stderr",
     "output_type": "stream",
     "text": [
      "\r",
      "Retrieving Tables for bird-validation...:  39%|██████████████████████▎                                  | 600/1534 [06:22<11:53,  1.31it/s]"
     ]
    },
    {
     "name": "stderr",
     "output_type": "stream",
     "text": [
      "\r",
      "Retrieving Tables for bird-validation...:  46%|██████████████████████████                               | 700/1534 [08:04<11:45,  1.18it/s]"
     ]
    },
    {
     "name": "stderr",
     "output_type": "stream",
     "text": [
      "\r",
      "Retrieving Tables for bird-validation...:  52%|█████████████████████████████▋                           | 800/1534 [09:08<09:33,  1.28it/s]"
     ]
    },
    {
     "name": "stderr",
     "output_type": "stream",
     "text": [
      "\r",
      "Retrieving Tables for bird-validation...:  59%|█████████████████████████████████▍                       | 900/1534 [09:10<05:45,  1.83it/s]"
     ]
    },
    {
     "name": "stderr",
     "output_type": "stream",
     "text": [
      "\r",
      "Retrieving Tables for bird-validation...:  59%|█████████████████████████████████▍                       | 900/1534 [09:21<05:45,  1.83it/s]"
     ]
    },
    {
     "name": "stderr",
     "output_type": "stream",
     "text": [
      "\r",
      "Retrieving Tables for bird-validation...:  65%|████████████████████████████████████▌                   | 1000/1534 [09:35<04:02,  2.20it/s]"
     ]
    },
    {
     "name": "stderr",
     "output_type": "stream",
     "text": [
      "\r",
      "Retrieving Tables for bird-validation...:  72%|████████████████████████████████████████▏               | 1100/1534 [14:26<08:43,  1.21s/it]"
     ]
    },
    {
     "name": "stderr",
     "output_type": "stream",
     "text": [
      "\r",
      "Retrieving Tables for bird-validation...:  78%|███████████████████████████████████████████▊            | 1200/1534 [16:12<06:27,  1.16s/it]"
     ]
    },
    {
     "name": "stderr",
     "output_type": "stream",
     "text": [
      "\r",
      "Retrieving Tables for bird-validation...:  85%|███████████████████████████████████████████████▍        | 1300/1534 [16:28<03:20,  1.17it/s]"
     ]
    },
    {
     "name": "stderr",
     "output_type": "stream",
     "text": [
      "\r",
      "Retrieving Tables for bird-validation...:  91%|███████████████████████████████████████████████████     | 1400/1534 [16:30<01:21,  1.65it/s]"
     ]
    },
    {
     "name": "stderr",
     "output_type": "stream",
     "text": [
      "\r",
      "Retrieving Tables for bird-validation...:  91%|███████████████████████████████████████████████████     | 1400/1534 [16:42<01:21,  1.65it/s]"
     ]
    },
    {
     "name": "stderr",
     "output_type": "stream",
     "text": [
      "\r",
      "Retrieving Tables for bird-validation...:  98%|██████████████████████████████████████████████████████▊ | 1500/1534 [16:42<00:15,  2.18it/s]"
     ]
    },
    {
     "name": "stderr",
     "output_type": "stream",
     "text": [
      "\r",
      "Retrieving Tables for bird-validation...: 1600it [17:24,  2.24it/s]                                                                        "
     ]
    },
    {
     "name": "stderr",
     "output_type": "stream",
     "text": [
      "\r",
      "Retrieving Tables for bird-validation...: 100%|████████████████████████████████████████████████████████| 1534/1534 [17:24<00:00,  1.47it/s]"
     ]
    },
    {
     "name": "stderr",
     "output_type": "stream",
     "text": [
      "\n"
     ]
    },
    {
     "name": "stderr",
     "output_type": "stream",
     "text": [
      "\r",
      "  0%|                                                                                                                | 0/1 [00:00<?, ?it/s]"
     ]
    },
    {
     "name": "stderr",
     "output_type": "stream",
     "text": [
      "\n"
     ]
    },
    {
     "name": "stderr",
     "output_type": "stream",
     "text": [
      "\r",
      "0it [00:00, ?it/s]"
     ]
    },
    {
     "name": "stderr",
     "output_type": "stream",
     "text": [
      "\u001b[A"
     ]
    },
    {
     "name": "stderr",
     "output_type": "stream",
     "text": [
      "\r",
      "1it [00:00, 1334.92it/s]"
     ]
    },
    {
     "name": "stderr",
     "output_type": "stream",
     "text": [
      "\n",
      "\r",
      "100%|███████████████████████████████████████████████████████████████████████████████████████████████████████| 1/1 [00:00<00:00, 188.08it/s]"
     ]
    },
    {
     "name": "stderr",
     "output_type": "stream",
     "text": [
      "\n"
     ]
    },
    {
     "name": "stderr",
     "output_type": "stream",
     "text": [
      "\r",
      "Retrieving Tables for bird-validation...:   0%|                                                                   | 0/1534 [00:00<?, ?it/s]"
     ]
    },
    {
     "name": "stderr",
     "output_type": "stream",
     "text": [
      "\r",
      "Retrieving Tables for bird-validation...:   7%|███▌                                                   | 100/1534 [07:40<1:50:09,  4.61s/it]"
     ]
    },
    {
     "name": "stderr",
     "output_type": "stream",
     "text": [
      "\r",
      "Retrieving Tables for bird-validation...:  13%|███████▏                                               | 200/1534 [12:06<1:16:52,  3.46s/it]"
     ]
    },
    {
     "name": "stderr",
     "output_type": "stream",
     "text": [
      "\r",
      "Retrieving Tables for bird-validation...:  20%|███████████▏                                             | 300/1534 [12:35<41:26,  2.02s/it]"
     ]
    },
    {
     "name": "stderr",
     "output_type": "stream",
     "text": [
      "\r",
      "Retrieving Tables for bird-validation...:  26%|██████████████▊                                          | 400/1534 [16:22<39:58,  2.12s/it]"
     ]
    },
    {
     "name": "stderr",
     "output_type": "stream",
     "text": [
      "\r",
      "Retrieving Tables for bird-validation...:  33%|██████████████████▌                                      | 500/1534 [25:23<56:56,  3.30s/it]"
     ]
    },
    {
     "name": "stderr",
     "output_type": "stream",
     "text": [
      "\r",
      "Retrieving Tables for bird-validation...:  39%|█████████████████████▌                                 | 600/1534 [37:11<1:11:24,  4.59s/it]"
     ]
    },
    {
     "name": "stderr",
     "output_type": "stream",
     "text": [
      "\r",
      "Retrieving Tables for bird-validation...:  46%|█████████████████████████                              | 700/1534 [44:27<1:02:44,  4.51s/it]"
     ]
    },
    {
     "name": "stderr",
     "output_type": "stream",
     "text": [
      "\r",
      "Retrieving Tables for bird-validation...:  52%|█████████████████████████████▋                           | 800/1534 [47:04<43:43,  3.57s/it]"
     ]
    },
    {
     "name": "stderr",
     "output_type": "stream",
     "text": [
      "\r",
      "Retrieving Tables for bird-validation...:  59%|█████████████████████████████████▍                       | 900/1534 [47:51<27:30,  2.60s/it]"
     ]
    },
    {
     "name": "stderr",
     "output_type": "stream",
     "text": [
      "\r",
      "Retrieving Tables for bird-validation...:  65%|████████████████████████████████████▌                   | 1000/1534 [50:00<19:34,  2.20s/it]"
     ]
    },
    {
     "name": "stderr",
     "output_type": "stream",
     "text": [
      "\r",
      "Retrieving Tables for bird-validation...:  72%|████████████████████████████████████████▏               | 1100/1534 [57:06<20:28,  2.83s/it]"
     ]
    },
    {
     "name": "stderr",
     "output_type": "stream",
     "text": [
      "\r",
      "Retrieving Tables for bird-validation...:  78%|██████████████████████████████████████████▏           | 1200/1534 [1:04:46<18:44,  3.37s/it]"
     ]
    },
    {
     "name": "stderr",
     "output_type": "stream",
     "text": [
      "\r",
      "Retrieving Tables for bird-validation...:  85%|█████████████████████████████████████████████▊        | 1300/1534 [1:05:20<09:33,  2.45s/it]"
     ]
    },
    {
     "name": "stderr",
     "output_type": "stream",
     "text": [
      "\r",
      "Retrieving Tables for bird-validation...:  91%|█████████████████████████████████████████████████▎    | 1400/1534 [1:06:12<04:10,  1.87s/it]"
     ]
    },
    {
     "name": "stderr",
     "output_type": "stream",
     "text": [
      "\r",
      "Retrieving Tables for bird-validation...:  98%|████████████████████████████████████████████████████▊ | 1500/1534 [1:06:54<00:48,  1.43s/it]"
     ]
    },
    {
     "name": "stderr",
     "output_type": "stream",
     "text": [
      "\r",
      "Retrieving Tables for bird-validation...: 1600it [1:08:33,  1.30s/it]                                                                      "
     ]
    },
    {
     "name": "stderr",
     "output_type": "stream",
     "text": [
      "\r",
      "Retrieving Tables for bird-validation...: 100%|██████████████████████████████████████████████████████| 1534/1534 [1:08:33<00:00,  2.68s/it]"
     ]
    },
    {
     "name": "stderr",
     "output_type": "stream",
     "text": [
      "\n"
     ]
    },
    {
     "name": "stderr",
     "output_type": "stream",
     "text": [
      "\r",
      "  0%|                                                                                                                | 0/1 [00:00<?, ?it/s]"
     ]
    },
    {
     "name": "stderr",
     "output_type": "stream",
     "text": [
      "\n"
     ]
    },
    {
     "name": "stderr",
     "output_type": "stream",
     "text": [
      "\r",
      "0it [00:00, ?it/s]"
     ]
    },
    {
     "name": "stderr",
     "output_type": "stream",
     "text": [
      "\u001b[A"
     ]
    },
    {
     "name": "stderr",
     "output_type": "stream",
     "text": [
      "\r",
      "1it [00:00, 1373.83it/s]"
     ]
    },
    {
     "name": "stderr",
     "output_type": "stream",
     "text": [
      "\n",
      "\r",
      "100%|███████████████████████████████████████████████████████████████████████████████████████████████████████| 1/1 [00:00<00:00, 181.02it/s]"
     ]
    },
    {
     "name": "stderr",
     "output_type": "stream",
     "text": [
      "\n"
     ]
    },
    {
     "name": "stderr",
     "output_type": "stream",
     "text": [
      "\r",
      "Retrieving Tables for bird-validation...:   0%|                                                                   | 0/1534 [00:00<?, ?it/s]"
     ]
    },
    {
     "name": "stderr",
     "output_type": "stream",
     "text": [
      "\r",
      "Retrieving Tables for bird-validation...:   7%|███▌                                                   | 100/1534 [09:57<2:22:48,  5.98s/it]"
     ]
    },
    {
     "name": "stderr",
     "output_type": "stream",
     "text": [
      "\r",
      "Retrieving Tables for bird-validation...:  13%|███████▏                                               | 200/1534 [14:40<1:31:43,  4.13s/it]"
     ]
    },
    {
     "name": "stderr",
     "output_type": "stream",
     "text": [
      "\r",
      "Retrieving Tables for bird-validation...:  20%|███████████▏                                             | 300/1534 [15:50<52:40,  2.56s/it]"
     ]
    },
    {
     "name": "stderr",
     "output_type": "stream",
     "text": [
      "\r",
      "Retrieving Tables for bird-validation...:  26%|██████████████▎                                        | 400/1534 [24:20<1:07:22,  3.56s/it]"
     ]
    },
    {
     "name": "stderr",
     "output_type": "stream",
     "text": [
      "\r",
      "Retrieving Tables for bird-validation...:  33%|█████████████████▉                                     | 500/1534 [36:14<1:23:39,  4.85s/it]"
     ]
    },
    {
     "name": "stderr",
     "output_type": "stream",
     "text": [
      "\r",
      "Retrieving Tables for bird-validation...:  39%|█████████████████████▌                                 | 600/1534 [44:05<1:14:46,  4.80s/it]"
     ]
    },
    {
     "name": "stderr",
     "output_type": "stream",
     "text": [
      "\r",
      "Retrieving Tables for bird-validation...:  46%|█████████████████████████                              | 700/1534 [52:27<1:07:44,  4.87s/it]"
     ]
    },
    {
     "name": "stderr",
     "output_type": "stream",
     "text": [
      "\r",
      "Retrieving Tables for bird-validation...:  52%|█████████████████████████████▋                           | 800/1534 [54:46<46:03,  3.77s/it]"
     ]
    },
    {
     "name": "stderr",
     "output_type": "stream",
     "text": [
      "\r",
      "Retrieving Tables for bird-validation...:  59%|█████████████████████████████████▍                       | 900/1534 [56:18<30:22,  2.87s/it]"
     ]
    },
    {
     "name": "stderr",
     "output_type": "stream",
     "text": [
      "\r",
      "Retrieving Tables for bird-validation...:  65%|████████████████████████████████████▌                   | 1000/1534 [59:25<22:49,  2.56s/it]"
     ]
    },
    {
     "name": "stderr",
     "output_type": "stream",
     "text": [
      "\r",
      "Retrieving Tables for bird-validation...:  72%|██████████████████████████████████████▋               | 1100/1534 [1:10:57<28:12,  3.90s/it]"
     ]
    },
    {
     "name": "stderr",
     "output_type": "stream",
     "text": [
      "\r",
      "Retrieving Tables for bird-validation...:  78%|██████████████████████████████████████████▏           | 1200/1534 [1:17:42<21:57,  3.94s/it]"
     ]
    },
    {
     "name": "stderr",
     "output_type": "stream",
     "text": [
      "\r",
      "Retrieving Tables for bird-validation...:  85%|█████████████████████████████████████████████▊        | 1300/1534 [1:18:14<11:06,  2.85s/it]"
     ]
    },
    {
     "name": "stderr",
     "output_type": "stream",
     "text": [
      "\r",
      "Retrieving Tables for bird-validation...:  91%|█████████████████████████████████████████████████▎    | 1400/1534 [1:18:50<04:40,  2.10s/it]"
     ]
    },
    {
     "name": "stderr",
     "output_type": "stream",
     "text": [
      "\r",
      "Retrieving Tables for bird-validation...:  98%|████████████████████████████████████████████████████▊ | 1500/1534 [1:19:54<00:56,  1.66s/it]"
     ]
    },
    {
     "name": "stderr",
     "output_type": "stream",
     "text": [
      "\r",
      "Retrieving Tables for bird-validation...: 1600it [1:20:19,  1.23s/it]                                                                      "
     ]
    },
    {
     "name": "stderr",
     "output_type": "stream",
     "text": [
      "\r",
      "Retrieving Tables for bird-validation...: 100%|██████████████████████████████████████████████████████| 1534/1534 [1:20:19<00:00,  3.14s/it]"
     ]
    },
    {
     "name": "stderr",
     "output_type": "stream",
     "text": [
      "\n"
     ]
    },
    {
     "name": "stderr",
     "output_type": "stream",
     "text": [
      "\r",
      "  0%|                                                                                                                | 0/1 [00:00<?, ?it/s]"
     ]
    },
    {
     "name": "stderr",
     "output_type": "stream",
     "text": [
      "\n"
     ]
    },
    {
     "name": "stderr",
     "output_type": "stream",
     "text": [
      "\r",
      "0it [00:00, ?it/s]"
     ]
    },
    {
     "name": "stderr",
     "output_type": "stream",
     "text": [
      "\u001b[A"
     ]
    },
    {
     "name": "stderr",
     "output_type": "stream",
     "text": [
      "\r",
      "1it [00:00, 225.48it/s]"
     ]
    },
    {
     "name": "stderr",
     "output_type": "stream",
     "text": [
      "\n",
      "\r",
      "100%|███████████████████████████████████████████████████████████████████████████████████████████████████████| 1/1 [00:00<00:00, 101.21it/s]"
     ]
    },
    {
     "name": "stderr",
     "output_type": "stream",
     "text": [
      "\n"
     ]
    },
    {
     "name": "stderr",
     "output_type": "stream",
     "text": [
      "\r",
      "Retrieving Tables for bird-validation...:   0%|                                                                   | 0/1534 [00:00<?, ?it/s]"
     ]
    },
    {
     "name": "stderr",
     "output_type": "stream",
     "text": [
      "\r",
      "Retrieving Tables for bird-validation...:   7%|███▌                                                   | 100/1534 [06:32<1:33:48,  3.93s/it]"
     ]
    },
    {
     "name": "stderr",
     "output_type": "stream",
     "text": [
      "\r",
      "Retrieving Tables for bird-validation...:  13%|███████▏                                               | 200/1534 [10:58<1:10:40,  3.18s/it]"
     ]
    },
    {
     "name": "stderr",
     "output_type": "stream",
     "text": [
      "\r",
      "Retrieving Tables for bird-validation...:  20%|███████████▏                                             | 300/1534 [13:23<49:09,  2.39s/it]"
     ]
    },
    {
     "name": "stderr",
     "output_type": "stream",
     "text": [
      "\r",
      "Retrieving Tables for bird-validation...:  26%|██████████████▎                                        | 400/1534 [22:35<1:08:31,  3.63s/it]"
     ]
    },
    {
     "name": "stderr",
     "output_type": "stream",
     "text": [
      "\r",
      "Retrieving Tables for bird-validation...:  33%|█████████████████▉                                     | 500/1534 [36:50<1:33:05,  5.40s/it]"
     ]
    },
    {
     "name": "stderr",
     "output_type": "stream",
     "text": [
      "\r",
      "Retrieving Tables for bird-validation...:  39%|█████████████████████▌                                 | 600/1534 [48:58<1:34:02,  6.04s/it]"
     ]
    },
    {
     "name": "stderr",
     "output_type": "stream",
     "text": [
      "\r",
      "Retrieving Tables for bird-validation...:  46%|█████████████████████████                              | 700/1534 [59:14<1:24:29,  6.08s/it]"
     ]
    },
    {
     "name": "stderr",
     "output_type": "stream",
     "text": [
      "\r",
      "Retrieving Tables for bird-validation...:  52%|███████████████████████████▋                         | 800/1534 [1:04:42<1:03:27,  5.19s/it]"
     ]
    },
    {
     "name": "stderr",
     "output_type": "stream",
     "text": [
      "\r",
      "Retrieving Tables for bird-validation...:  59%|████████████████████████████████▎                      | 900/1534 [1:07:18<42:50,  4.05s/it]"
     ]
    },
    {
     "name": "stderr",
     "output_type": "stream",
     "text": [
      "\r",
      "Retrieving Tables for bird-validation...:  65%|███████████████████████████████████▏                  | 1000/1534 [1:13:22<34:57,  3.93s/it]"
     ]
    },
    {
     "name": "stderr",
     "output_type": "stream",
     "text": [
      "\r",
      "Retrieving Tables for bird-validation...:  72%|██████████████████████████████████████▋               | 1100/1534 [1:23:01<32:32,  4.50s/it]"
     ]
    },
    {
     "name": "stderr",
     "output_type": "stream",
     "text": [
      "\r",
      "Retrieving Tables for bird-validation...:  78%|██████████████████████████████████████████▏           | 1200/1534 [1:32:50<27:22,  4.92s/it]"
     ]
    },
    {
     "name": "stderr",
     "output_type": "stream",
     "text": [
      "\r",
      "Retrieving Tables for bird-validation...:  85%|█████████████████████████████████████████████▊        | 1300/1534 [1:33:30<13:50,  3.55s/it]"
     ]
    },
    {
     "name": "stderr",
     "output_type": "stream",
     "text": [
      "\r",
      "Retrieving Tables for bird-validation...:  91%|█████████████████████████████████████████████████▎    | 1400/1534 [1:35:05<06:10,  2.76s/it]"
     ]
    },
    {
     "name": "stderr",
     "output_type": "stream",
     "text": [
      "\r",
      "Retrieving Tables for bird-validation...:  98%|████████████████████████████████████████████████████▊ | 1500/1534 [1:37:38<01:21,  2.39s/it]"
     ]
    },
    {
     "name": "stderr",
     "output_type": "stream",
     "text": [
      "\r",
      "Retrieving Tables for bird-validation...: 1600it [1:38:25,  1.81s/it]                                                                      "
     ]
    },
    {
     "name": "stderr",
     "output_type": "stream",
     "text": [
      "\r",
      "Retrieving Tables for bird-validation...: 100%|██████████████████████████████████████████████████████| 1534/1534 [1:38:25<00:00,  3.85s/it]"
     ]
    },
    {
     "name": "stderr",
     "output_type": "stream",
     "text": [
      "\n"
     ]
    },
    {
     "name": "stderr",
     "output_type": "stream",
     "text": [
      "\r",
      "  0%|                                                                                                                | 0/1 [00:00<?, ?it/s]"
     ]
    },
    {
     "name": "stderr",
     "output_type": "stream",
     "text": [
      "\n"
     ]
    },
    {
     "name": "stderr",
     "output_type": "stream",
     "text": [
      "\r",
      "0it [00:00, ?it/s]"
     ]
    },
    {
     "name": "stderr",
     "output_type": "stream",
     "text": [
      "\u001b[A"
     ]
    },
    {
     "name": "stderr",
     "output_type": "stream",
     "text": [
      "\r",
      "1it [00:00, 1029.02it/s]"
     ]
    },
    {
     "name": "stderr",
     "output_type": "stream",
     "text": [
      "\n",
      "\r",
      "100%|███████████████████████████████████████████████████████████████████████████████████████████████████████| 1/1 [00:00<00:00, 179.50it/s]"
     ]
    },
    {
     "name": "stderr",
     "output_type": "stream",
     "text": [
      "\n"
     ]
    },
    {
     "name": "stderr",
     "output_type": "stream",
     "text": [
      "\r",
      "Retrieving Tables for bird-validation...:   0%|                                                                   | 0/1534 [00:00<?, ?it/s]"
     ]
    },
    {
     "name": "stderr",
     "output_type": "stream",
     "text": [
      "\r",
      "Retrieving Tables for bird-validation...:   7%|███▌                                                   | 100/1534 [04:49<1:09:09,  2.89s/it]"
     ]
    },
    {
     "name": "stderr",
     "output_type": "stream",
     "text": [
      "\r",
      "Retrieving Tables for bird-validation...:  13%|███████▍                                                 | 200/1534 [09:02<59:38,  2.68s/it]"
     ]
    },
    {
     "name": "stderr",
     "output_type": "stream",
     "text": [
      "\r",
      "Retrieving Tables for bird-validation...:  20%|███████████▏                                             | 300/1534 [10:41<39:13,  1.91s/it]"
     ]
    },
    {
     "name": "stderr",
     "output_type": "stream",
     "text": [
      "\r",
      "Retrieving Tables for bird-validation...:  26%|██████████████▊                                          | 400/1534 [15:48<44:44,  2.37s/it]"
     ]
    },
    {
     "name": "stderr",
     "output_type": "stream",
     "text": [
      "\r",
      "Retrieving Tables for bird-validation...:  33%|█████████████████▉                                     | 500/1534 [25:18<1:01:30,  3.57s/it]"
     ]
    },
    {
     "name": "stderr",
     "output_type": "stream",
     "text": [
      "\r",
      "Retrieving Tables for bird-validation...:  39%|██████████████████████▎                                  | 600/1534 [31:32<56:27,  3.63s/it]"
     ]
    },
    {
     "name": "stderr",
     "output_type": "stream",
     "text": [
      "\r",
      "Retrieving Tables for bird-validation...:  46%|██████████████████████████                               | 700/1534 [39:37<55:58,  4.03s/it]"
     ]
    },
    {
     "name": "stderr",
     "output_type": "stream",
     "text": [
      "\r",
      "Retrieving Tables for bird-validation...:  52%|█████████████████████████████▋                           | 800/1534 [44:11<44:15,  3.62s/it]"
     ]
    },
    {
     "name": "stderr",
     "output_type": "stream",
     "text": [
      "\r",
      "Retrieving Tables for bird-validation...:  59%|█████████████████████████████████▍                       | 900/1534 [45:46<29:24,  2.78s/it]"
     ]
    }
   ],
   "source": [
    "from target_benchmark.retrievers import OTTQARetriever\n",
    "bm25_no_title = OTTQARetriever(encoding=\"bm25\", withtitle=False)\n",
    "print(\"running bm25 without title on bird!\")\n",
    "bm25_no_title_results_bird_val = run_eval_for_top_ks(bm25_no_title, \"bm25_no_title\",top_ks, target_bird, \"bird\", \"validation\")"
   ]
  },
  {
   "cell_type": "code",
   "execution_count": null,
   "id": "51b48674",
   "metadata": {
    "papermill": {
     "duration": null,
     "end_time": null,
     "exception": null,
     "start_time": null,
     "status": "pending"
    },
    "tags": []
   },
   "outputs": [],
   "source": [
    "bm25_no_title_results_bird_val"
   ]
  }
 ],
 "metadata": {
  "language_info": {
   "name": "python"
  },
  "papermill": {
   "default_parameters": {},
   "duration": null,
   "end_time": null,
   "environment_variables": {},
   "exception": null,
   "input_path": "bm25_no_title_bird_val_in.ipynb",
   "output_path": "bm24_no_title_results_bird_val.ipynb",
   "parameters": {},
   "start_time": "2024-09-17T21:38:22.541685",
   "version": "2.6.0"
  }
 },
 "nbformat": 4,
 "nbformat_minor": 5
}
