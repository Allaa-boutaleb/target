{
 "cells": [
  {
   "cell_type": "code",
   "execution_count": 1,
   "id": "f2be72dc",
   "metadata": {
    "execution": {
     "iopub.execute_input": "2024-09-17T21:20:48.003451Z",
     "iopub.status.busy": "2024-09-17T21:20:48.002990Z",
     "iopub.status.idle": "2024-09-17T21:20:56.302414Z",
     "shell.execute_reply": "2024-09-17T21:20:56.301850Z"
    },
    "papermill": {
     "duration": 8.303452,
     "end_time": "2024-09-17T21:20:56.304039",
     "exception": false,
     "start_time": "2024-09-17T21:20:48.000587",
     "status": "completed"
    },
    "tags": []
   },
   "outputs": [
    {
     "name": "stderr",
     "output_type": "stream",
     "text": [
      "2024-09-18 08:14:13.246598: I external/local_tsl/tsl/cuda/cudart_stub.cc:32] Could not find cuda drivers on your machine, GPU will not be used.\n",
      "2024-09-18 08:14:13.250385: I external/local_tsl/tsl/cuda/cudart_stub.cc:32] Could not find cuda drivers on your machine, GPU will not be used.\n",
      "2024-09-18 08:14:13.305333: I tensorflow/core/platform/cpu_feature_guard.cc:210] This TensorFlow binary is optimized to use available CPU instructions in performance-critical operations.\n",
      "To enable the following instructions: AVX2 FMA, in other operations, rebuild TensorFlow with the appropriate compiler flags.\n",
      "2024-09-18 08:14:14.392952: W tensorflow/compiler/tf2tensorrt/utils/py_utils.cc:38] TF-TRT Warning: Could not find TensorRT\n"
     ]
    }
   ],
   "source": [
    "from target_benchmark.evaluators import TARGET\n",
    "target_bird = TARGET((\"Table Retrieval Task\", \"bird-validation\"))"
   ]
  },
  {
   "cell_type": "code",
   "execution_count": 2,
   "id": "28f70471",
   "metadata": {
    "execution": {
     "iopub.execute_input": "2024-09-17T21:20:56.308114Z",
     "iopub.status.busy": "2024-09-17T21:20:56.307452Z",
     "iopub.status.idle": "2024-09-17T21:20:56.310615Z",
     "shell.execute_reply": "2024-09-17T21:20:56.310137Z"
    },
    "papermill": {
     "duration": 0.006089,
     "end_time": "2024-09-17T21:20:56.311760",
     "exception": false,
     "start_time": "2024-09-17T21:20:56.305671",
     "status": "completed"
    },
    "tags": []
   },
   "outputs": [],
   "source": [
    "top_ks = [1, 5, 10, 25, 50]"
   ]
  },
  {
   "cell_type": "code",
   "execution_count": 3,
   "id": "2a2f635c",
   "metadata": {
    "execution": {
     "iopub.execute_input": "2024-09-17T21:20:56.315218Z",
     "iopub.status.busy": "2024-09-17T21:20:56.314876Z",
     "iopub.status.idle": "2024-09-17T21:20:56.318376Z",
     "shell.execute_reply": "2024-09-17T21:20:56.317887Z"
    },
    "papermill": {
     "duration": 0.006202,
     "end_time": "2024-09-17T21:20:56.319489",
     "exception": false,
     "start_time": "2024-09-17T21:20:56.313287",
     "status": "completed"
    },
    "tags": []
   },
   "outputs": [],
   "source": [
    "def run_eval_for_top_ks(retriever, retriever_name: str, top_ks: list[int], target: TARGET, dataset_name: str, split: str):\n",
    "    results = []\n",
    "    for top_k in top_ks:\n",
    "        results.append(target.run(retriever=retriever, split=split, batch_size=100, top_k=top_k, retrieval_results_file=f\"./{retriever_name}/{dataset_name}_{top_k}.jsonl\"))\n",
    "    print(results)\n",
    "    return results\n",
    "    "
   ]
  },
  {
   "cell_type": "code",
   "execution_count": 5,
   "id": "76537d88",
   "metadata": {
    "execution": {
     "iopub.execute_input": "2024-09-17T21:20:56.322608Z",
     "iopub.status.busy": "2024-09-17T21:20:56.322132Z"
    },
    "papermill": {
     "duration": 12963.922517,
     "end_time": "2024-09-18T00:57:00.243048",
     "exception": false,
     "start_time": "2024-09-17T21:20:56.320531",
     "status": "completed"
    },
    "tags": []
   },
   "outputs": [
    {
     "name": "stdout",
     "output_type": "stream",
     "text": [
      "running tfidf without title on bird!\n"
     ]
    },
    {
     "name": "stderr",
     "output_type": "stream",
     "text": [
      "1it [00:00, 1236.16it/s]:00<?, ?it/s]\n",
      "100%|██████████| 1/1 [00:00<00:00, 75.36it/s]\n",
      "Retrieving Tables for bird-validation...: 100%|██████████| 1534/1534 [00:01<00:00, 1321.34it/s]\n",
      "1it [00:00, 1513.64it/s]:00<?, ?it/s]\n",
      "100%|██████████| 1/1 [00:00<00:00, 162.89it/s]\n",
      "Retrieving Tables for bird-validation...: 100%|██████████| 1534/1534 [00:01<00:00, 1321.02it/s]\n",
      "1it [00:00, 1472.20it/s]:00<?, ?it/s]\n",
      "100%|██████████| 1/1 [00:00<00:00, 184.61it/s]\n",
      "Retrieving Tables for bird-validation...: 100%|██████████| 1534/1534 [00:01<00:00, 1327.13it/s]\n",
      "1it [00:00, 1166.06it/s]:00<?, ?it/s]\n",
      "100%|██████████| 1/1 [00:00<00:00, 139.16it/s]\n",
      "Retrieving Tables for bird-validation...: 100%|██████████| 1534/1534 [00:01<00:00, 1288.63it/s]\n",
      "1it [00:00, 1333.64it/s]:00<?, ?it/s]\n",
      "100%|██████████| 1/1 [00:00<00:00, 182.27it/s]\n",
      "Retrieving Tables for bird-validation...: 100%|██████████| 1534/1534 [00:01<00:00, 1302.61it/s]"
     ]
    },
    {
     "name": "stdout",
     "output_type": "stream",
     "text": [
      "[{'Table Retrieval Task': {'bird-validation': TaskResultsDataModel(retrieval_performance=RetrievalPerformanceDataModel(k=1, accuracy=0.4908735332464146, precision=None, recall=None, retrieval_time=1.12635, avg_retrieval_time=0.00073), downstream_task_performance=DownstreamTaskPerformanceDataModel(task_name=None, scores=None), embedding_statistics=EmbeddingStatisticsDataModel(embedding_creation_duration=12.44006, avg_embedding_creation_duration=0.16587, embedding_size=0.14746, avg_embedding_size=0.00197))}}, {'Table Retrieval Task': {'bird-validation': TaskResultsDataModel(retrieval_performance=RetrievalPerformanceDataModel(k=5, accuracy=0.681877444589309, precision=None, recall=None, retrieval_time=1.12473, avg_retrieval_time=0.00073), downstream_task_performance=DownstreamTaskPerformanceDataModel(task_name=None, scores=None), embedding_statistics=EmbeddingStatisticsDataModel(embedding_creation_duration=12.41398, avg_embedding_creation_duration=0.16552, embedding_size=0.04915, avg_embedding_size=0.00066))}}, {'Table Retrieval Task': {'bird-validation': TaskResultsDataModel(retrieval_performance=RetrievalPerformanceDataModel(k=10, accuracy=0.7092568448500652, precision=None, recall=None, retrieval_time=1.11957, avg_retrieval_time=0.00073), downstream_task_performance=DownstreamTaskPerformanceDataModel(task_name=None, scores=None), embedding_statistics=EmbeddingStatisticsDataModel(embedding_creation_duration=12.45034, avg_embedding_creation_duration=0.166, embedding_size=0.18842, avg_embedding_size=0.00251))}}, {'Table Retrieval Task': {'bird-validation': TaskResultsDataModel(retrieval_performance=RetrievalPerformanceDataModel(k=25, accuracy=0.7327249022164276, precision=None, recall=None, retrieval_time=1.15159, avg_retrieval_time=0.00075), downstream_task_performance=DownstreamTaskPerformanceDataModel(task_name=None, scores=None), embedding_statistics=EmbeddingStatisticsDataModel(embedding_creation_duration=12.48786, avg_embedding_creation_duration=0.1665, embedding_size=0.19661, avg_embedding_size=0.00262))}}, {'Table Retrieval Task': {'bird-validation': TaskResultsDataModel(retrieval_performance=RetrievalPerformanceDataModel(k=50, accuracy=0.7327249022164276, precision=None, recall=None, retrieval_time=1.13972, avg_retrieval_time=0.00074), downstream_task_performance=DownstreamTaskPerformanceDataModel(task_name=None, scores=None), embedding_statistics=EmbeddingStatisticsDataModel(embedding_creation_duration=12.67166, avg_embedding_creation_duration=0.16896, embedding_size=0.04915, avg_embedding_size=0.00066))}}]\n"
     ]
    },
    {
     "name": "stderr",
     "output_type": "stream",
     "text": [
      "\n"
     ]
    }
   ],
   "source": [
    "from target_benchmark.retrievers import OTTQARetriever\n",
    "tfidf_no_title = OTTQARetriever(encoding=\"tfidf\", withtitle=False)\n",
    "print(\"running tfidf without title on bird!\")\n",
    "tfidf_no_title_results_bird_val = run_eval_for_top_ks(tfidf_no_title, \"tfidf_no_title\",top_ks, target_bird, \"bird\", \"validation\")"
   ]
  },
  {
   "cell_type": "code",
   "execution_count": 6,
   "id": "2c599e2f",
   "metadata": {
    "papermill": {
     "duration": null,
     "end_time": null,
     "exception": null,
     "start_time": null,
     "status": "completed"
    },
    "tags": []
   },
   "outputs": [
    {
     "data": {
      "text/plain": [
       "[{'Table Retrieval Task': {'bird-validation': TaskResultsDataModel(retrieval_performance=RetrievalPerformanceDataModel(k=1, accuracy=0.4908735332464146, precision=None, recall=None, retrieval_time=1.12635, avg_retrieval_time=0.00073), downstream_task_performance=DownstreamTaskPerformanceDataModel(task_name=None, scores=None), embedding_statistics=EmbeddingStatisticsDataModel(embedding_creation_duration=12.44006, avg_embedding_creation_duration=0.16587, embedding_size=0.14746, avg_embedding_size=0.00197))}},\n",
       " {'Table Retrieval Task': {'bird-validation': TaskResultsDataModel(retrieval_performance=RetrievalPerformanceDataModel(k=5, accuracy=0.681877444589309, precision=None, recall=None, retrieval_time=1.12473, avg_retrieval_time=0.00073), downstream_task_performance=DownstreamTaskPerformanceDataModel(task_name=None, scores=None), embedding_statistics=EmbeddingStatisticsDataModel(embedding_creation_duration=12.41398, avg_embedding_creation_duration=0.16552, embedding_size=0.04915, avg_embedding_size=0.00066))}},\n",
       " {'Table Retrieval Task': {'bird-validation': TaskResultsDataModel(retrieval_performance=RetrievalPerformanceDataModel(k=10, accuracy=0.7092568448500652, precision=None, recall=None, retrieval_time=1.11957, avg_retrieval_time=0.00073), downstream_task_performance=DownstreamTaskPerformanceDataModel(task_name=None, scores=None), embedding_statistics=EmbeddingStatisticsDataModel(embedding_creation_duration=12.45034, avg_embedding_creation_duration=0.166, embedding_size=0.18842, avg_embedding_size=0.00251))}},\n",
       " {'Table Retrieval Task': {'bird-validation': TaskResultsDataModel(retrieval_performance=RetrievalPerformanceDataModel(k=25, accuracy=0.7327249022164276, precision=None, recall=None, retrieval_time=1.15159, avg_retrieval_time=0.00075), downstream_task_performance=DownstreamTaskPerformanceDataModel(task_name=None, scores=None), embedding_statistics=EmbeddingStatisticsDataModel(embedding_creation_duration=12.48786, avg_embedding_creation_duration=0.1665, embedding_size=0.19661, avg_embedding_size=0.00262))}},\n",
       " {'Table Retrieval Task': {'bird-validation': TaskResultsDataModel(retrieval_performance=RetrievalPerformanceDataModel(k=50, accuracy=0.7327249022164276, precision=None, recall=None, retrieval_time=1.13972, avg_retrieval_time=0.00074), downstream_task_performance=DownstreamTaskPerformanceDataModel(task_name=None, scores=None), embedding_statistics=EmbeddingStatisticsDataModel(embedding_creation_duration=12.67166, avg_embedding_creation_duration=0.16896, embedding_size=0.04915, avg_embedding_size=0.00066))}}]"
      ]
     },
     "execution_count": 6,
     "metadata": {},
     "output_type": "execute_result"
    }
   ],
   "source": [
    "tfidf_no_title_results_bird_val"
   ]
  },
  {
   "cell_type": "code",
   "execution_count": null,
   "id": "2b4dadfd",
   "metadata": {},
   "outputs": [],
   "source": []
  }
 ],
 "metadata": {
  "kernelspec": {
   "display_name": "target",
   "language": "python",
   "name": "python3"
  },
  "language_info": {
   "codemirror_mode": {
    "name": "ipython",
    "version": 3
   },
   "file_extension": ".py",
   "mimetype": "text/x-python",
   "name": "python",
   "nbconvert_exporter": "python",
   "pygments_lexer": "ipython3",
   "version": "3.12.2"
  },
  "papermill": {
   "default_parameters": {},
   "duration": 12973.426904,
   "end_time": "2024-09-18T00:57:00.308907",
   "environment_variables": {},
   "exception": null,
   "input_path": "tfidf_no_title_bird_val_in.ipynb",
   "output_path": "tfidf_no_title_results_bird_val.ipynb",
   "parameters": {},
   "start_time": "2024-09-17T21:20:46.882003",
   "version": "2.6.0"
  }
 },
 "nbformat": 4,
 "nbformat_minor": 5
}
