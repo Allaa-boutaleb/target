{
 "cells": [
  {
   "cell_type": "code",
   "execution_count": 1,
   "id": "f2be72dc",
   "metadata": {
    "execution": {
     "iopub.execute_input": "2024-09-17T21:20:48.003451Z",
     "iopub.status.busy": "2024-09-17T21:20:48.002990Z",
     "iopub.status.idle": "2024-09-17T21:20:56.302414Z",
     "shell.execute_reply": "2024-09-17T21:20:56.301850Z"
    },
    "papermill": {
     "duration": 8.303452,
     "end_time": "2024-09-17T21:20:56.304039",
     "exception": false,
     "start_time": "2024-09-17T21:20:48.000587",
     "status": "completed"
    },
    "tags": []
   },
   "outputs": [
    {
     "name": "stderr",
     "output_type": "stream",
     "text": [
      "2024-09-17 21:20:54.461013: I external/local_tsl/tsl/cuda/cudart_stub.cc:32] Could not find cuda drivers on your machine, GPU will not be used.\n",
      "2024-09-17 21:20:54.464564: I external/local_tsl/tsl/cuda/cudart_stub.cc:32] Could not find cuda drivers on your machine, GPU will not be used.\n",
      "2024-09-17 21:20:54.515192: I tensorflow/core/platform/cpu_feature_guard.cc:210] This TensorFlow binary is optimized to use available CPU instructions in performance-critical operations.\n",
      "To enable the following instructions: AVX2 FMA, in other operations, rebuild TensorFlow with the appropriate compiler flags.\n"
     ]
    },
    {
     "name": "stderr",
     "output_type": "stream",
     "text": [
      "2024-09-17 21:20:55.616179: W tensorflow/compiler/tf2tensorrt/utils/py_utils.cc:38] TF-TRT Warning: Could not find TensorRT\n"
     ]
    }
   ],
   "source": [
    "from target_benchmark.evaluators import TARGET\n",
    "target_bird = TARGET((\"Table Retrieval Task\", \"bird-validation\"))"
   ]
  },
  {
   "cell_type": "code",
   "execution_count": 2,
   "id": "28f70471",
   "metadata": {
    "execution": {
     "iopub.execute_input": "2024-09-17T21:20:56.308114Z",
     "iopub.status.busy": "2024-09-17T21:20:56.307452Z",
     "iopub.status.idle": "2024-09-17T21:20:56.310615Z",
     "shell.execute_reply": "2024-09-17T21:20:56.310137Z"
    },
    "papermill": {
     "duration": 0.006089,
     "end_time": "2024-09-17T21:20:56.311760",
     "exception": false,
     "start_time": "2024-09-17T21:20:56.305671",
     "status": "completed"
    },
    "tags": []
   },
   "outputs": [],
   "source": [
    "top_ks = [1, 5, 10, 25, 50]"
   ]
  },
  {
   "cell_type": "code",
   "execution_count": 3,
   "id": "2a2f635c",
   "metadata": {
    "execution": {
     "iopub.execute_input": "2024-09-17T21:20:56.315218Z",
     "iopub.status.busy": "2024-09-17T21:20:56.314876Z",
     "iopub.status.idle": "2024-09-17T21:20:56.318376Z",
     "shell.execute_reply": "2024-09-17T21:20:56.317887Z"
    },
    "papermill": {
     "duration": 0.006202,
     "end_time": "2024-09-17T21:20:56.319489",
     "exception": false,
     "start_time": "2024-09-17T21:20:56.313287",
     "status": "completed"
    },
    "tags": []
   },
   "outputs": [],
   "source": [
    "def run_eval_for_top_ks(retriever, retriever_name: str, top_ks: list[int], target: TARGET, dataset_name: str, split: str):\n",
    "    results = []\n",
    "    for top_k in top_ks:\n",
    "        results.append(target.run(retriever=retriever, split=split, batch_size=100, top_k=top_k, retrieval_results_file=f\"./{retriever_name}/{dataset_name}_{top_k}.jsonl\"))\n",
    "    print(results)\n",
    "    return results\n",
    "    "
   ]
  },
  {
   "cell_type": "code",
   "execution_count": 4,
   "id": "76537d88",
   "metadata": {
    "execution": {
     "iopub.execute_input": "2024-09-17T21:20:56.322608Z",
     "iopub.status.busy": "2024-09-17T21:20:56.322132Z"
    },
    "papermill": {
     "duration": 12963.922517,
     "end_time": "2024-09-18T00:57:00.243048",
     "exception": false,
     "start_time": "2024-09-17T21:20:56.320531",
     "status": "completed"
    },
    "tags": []
   },
   "outputs": [
    {
     "name": "stdout",
     "output_type": "stream",
     "text": [
      "running tfidf without title on bird!\n"
     ]
    },
    {
     "data": {
      "application/vnd.jupyter.widget-view+json": {
       "model_id": "3144a570d6244629a00af3749be4eb88",
       "version_major": 2,
       "version_minor": 0
      },
      "text/plain": [
       "Fetching 104 files:   0%|          | 0/104 [00:00<?, ?it/s]"
      ]
     },
     "metadata": {},
     "output_type": "display_data"
    },
    {
     "name": "stderr",
     "output_type": "stream",
     "text": [
      "\r",
      "  0%|                                                                                                                 | 0/1 [00:00<?, ?it/s]"
     ]
    },
    {
     "name": "stderr",
     "output_type": "stream",
     "text": [
      "\n"
     ]
    },
    {
     "name": "stderr",
     "output_type": "stream",
     "text": [
      "\r",
      "0it [00:00, ?it/s]"
     ]
    },
    {
     "name": "stderr",
     "output_type": "stream",
     "text": [
      "\u001b[A"
     ]
    },
    {
     "name": "stderr",
     "output_type": "stream",
     "text": [
      "\r",
      "1it [00:00, 1619.42it/s]"
     ]
    },
    {
     "name": "stderr",
     "output_type": "stream",
     "text": [
      "\n",
      "\r",
      "100%|████████████████████████████████████████████████████████████████████████████████████████████████████████| 1/1 [00:00<00:00, 198.64it/s]"
     ]
    },
    {
     "name": "stderr",
     "output_type": "stream",
     "text": [
      "\n"
     ]
    },
    {
     "name": "stderr",
     "output_type": "stream",
     "text": [
      "\r",
      "Retrieving Tables for bird-validation...:   0%|                                                                    | 0/1534 [00:00<?, ?it/s]"
     ]
    },
    {
     "name": "stderr",
     "output_type": "stream",
     "text": [
      "\r",
      "Retrieving Tables for bird-validation...:   7%|███▊                                                      | 100/1534 [00:08<02:04, 11.53it/s]"
     ]
    },
    {
     "name": "stderr",
     "output_type": "stream",
     "text": [
      "\r",
      "Retrieving Tables for bird-validation...:   7%|███▊                                                      | 100/1534 [00:24<02:04, 11.53it/s]"
     ]
    },
    {
     "name": "stderr",
     "output_type": "stream",
     "text": [
      "\r",
      "Retrieving Tables for bird-validation...:  13%|███████▌                                                  | 200/1534 [01:08<08:40,  2.56it/s]"
     ]
    },
    {
     "name": "stderr",
     "output_type": "stream",
     "text": [
      "\r",
      "Retrieving Tables for bird-validation...:  20%|███████████▎                                              | 300/1534 [01:46<07:51,  2.62it/s]"
     ]
    },
    {
     "name": "stderr",
     "output_type": "stream",
     "text": [
      "\r",
      "Retrieving Tables for bird-validation...:  26%|███████████████                                           | 400/1534 [02:57<09:42,  1.95it/s]"
     ]
    },
    {
     "name": "stderr",
     "output_type": "stream",
     "text": [
      "\r",
      "Retrieving Tables for bird-validation...:  33%|██████████████████▉                                       | 500/1534 [06:15<17:55,  1.04s/it]"
     ]
    },
    {
     "name": "stderr",
     "output_type": "stream",
     "text": [
      "\r",
      "Retrieving Tables for bird-validation...:  39%|██████████████████████▋                                   | 600/1534 [08:48<18:47,  1.21s/it]"
     ]
    },
    {
     "name": "stderr",
     "output_type": "stream",
     "text": [
      "\r",
      "Retrieving Tables for bird-validation...:  46%|██████████████████████████▍                               | 700/1534 [12:39<21:47,  1.57s/it]"
     ]
    },
    {
     "name": "stderr",
     "output_type": "stream",
     "text": [
      "\r",
      "Retrieving Tables for bird-validation...:  52%|██████████████████████████████▏                           | 800/1534 [14:38<17:42,  1.45s/it]"
     ]
    },
    {
     "name": "stderr",
     "output_type": "stream",
     "text": [
      "\r",
      "Retrieving Tables for bird-validation...:  59%|██████████████████████████████████                        | 900/1534 [15:37<12:28,  1.18s/it]"
     ]
    },
    {
     "name": "stderr",
     "output_type": "stream",
     "text": [
      "\r",
      "Retrieving Tables for bird-validation...:  65%|█████████████████████████████████████▏                   | 1000/1534 [16:38<08:56,  1.00s/it]"
     ]
    },
    {
     "name": "stderr",
     "output_type": "stream",
     "text": [
      "\r",
      "Retrieving Tables for bird-validation...:  72%|████████████████████████████████████████▊                | 1100/1534 [19:54<09:23,  1.30s/it]"
     ]
    },
    {
     "name": "stderr",
     "output_type": "stream",
     "text": [
      "\r",
      "Retrieving Tables for bird-validation...:  78%|████████████████████████████████████████████▌            | 1200/1534 [22:09<07:18,  1.31s/it]"
     ]
    },
    {
     "name": "stderr",
     "output_type": "stream",
     "text": [
      "\r",
      "Retrieving Tables for bird-validation...:  85%|████████████████████████████████████████████████▎        | 1300/1534 [22:49<04:02,  1.04s/it]"
     ]
    },
    {
     "name": "stderr",
     "output_type": "stream",
     "text": [
      "\r",
      "Retrieving Tables for bird-validation...:  91%|████████████████████████████████████████████████████     | 1400/1534 [22:57<01:39,  1.34it/s]"
     ]
    },
    {
     "name": "stderr",
     "output_type": "stream",
     "text": [
      "\r",
      "Retrieving Tables for bird-validation...:  91%|████████████████████████████████████████████████████     | 1400/1534 [23:08<01:39,  1.34it/s]"
     ]
    },
    {
     "name": "stderr",
     "output_type": "stream",
     "text": [
      "\r",
      "Retrieving Tables for bird-validation...:  98%|███████████████████████████████████████████████████████▋ | 1500/1534 [23:11<00:19,  1.77it/s]"
     ]
    },
    {
     "name": "stderr",
     "output_type": "stream",
     "text": [
      "\r",
      "Retrieving Tables for bird-validation...: 1600it [23:32,  2.18it/s]                                                                         "
     ]
    },
    {
     "name": "stderr",
     "output_type": "stream",
     "text": [
      "\r",
      "Retrieving Tables for bird-validation...: 100%|█████████████████████████████████████████████████████████| 1534/1534 [23:32<00:00,  1.09it/s]"
     ]
    },
    {
     "name": "stderr",
     "output_type": "stream",
     "text": [
      "\n"
     ]
    },
    {
     "name": "stderr",
     "output_type": "stream",
     "text": [
      "\r",
      "  0%|                                                                                                                | 0/1 [00:00<?, ?it/s]"
     ]
    },
    {
     "name": "stderr",
     "output_type": "stream",
     "text": [
      "\n"
     ]
    },
    {
     "name": "stderr",
     "output_type": "stream",
     "text": [
      "\r",
      "0it [00:00, ?it/s]"
     ]
    },
    {
     "name": "stderr",
     "output_type": "stream",
     "text": [
      "\u001b[A"
     ]
    },
    {
     "name": "stderr",
     "output_type": "stream",
     "text": [
      "\r",
      "1it [00:00, 1450.81it/s]"
     ]
    },
    {
     "name": "stderr",
     "output_type": "stream",
     "text": [
      "\n",
      "\r",
      "100%|███████████████████████████████████████████████████████████████████████████████████████████████████████| 1/1 [00:00<00:00, 164.95it/s]"
     ]
    },
    {
     "name": "stderr",
     "output_type": "stream",
     "text": [
      "\n"
     ]
    },
    {
     "name": "stderr",
     "output_type": "stream",
     "text": [
      "\r",
      "Retrieving Tables for bird-validation...:   0%|                                                                   | 0/1534 [00:00<?, ?it/s]"
     ]
    },
    {
     "name": "stderr",
     "output_type": "stream",
     "text": [
      "\r",
      "Retrieving Tables for bird-validation...:   7%|███▌                                                   | 100/1534 [06:51<1:38:27,  4.12s/it]"
     ]
    },
    {
     "name": "stderr",
     "output_type": "stream",
     "text": [
      "\r",
      "Retrieving Tables for bird-validation...:  13%|███████▏                                               | 200/1534 [12:09<1:19:16,  3.57s/it]"
     ]
    },
    {
     "name": "stderr",
     "output_type": "stream",
     "text": [
      "\r",
      "Retrieving Tables for bird-validation...:  20%|███████████▏                                             | 300/1534 [13:25<46:56,  2.28s/it]"
     ]
    },
    {
     "name": "stderr",
     "output_type": "stream",
     "text": [
      "\r",
      "Retrieving Tables for bird-validation...:  26%|██████████████▊                                          | 400/1534 [19:41<54:09,  2.87s/it]"
     ]
    },
    {
     "name": "stderr",
     "output_type": "stream",
     "text": [
      "\r",
      "Retrieving Tables for bird-validation...:  33%|█████████████████▉                                     | 500/1534 [29:29<1:08:09,  3.95s/it]"
     ]
    },
    {
     "name": "stderr",
     "output_type": "stream",
     "text": [
      "\r",
      "Retrieving Tables for bird-validation...:  39%|█████████████████████▌                                 | 600/1534 [40:10<1:14:33,  4.79s/it]"
     ]
    },
    {
     "name": "stderr",
     "output_type": "stream",
     "text": [
      "\r",
      "Retrieving Tables for bird-validation...:  46%|█████████████████████████                              | 700/1534 [51:17<1:15:07,  5.40s/it]"
     ]
    },
    {
     "name": "stderr",
     "output_type": "stream",
     "text": [
      "\r",
      "Retrieving Tables for bird-validation...:  52%|█████████████████████████████▋                           | 800/1534 [55:45<55:29,  4.54s/it]"
     ]
    },
    {
     "name": "stderr",
     "output_type": "stream",
     "text": [
      "\r",
      "Retrieving Tables for bird-validation...:  59%|█████████████████████████████████▍                       | 900/1534 [56:50<35:05,  3.32s/it]"
     ]
    },
    {
     "name": "stderr",
     "output_type": "stream",
     "text": [
      "\r",
      "Retrieving Tables for bird-validation...:  65%|███████████████████████████████████▏                  | 1000/1534 [1:00:50<27:01,  3.04s/it]"
     ]
    },
    {
     "name": "stderr",
     "output_type": "stream",
     "text": [
      "\r",
      "Retrieving Tables for bird-validation...:  72%|██████████████████████████████████████▋               | 1100/1534 [1:08:58<26:02,  3.60s/it]"
     ]
    },
    {
     "name": "stderr",
     "output_type": "stream",
     "text": [
      "\r",
      "Retrieving Tables for bird-validation...:  78%|██████████████████████████████████████████▏           | 1200/1534 [1:14:52<19:56,  3.58s/it]"
     ]
    },
    {
     "name": "stderr",
     "output_type": "stream",
     "text": [
      "\r",
      "Retrieving Tables for bird-validation...:  85%|█████████████████████████████████████████████▊        | 1300/1534 [1:15:13<09:58,  2.56s/it]"
     ]
    },
    {
     "name": "stderr",
     "output_type": "stream",
     "text": [
      "\r",
      "Retrieving Tables for bird-validation...:  91%|█████████████████████████████████████████████████▎    | 1400/1534 [1:15:36<04:08,  1.86s/it]"
     ]
    },
    {
     "name": "stderr",
     "output_type": "stream",
     "text": [
      "\r",
      "Retrieving Tables for bird-validation...:  98%|████████████████████████████████████████████████████▊ | 1500/1534 [1:16:22<00:48,  1.44s/it]"
     ]
    },
    {
     "name": "stderr",
     "output_type": "stream",
     "text": [
      "\r",
      "Retrieving Tables for bird-validation...: 1600it [1:17:39,  1.23s/it]                                                                      "
     ]
    },
    {
     "name": "stderr",
     "output_type": "stream",
     "text": [
      "\r",
      "Retrieving Tables for bird-validation...: 100%|██████████████████████████████████████████████████████| 1534/1534 [1:17:39<00:00,  3.04s/it]"
     ]
    },
    {
     "name": "stderr",
     "output_type": "stream",
     "text": [
      "\n"
     ]
    },
    {
     "name": "stderr",
     "output_type": "stream",
     "text": [
      "\r",
      "  0%|                                                                                                                | 0/1 [00:00<?, ?it/s]"
     ]
    },
    {
     "name": "stderr",
     "output_type": "stream",
     "text": [
      "\n"
     ]
    },
    {
     "name": "stderr",
     "output_type": "stream",
     "text": [
      "\r",
      "0it [00:00, ?it/s]"
     ]
    },
    {
     "name": "stderr",
     "output_type": "stream",
     "text": [
      "\u001b[A"
     ]
    },
    {
     "name": "stderr",
     "output_type": "stream",
     "text": [
      "\r",
      "1it [00:00, 1100.58it/s]"
     ]
    },
    {
     "name": "stderr",
     "output_type": "stream",
     "text": [
      "\n",
      "\r",
      "100%|███████████████████████████████████████████████████████████████████████████████████████████████████████| 1/1 [00:00<00:00, 172.48it/s]"
     ]
    },
    {
     "name": "stderr",
     "output_type": "stream",
     "text": [
      "\n"
     ]
    },
    {
     "name": "stderr",
     "output_type": "stream",
     "text": [
      "\r",
      "Retrieving Tables for bird-validation...:   0%|                                                                   | 0/1534 [00:00<?, ?it/s]"
     ]
    },
    {
     "name": "stderr",
     "output_type": "stream",
     "text": [
      "\r",
      "Retrieving Tables for bird-validation...:   7%|███▌                                                   | 100/1534 [08:41<2:04:39,  5.22s/it]"
     ]
    },
    {
     "name": "stderr",
     "output_type": "stream",
     "text": [
      "\r",
      "Retrieving Tables for bird-validation...:  13%|███████▏                                               | 200/1534 [14:09<1:30:35,  4.07s/it]"
     ]
    },
    {
     "name": "stderr",
     "output_type": "stream",
     "text": [
      "\r",
      "Retrieving Tables for bird-validation...:  20%|███████████▏                                             | 300/1534 [15:46<54:39,  2.66s/it]"
     ]
    },
    {
     "name": "stderr",
     "output_type": "stream",
     "text": [
      "\r",
      "Retrieving Tables for bird-validation...:  26%|██████████████▊                                          | 400/1534 [19:21<46:27,  2.46s/it]"
     ]
    },
    {
     "name": "stderr",
     "output_type": "stream",
     "text": [
      "\r",
      "Retrieving Tables for bird-validation...:  33%|█████████████████▉                                     | 500/1534 [31:42<1:13:08,  4.24s/it]"
     ]
    },
    {
     "name": "stderr",
     "output_type": "stream",
     "text": [
      "\r",
      "Retrieving Tables for bird-validation...:  39%|█████████████████████▌                                 | 600/1534 [38:27<1:05:03,  4.18s/it]"
     ]
    },
    {
     "name": "stderr",
     "output_type": "stream",
     "text": [
      "\r",
      "Retrieving Tables for bird-validation...:  46%|██████████████████████████                               | 700/1534 [44:41<56:04,  4.03s/it]"
     ]
    },
    {
     "name": "stderr",
     "output_type": "stream",
     "text": [
      "\r",
      "Retrieving Tables for bird-validation...:  52%|█████████████████████████████▋                           | 800/1534 [49:14<44:17,  3.62s/it]"
     ]
    },
    {
     "name": "stderr",
     "output_type": "stream",
     "text": [
      "\r",
      "Retrieving Tables for bird-validation...:  59%|█████████████████████████████████▍                       | 900/1534 [50:13<28:13,  2.67s/it]"
     ]
    },
    {
     "name": "stderr",
     "output_type": "stream",
     "text": [
      "\r",
      "Retrieving Tables for bird-validation...:  65%|████████████████████████████████████▌                   | 1000/1534 [53:35<21:58,  2.47s/it]"
     ]
    },
    {
     "name": "stderr",
     "output_type": "stream",
     "text": [
      "\r",
      "Retrieving Tables for bird-validation...:  72%|████████████████████████████████████████▏               | 1100/1534 [59:20<20:02,  2.77s/it]"
     ]
    },
    {
     "name": "stderr",
     "output_type": "stream",
     "text": [
      "\r",
      "Retrieving Tables for bird-validation...:  78%|██████████████████████████████████████████▏           | 1200/1534 [1:05:34<17:04,  3.07s/it]"
     ]
    },
    {
     "name": "stderr",
     "output_type": "stream",
     "text": [
      "\r",
      "Retrieving Tables for bird-validation...:  85%|█████████████████████████████████████████████▊        | 1300/1534 [1:06:02<08:39,  2.22s/it]"
     ]
    },
    {
     "name": "stderr",
     "output_type": "stream",
     "text": [
      "\r",
      "Retrieving Tables for bird-validation...:  91%|█████████████████████████████████████████████████▎    | 1400/1534 [1:06:59<03:50,  1.72s/it]"
     ]
    },
    {
     "name": "stderr",
     "output_type": "stream",
     "text": [
      "\r",
      "Retrieving Tables for bird-validation...:  98%|████████████████████████████████████████████████████▊ | 1500/1534 [1:08:03<00:47,  1.40s/it]"
     ]
    },
    {
     "name": "stderr",
     "output_type": "stream",
     "text": [
      "\r",
      "Retrieving Tables for bird-validation...: 1600it [1:08:35,  1.07s/it]                                                                      "
     ]
    },
    {
     "name": "stderr",
     "output_type": "stream",
     "text": [
      "\r",
      "Retrieving Tables for bird-validation...: 100%|██████████████████████████████████████████████████████| 1534/1534 [1:08:35<00:00,  2.68s/it]"
     ]
    },
    {
     "name": "stderr",
     "output_type": "stream",
     "text": [
      "\n"
     ]
    },
    {
     "name": "stderr",
     "output_type": "stream",
     "text": [
      "\r",
      "  0%|                                                                                                                | 0/1 [00:00<?, ?it/s]"
     ]
    },
    {
     "name": "stderr",
     "output_type": "stream",
     "text": [
      "\n"
     ]
    },
    {
     "name": "stderr",
     "output_type": "stream",
     "text": [
      "\r",
      "0it [00:00, ?it/s]"
     ]
    },
    {
     "name": "stderr",
     "output_type": "stream",
     "text": [
      "\u001b[A"
     ]
    },
    {
     "name": "stderr",
     "output_type": "stream",
     "text": [
      "\r",
      "1it [00:00, 866.23it/s]"
     ]
    },
    {
     "name": "stderr",
     "output_type": "stream",
     "text": [
      "\n",
      "\r",
      "100%|███████████████████████████████████████████████████████████████████████████████████████████████████████| 1/1 [00:00<00:00, 187.73it/s]"
     ]
    },
    {
     "name": "stderr",
     "output_type": "stream",
     "text": [
      "\n"
     ]
    },
    {
     "name": "stderr",
     "output_type": "stream",
     "text": [
      "\r",
      "Retrieving Tables for bird-validation...:   0%|                                                                   | 0/1534 [00:00<?, ?it/s]"
     ]
    },
    {
     "name": "stderr",
     "output_type": "stream",
     "text": [
      "\r",
      "Retrieving Tables for bird-validation...:   7%|███▌                                                   | 100/1534 [11:25<2:43:50,  6.86s/it]"
     ]
    },
    {
     "name": "stderr",
     "output_type": "stream",
     "text": [
      "\r",
      "Retrieving Tables for bird-validation...:  13%|███████▏                                               | 200/1534 [17:50<1:53:07,  5.09s/it]"
     ]
    },
    {
     "name": "stderr",
     "output_type": "stream",
     "text": [
      "\r",
      "Retrieving Tables for bird-validation...:  20%|██████████▊                                            | 300/1534 [21:58<1:20:06,  3.89s/it]"
     ]
    },
    {
     "name": "stderr",
     "output_type": "stream",
     "text": [
      "\r",
      "Retrieving Tables for bird-validation...:  26%|██████████████▎                                        | 400/1534 [31:57<1:29:18,  4.73s/it]"
     ]
    }
   ],
   "source": [
    "from target_benchmark.retrievers import OTTQARetriever\n",
    "tfidf_no_title = OTTQARetriever(encoding=\"tfidf\", withtitle=False)\n",
    "print(\"running tfidf without title on bird!\")\n",
    "tfidf_no_title_results_bird_val = run_eval_for_top_ks(tfidf_no_title, \"tfidf_no_title\",top_ks, target_bird, \"bird\", \"validation\")"
   ]
  },
  {
   "cell_type": "code",
   "execution_count": null,
   "id": "2c599e2f",
   "metadata": {
    "papermill": {
     "duration": null,
     "end_time": null,
     "exception": null,
     "start_time": null,
     "status": "completed"
    },
    "tags": []
   },
   "outputs": [],
   "source": [
    "tfidf_no_title_results_bird_val"
   ]
  }
 ],
 "metadata": {
  "language_info": {
   "name": "python"
  },
  "papermill": {
   "default_parameters": {},
   "duration": 12973.426904,
   "end_time": "2024-09-18T00:57:00.308907",
   "environment_variables": {},
   "exception": null,
   "input_path": "tfidf_no_title_bird_val_in.ipynb",
   "output_path": "tfidf_no_title_results_bird_val.ipynb",
   "parameters": {},
   "start_time": "2024-09-17T21:20:46.882003",
   "version": "2.6.0"
  }
 },
 "nbformat": 4,
 "nbformat_minor": 5
}
