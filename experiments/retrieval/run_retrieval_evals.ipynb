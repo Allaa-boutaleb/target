{
 "cells": [
  {
   "cell_type": "code",
   "execution_count": 1,
   "metadata": {},
   "outputs": [
    {
     "name": "stderr",
     "output_type": "stream",
     "text": [
      "2024-09-17 09:05:39.185354: I external/local_tsl/tsl/cuda/cudart_stub.cc:32] Could not find cuda drivers on your machine, GPU will not be used.\n",
      "2024-09-17 09:05:39.189052: I external/local_tsl/tsl/cuda/cudart_stub.cc:32] Could not find cuda drivers on your machine, GPU will not be used.\n",
      "2024-09-17 09:05:39.242914: I tensorflow/core/platform/cpu_feature_guard.cc:210] This TensorFlow binary is optimized to use available CPU instructions in performance-critical operations.\n",
      "To enable the following instructions: AVX2 FMA, in other operations, rebuild TensorFlow with the appropriate compiler flags.\n",
      "2024-09-17 09:05:40.369654: W tensorflow/compiler/tf2tensorrt/utils/py_utils.cc:38] TF-TRT Warning: Could not find TensorRT\n"
     ]
    }
   ],
   "source": [
    "from target_benchmark.evaluators import TARGET, get_task_names\n",
    "target_fetaqa = TARGET((\"Table Retrieval Task\", \"fetaqa\"))\n",
    "target_ottqa = TARGET((\"Table Retrieval Task\", \"ottqa\"))\n",
    "target_tabfact = TARGET((\"Table Retrieval Task\", \"tabfact\"))\n",
    "target_spider = TARGET((\"Table Retrieval Task\", \"spider-test\"))\n",
    "target_bird = TARGET((\"Table Retrieval Task\", \"bird-validation\"))\n",
    "target_infiagentda = TARGET((\"Table Retrieval Task\", \"infiagentda\"))"
   ]
  },
  {
   "cell_type": "code",
   "execution_count": 2,
   "metadata": {},
   "outputs": [],
   "source": [
    "top_ks = [1, 5, 10, 25, 50]"
   ]
  },
  {
   "cell_type": "code",
   "execution_count": 3,
   "metadata": {},
   "outputs": [],
   "source": [
    "def run_eval_for_top_ks(retriever, retriever_name: str, top_ks: list[int], target: TARGET, dataset_name: str, split: str):\n",
    "    results = []\n",
    "    for top_k in top_ks:\n",
    "        results.append(target.run(retriever=retriever, split=split, batch_size=100, top_k=top_k, retrieval_results_file=f\"./{retriever_name}/{dataset_name}_{top_k}.jsonl\"))\n",
    "    print(results)\n",
    "    return results\n",
    "    "
   ]
  },
  {
   "cell_type": "markdown",
   "metadata": {},
   "source": [
    "# Llamaindex"
   ]
  },
  {
   "cell_type": "code",
   "execution_count": 4,
   "metadata": {},
   "outputs": [],
   "source": [
    "from target_benchmark.retrievers import LlamaIndexRetriever\n",
    "llamaindex_retriever = LlamaIndexRetriever()"
   ]
  },
  {
   "cell_type": "markdown",
   "metadata": {},
   "source": [
    "## Fetaqa Test"
   ]
  },
  {
   "cell_type": "code",
   "execution_count": null,
   "metadata": {},
   "outputs": [],
   "source": [
    "llamaindex_results_fetaqa_test = run_eval_for_top_ks(llamaindex_retriever, \"llamaindex\",top_ks, target_fetaqa, \"fetaqa\", \"test\")"
   ]
  },
  {
   "cell_type": "code",
   "execution_count": 6,
   "metadata": {},
   "outputs": [
    {
     "data": {
      "text/plain": [
       "[{'Table Retrieval Task': {'fetaqa': TaskResultsDataModel(retrieval_performance=RetrievalPerformanceDataModel(k=1, accuracy=0.2381427858212681, precision=None, recall=None, retrieval_time=405.29509, avg_retrieval_time=0.20234), downstream_task_performance=DownstreamTaskPerformanceDataModel(task_name=None, scores=None), embedding_statistics=EmbeddingStatisticsDataModel(embedding_creation_duration=152.35639, avg_embedding_creation_duration=0.07606, embedding_size=8.53197, avg_embedding_size=0.00426))}},\n",
       " {'Table Retrieval Task': {'fetaqa': TaskResultsDataModel(retrieval_performance=RetrievalPerformanceDataModel(k=5, accuracy=0.37993010484273587, precision=None, recall=None, retrieval_time=429.66376, avg_retrieval_time=0.21451), downstream_task_performance=DownstreamTaskPerformanceDataModel(task_name=None, scores=None), embedding_statistics=EmbeddingStatisticsDataModel(embedding_creation_duration=20.32173, avg_embedding_creation_duration=0.01015, embedding_size=0.0, avg_embedding_size=0.0))}},\n",
       " {'Table Retrieval Task': {'fetaqa': TaskResultsDataModel(retrieval_performance=RetrievalPerformanceDataModel(k=10, accuracy=0.436345481777334, precision=None, recall=None, retrieval_time=412.36555, avg_retrieval_time=0.20587), downstream_task_performance=DownstreamTaskPerformanceDataModel(task_name=None, scores=None), embedding_statistics=EmbeddingStatisticsDataModel(embedding_creation_duration=20.23989, avg_embedding_creation_duration=0.0101, embedding_size=0.0, avg_embedding_size=0.0))}},\n",
       " {'Table Retrieval Task': {'fetaqa': TaskResultsDataModel(retrieval_performance=RetrievalPerformanceDataModel(k=25, accuracy=0.545681477783325, precision=None, recall=None, retrieval_time=413.68584, avg_retrieval_time=0.20653), downstream_task_performance=DownstreamTaskPerformanceDataModel(task_name=None, scores=None), embedding_statistics=EmbeddingStatisticsDataModel(embedding_creation_duration=20.08907, avg_embedding_creation_duration=0.01003, embedding_size=0.0041, avg_embedding_size=0.0))}},\n",
       " {'Table Retrieval Task': {'fetaqa': TaskResultsDataModel(retrieval_performance=RetrievalPerformanceDataModel(k=50, accuracy=0.6230654018971543, precision=None, recall=None, retrieval_time=418.37355, avg_retrieval_time=0.20887), downstream_task_performance=DownstreamTaskPerformanceDataModel(task_name=None, scores=None), embedding_statistics=EmbeddingStatisticsDataModel(embedding_creation_duration=20.56766, avg_embedding_creation_duration=0.01027, embedding_size=0.0041, avg_embedding_size=0.0))}}]"
      ]
     },
     "execution_count": 6,
     "metadata": {},
     "output_type": "execute_result"
    }
   ],
   "source": [
    "llamaindex_results_fetaqa_test"
   ]
  },
  {
   "cell_type": "markdown",
   "metadata": {},
   "source": [
    "# OTTQA bm25 with Title"
   ]
  },
  {
   "cell_type": "code",
   "execution_count": 4,
   "metadata": {},
   "outputs": [],
   "source": [
    "from target_benchmark.retrievers import OTTQARetriever\n",
    "bm25_with_title = OTTQARetriever(encoding=\"bm25\", withtitle=True)"
   ]
  },
  {
   "cell_type": "code",
   "execution_count": null,
   "metadata": {},
   "outputs": [],
   "source": [
    "# fetaqa\n",
    "bm25_with_title_results_fetaqa_test = run_eval_for_top_ks(bm25_with_title, \"bm25_with_title\",top_ks, target_fetaqa, \"fetaqa\", \"test\")"
   ]
  },
  {
   "cell_type": "code",
   "execution_count": 6,
   "metadata": {},
   "outputs": [
    {
     "data": {
      "text/plain": [
       "[{'Table Retrieval Task': {'fetaqa': TaskResultsDataModel(retrieval_performance=RetrievalPerformanceDataModel(k=1, accuracy=0.02895656515227159, precision=None, recall=None, retrieval_time=1.72716, avg_retrieval_time=0.00086), downstream_task_performance=DownstreamTaskPerformanceDataModel(task_name=None, scores=None), embedding_statistics=EmbeddingStatisticsDataModel(embedding_creation_duration=4.27167, avg_embedding_creation_duration=0.00213, embedding_size=0.22528, avg_embedding_size=0.00011))}},\n",
       " {'Table Retrieval Task': {'fetaqa': TaskResultsDataModel(retrieval_performance=RetrievalPerformanceDataModel(k=5, accuracy=0.06090863704443335, precision=None, recall=None, retrieval_time=1.38747, avg_retrieval_time=0.00069), downstream_task_performance=DownstreamTaskPerformanceDataModel(task_name=None, scores=None), embedding_statistics=EmbeddingStatisticsDataModel(embedding_creation_duration=4.26014, avg_embedding_creation_duration=0.00213, embedding_size=0.0041, avg_embedding_size=0.0))}},\n",
       " {'Table Retrieval Task': {'fetaqa': TaskResultsDataModel(retrieval_performance=RetrievalPerformanceDataModel(k=10, accuracy=0.08237643534697953, precision=None, recall=None, retrieval_time=1.48291, avg_retrieval_time=0.00074), downstream_task_performance=DownstreamTaskPerformanceDataModel(task_name=None, scores=None), embedding_statistics=EmbeddingStatisticsDataModel(embedding_creation_duration=4.23291, avg_embedding_creation_duration=0.00211, embedding_size=0.00819, avg_embedding_size=0.0))}},\n",
       " {'Table Retrieval Task': {'fetaqa': TaskResultsDataModel(retrieval_performance=RetrievalPerformanceDataModel(k=25, accuracy=0.13030454318522217, precision=None, recall=None, retrieval_time=1.62243, avg_retrieval_time=0.00081), downstream_task_performance=DownstreamTaskPerformanceDataModel(task_name=None, scores=None), embedding_statistics=EmbeddingStatisticsDataModel(embedding_creation_duration=4.31014, avg_embedding_creation_duration=0.00215, embedding_size=0.0041, avg_embedding_size=0.0))}},\n",
       " {'Table Retrieval Task': {'fetaqa': TaskResultsDataModel(retrieval_performance=RetrievalPerformanceDataModel(k=50, accuracy=0.18172740888667, precision=None, recall=None, retrieval_time=1.78534, avg_retrieval_time=0.00089), downstream_task_performance=DownstreamTaskPerformanceDataModel(task_name=None, scores=None), embedding_statistics=EmbeddingStatisticsDataModel(embedding_creation_duration=4.26671, avg_embedding_creation_duration=0.00213, embedding_size=0.00819, avg_embedding_size=0.0))}}]"
      ]
     },
     "execution_count": 6,
     "metadata": {},
     "output_type": "execute_result"
    }
   ],
   "source": [
    "bm25_with_title_results_fetaqa_test"
   ]
  },
  {
   "cell_type": "code",
   "execution_count": null,
   "metadata": {},
   "outputs": [],
   "source": [
    "# ottqa\n",
    "bm25_with_title_results_ottqa_val = run_eval_for_top_ks(bm25_with_title, \"bm25_with_title\",top_ks, target_ottqa, \"ottqa\", \"validation\")"
   ]
  },
  {
   "cell_type": "code",
   "execution_count": 8,
   "metadata": {},
   "outputs": [
    {
     "data": {
      "text/plain": [
       "[{'Table Retrieval Task': {'ottqa': TaskResultsDataModel(retrieval_performance=RetrievalPerformanceDataModel(k=1, accuracy=0.7389340560072267, precision=None, recall=None, retrieval_time=1.7545, avg_retrieval_time=0.00079), downstream_task_performance=DownstreamTaskPerformanceDataModel(task_name=None, scores=None), embedding_statistics=EmbeddingStatisticsDataModel(embedding_creation_duration=3.51262, avg_embedding_creation_duration=0.00445, embedding_size=-0.70451, avg_embedding_size=-0.00089))}},\n",
       " {'Table Retrieval Task': {'ottqa': TaskResultsDataModel(retrieval_performance=RetrievalPerformanceDataModel(k=5, accuracy=0.9155374887082204, precision=None, recall=None, retrieval_time=1.87847, avg_retrieval_time=0.00085), downstream_task_performance=DownstreamTaskPerformanceDataModel(task_name=None, scores=None), embedding_statistics=EmbeddingStatisticsDataModel(embedding_creation_duration=3.48722, avg_embedding_creation_duration=0.00442, embedding_size=0.00819, avg_embedding_size=1e-05))}},\n",
       " {'Table Retrieval Task': {'ottqa': TaskResultsDataModel(retrieval_performance=RetrievalPerformanceDataModel(k=10, accuracy=0.9552845528455285, precision=None, recall=None, retrieval_time=2.03291, avg_retrieval_time=0.00092), downstream_task_performance=DownstreamTaskPerformanceDataModel(task_name=None, scores=None), embedding_statistics=EmbeddingStatisticsDataModel(embedding_creation_duration=3.48971, avg_embedding_creation_duration=0.00442, embedding_size=0.00819, avg_embedding_size=1e-05))}},\n",
       " {'Table Retrieval Task': {'ottqa': TaskResultsDataModel(retrieval_performance=RetrievalPerformanceDataModel(k=25, accuracy=0.971996386630533, precision=None, recall=None, retrieval_time=2.39444, avg_retrieval_time=0.00108), downstream_task_performance=DownstreamTaskPerformanceDataModel(task_name=None, scores=None), embedding_statistics=EmbeddingStatisticsDataModel(embedding_creation_duration=3.50718, avg_embedding_creation_duration=0.00445, embedding_size=0.00819, avg_embedding_size=1e-05))}},\n",
       " {'Table Retrieval Task': {'ottqa': TaskResultsDataModel(retrieval_performance=RetrievalPerformanceDataModel(k=50, accuracy=0.9778681120144534, precision=None, recall=None, retrieval_time=2.86432, avg_retrieval_time=0.00129), downstream_task_performance=DownstreamTaskPerformanceDataModel(task_name=None, scores=None), embedding_statistics=EmbeddingStatisticsDataModel(embedding_creation_duration=3.50233, avg_embedding_creation_duration=0.00444, embedding_size=0.0041, avg_embedding_size=1e-05))}}]"
      ]
     },
     "execution_count": 8,
     "metadata": {},
     "output_type": "execute_result"
    }
   ],
   "source": [
    "bm25_with_title_results_ottqa_val"
   ]
  },
  {
   "cell_type": "code",
   "execution_count": null,
   "metadata": {},
   "outputs": [],
   "source": [
    "# tabfact\n",
    "bm25_with_title_results_tabfact_test = run_eval_for_top_ks(bm25_with_title, \"bm25_with_title\",top_ks, target_tabfact, \"tabfact\", \"test\")"
   ]
  },
  {
   "cell_type": "code",
   "execution_count": 10,
   "metadata": {},
   "outputs": [
    {
     "data": {
      "text/plain": [
       "[{'Table Retrieval Task': {'tabfact': TaskResultsDataModel(retrieval_performance=RetrievalPerformanceDataModel(k=1, accuracy=0.14719461616714924, precision=None, recall=None, retrieval_time=8.62096, avg_retrieval_time=0.00067), downstream_task_performance=DownstreamTaskPerformanceDataModel(task_name=None, scores=None), embedding_statistics=EmbeddingStatisticsDataModel(embedding_creation_duration=4.08682, avg_embedding_creation_duration=0.00241, embedding_size=0.49152, avg_embedding_size=0.00029))}},\n",
       " {'Table Retrieval Task': {'tabfact': TaskResultsDataModel(retrieval_performance=RetrievalPerformanceDataModel(k=5, accuracy=0.27341732529931917, precision=None, recall=None, retrieval_time=9.61268, avg_retrieval_time=0.00075), downstream_task_performance=DownstreamTaskPerformanceDataModel(task_name=None, scores=None), embedding_statistics=EmbeddingStatisticsDataModel(embedding_creation_duration=4.04633, avg_embedding_creation_duration=0.00239, embedding_size=0.00819, avg_embedding_size=0.0))}},\n",
       " {'Table Retrieval Task': {'tabfact': TaskResultsDataModel(retrieval_performance=RetrievalPerformanceDataModel(k=10, accuracy=0.33813287424681115, precision=None, recall=None, retrieval_time=9.77552, avg_retrieval_time=0.00076), downstream_task_performance=DownstreamTaskPerformanceDataModel(task_name=None, scores=None), embedding_statistics=EmbeddingStatisticsDataModel(embedding_creation_duration=4.03266, avg_embedding_creation_duration=0.00238, embedding_size=0.0041, avg_embedding_size=0.0))}},\n",
       " {'Table Retrieval Task': {'tabfact': TaskResultsDataModel(retrieval_performance=RetrievalPerformanceDataModel(k=25, accuracy=0.4433836763440019, precision=None, recall=None, retrieval_time=12.30078, avg_retrieval_time=0.00096), downstream_task_performance=DownstreamTaskPerformanceDataModel(task_name=None, scores=None), embedding_statistics=EmbeddingStatisticsDataModel(embedding_creation_duration=4.05565, avg_embedding_creation_duration=0.00239, embedding_size=0.0041, avg_embedding_size=0.0))}},\n",
       " {'Table Retrieval Task': {'tabfact': TaskResultsDataModel(retrieval_performance=RetrievalPerformanceDataModel(k=50, accuracy=0.536818217387902, precision=None, recall=None, retrieval_time=14.68424, avg_retrieval_time=0.00115), downstream_task_performance=DownstreamTaskPerformanceDataModel(task_name=None, scores=None), embedding_statistics=EmbeddingStatisticsDataModel(embedding_creation_duration=4.05256, avg_embedding_creation_duration=0.00239, embedding_size=0.0041, avg_embedding_size=0.0))}}]"
      ]
     },
     "execution_count": 10,
     "metadata": {},
     "output_type": "execute_result"
    }
   ],
   "source": [
    "bm25_with_title_results_tabfact_test"
   ]
  },
  {
   "cell_type": "code",
   "execution_count": null,
   "metadata": {},
   "outputs": [],
   "source": [
    "# spider\n",
    "bm25_with_title_results_spider_test = run_eval_for_top_ks(bm25_with_title, \"bm25_with_title\",top_ks, target_spider, \"spider\", \"test\")"
   ]
  },
  {
   "cell_type": "code",
   "execution_count": 12,
   "metadata": {},
   "outputs": [
    {
     "data": {
      "text/plain": [
       "[{'Table Retrieval Task': {'spider-test': TaskResultsDataModel(retrieval_performance=RetrievalPerformanceDataModel(k=1, accuracy=0.6348393106660456, precision=None, recall=None, retrieval_time=1.83242, avg_retrieval_time=0.00085), downstream_task_performance=DownstreamTaskPerformanceDataModel(task_name=None, scores=None), embedding_statistics=EmbeddingStatisticsDataModel(embedding_creation_duration=3.79019, avg_embedding_creation_duration=0.02106, embedding_size=8.05683, avg_embedding_size=0.04476))}},\n",
       " {'Table Retrieval Task': {'spider-test': TaskResultsDataModel(retrieval_performance=RetrievalPerformanceDataModel(k=5, accuracy=0.8304611085235212, precision=None, recall=None, retrieval_time=1.42678, avg_retrieval_time=0.00066), downstream_task_performance=DownstreamTaskPerformanceDataModel(task_name=None, scores=None), embedding_statistics=EmbeddingStatisticsDataModel(embedding_creation_duration=3.45637, avg_embedding_creation_duration=0.0192, embedding_size=0.0041, avg_embedding_size=2e-05))}},\n",
       " {'Table Retrieval Task': {'spider-test': TaskResultsDataModel(retrieval_performance=RetrievalPerformanceDataModel(k=10, accuracy=0.8602701443875175, precision=None, recall=None, retrieval_time=1.49957, avg_retrieval_time=0.0007), downstream_task_performance=DownstreamTaskPerformanceDataModel(task_name=None, scores=None), embedding_statistics=EmbeddingStatisticsDataModel(embedding_creation_duration=3.44473, avg_embedding_creation_duration=0.01914, embedding_size=0.00819, avg_embedding_size=5e-05))}},\n",
       " {'Table Retrieval Task': {'spider-test': TaskResultsDataModel(retrieval_performance=RetrievalPerformanceDataModel(k=25, accuracy=0.8737773637633908, precision=None, recall=None, retrieval_time=1.59668, avg_retrieval_time=0.00074), downstream_task_performance=DownstreamTaskPerformanceDataModel(task_name=None, scores=None), embedding_statistics=EmbeddingStatisticsDataModel(embedding_creation_duration=3.42585, avg_embedding_creation_duration=0.01903, embedding_size=0.0041, avg_embedding_size=2e-05))}},\n",
       " {'Table Retrieval Task': {'spider-test': TaskResultsDataModel(retrieval_performance=RetrievalPerformanceDataModel(k=50, accuracy=0.8779692594317653, precision=None, recall=None, retrieval_time=1.71224, avg_retrieval_time=0.0008), downstream_task_performance=DownstreamTaskPerformanceDataModel(task_name=None, scores=None), embedding_statistics=EmbeddingStatisticsDataModel(embedding_creation_duration=3.46258, avg_embedding_creation_duration=0.01924, embedding_size=0.01229, avg_embedding_size=7e-05))}}]"
      ]
     },
     "execution_count": 12,
     "metadata": {},
     "output_type": "execute_result"
    }
   ],
   "source": [
    "bm25_with_title_results_spider_test"
   ]
  },
  {
   "cell_type": "markdown",
   "metadata": {},
   "source": [
    "# OTTQA bm25 without Title"
   ]
  },
  {
   "cell_type": "code",
   "execution_count": 13,
   "metadata": {},
   "outputs": [],
   "source": [
    "from target_benchmark.retrievers import OTTQARetriever\n",
    "bm25_no_title = OTTQARetriever(encoding=\"bm25\", withtitle=False)"
   ]
  },
  {
   "cell_type": "code",
   "execution_count": 14,
   "metadata": {},
   "outputs": [
    {
     "name": "stderr",
     "output_type": "stream",
     "text": [
      "1it [00:00, 44.24it/s]00:00<?, ?it/s]\n",
      "100%|██████████| 1/1 [00:00<00:00, 38.00it/s]\n",
      "Retrieving Tables for fetaqa...:   0%|          | 0/2003 [00:00<?, ?it/s]"
     ]
    },
    {
     "ename": "KeyError",
     "evalue": "('1424', '')",
     "output_type": "error",
     "traceback": [
      "\u001b[0;31m---------------------------------------------------------------------------\u001b[0m",
      "\u001b[0;31mKeyError\u001b[0m                                  Traceback (most recent call last)",
      "Cell \u001b[0;32mIn[14], line 2\u001b[0m\n\u001b[1;32m      1\u001b[0m \u001b[38;5;66;03m# fetaqa\u001b[39;00m\n\u001b[0;32m----> 2\u001b[0m bm25_no_title_results_fetaqa_test \u001b[38;5;241m=\u001b[39m \u001b[43mrun_eval_for_top_ks\u001b[49m\u001b[43m(\u001b[49m\u001b[43mbm25_no_title\u001b[49m\u001b[43m,\u001b[49m\u001b[43m \u001b[49m\u001b[38;5;124;43m\"\u001b[39;49m\u001b[38;5;124;43mbm25_no_title\u001b[39;49m\u001b[38;5;124;43m\"\u001b[39;49m\u001b[43m,\u001b[49m\u001b[43m \u001b[49m\u001b[43mtop_ks\u001b[49m\u001b[43m,\u001b[49m\u001b[43m \u001b[49m\u001b[43mtarget_fetaqa\u001b[49m\u001b[43m,\u001b[49m\u001b[43m \u001b[49m\u001b[38;5;124;43m\"\u001b[39;49m\u001b[38;5;124;43mfetaqa\u001b[39;49m\u001b[38;5;124;43m\"\u001b[39;49m\u001b[43m,\u001b[49m\u001b[43m \u001b[49m\u001b[38;5;124;43m\"\u001b[39;49m\u001b[38;5;124;43mtest\u001b[39;49m\u001b[38;5;124;43m\"\u001b[39;49m\u001b[43m)\u001b[49m\n",
      "Cell \u001b[0;32mIn[3], line 4\u001b[0m, in \u001b[0;36mrun_eval_for_top_ks\u001b[0;34m(retriever, retriever_name, top_ks, target, dataset_name, split)\u001b[0m\n\u001b[1;32m      2\u001b[0m results \u001b[38;5;241m=\u001b[39m []\n\u001b[1;32m      3\u001b[0m \u001b[38;5;28;01mfor\u001b[39;00m top_k \u001b[38;5;129;01min\u001b[39;00m top_ks:\n\u001b[0;32m----> 4\u001b[0m     results\u001b[38;5;241m.\u001b[39mappend(\u001b[43mtarget\u001b[49m\u001b[38;5;241;43m.\u001b[39;49m\u001b[43mrun\u001b[49m\u001b[43m(\u001b[49m\u001b[43mretriever\u001b[49m\u001b[38;5;241;43m=\u001b[39;49m\u001b[43mretriever\u001b[49m\u001b[43m,\u001b[49m\u001b[43m \u001b[49m\u001b[43msplit\u001b[49m\u001b[38;5;241;43m=\u001b[39;49m\u001b[43msplit\u001b[49m\u001b[43m,\u001b[49m\u001b[43m \u001b[49m\u001b[43mbatch_size\u001b[49m\u001b[38;5;241;43m=\u001b[39;49m\u001b[38;5;241;43m100\u001b[39;49m\u001b[43m,\u001b[49m\u001b[43m \u001b[49m\u001b[43mtop_k\u001b[49m\u001b[38;5;241;43m=\u001b[39;49m\u001b[43mtop_k\u001b[49m\u001b[43m,\u001b[49m\u001b[43m \u001b[49m\u001b[43mretrieval_results_file\u001b[49m\u001b[38;5;241;43m=\u001b[39;49m\u001b[38;5;124;43mf\u001b[39;49m\u001b[38;5;124;43m\"\u001b[39;49m\u001b[38;5;124;43m./\u001b[39;49m\u001b[38;5;132;43;01m{\u001b[39;49;00m\u001b[43mretriever_name\u001b[49m\u001b[38;5;132;43;01m}\u001b[39;49;00m\u001b[38;5;124;43m/\u001b[39;49m\u001b[38;5;132;43;01m{\u001b[39;49;00m\u001b[43mdataset_name\u001b[49m\u001b[38;5;132;43;01m}\u001b[39;49;00m\u001b[38;5;124;43m_\u001b[39;49m\u001b[38;5;132;43;01m{\u001b[39;49;00m\u001b[43mtop_k\u001b[49m\u001b[38;5;132;43;01m}\u001b[39;49;00m\u001b[38;5;124;43m.jsonl\u001b[39;49m\u001b[38;5;124;43m\"\u001b[39;49m\u001b[43m)\u001b[49m)\n\u001b[1;32m      5\u001b[0m \u001b[38;5;28mprint\u001b[39m(results)\n\u001b[1;32m      6\u001b[0m \u001b[38;5;28;01mreturn\u001b[39;00m results\n",
      "File \u001b[0;32m~/carl/target/target_benchmark/evaluators/TARGET.py:513\u001b[0m, in \u001b[0;36mTARGET.run\u001b[0;34m(self, retriever, split, batch_size, top_k, retrieval_results_file, **kwargs)\u001b[0m\n\u001b[1;32m    510\u001b[0m         path_to_persistence\u001b[38;5;241m.\u001b[39mtouch()\n\u001b[1;32m    512\u001b[0m \u001b[38;5;66;03m# run the task!\u001b[39;00m\n\u001b[0;32m--> 513\u001b[0m task_result \u001b[38;5;241m=\u001b[39m \u001b[43mtask\u001b[49m\u001b[38;5;241;43m.\u001b[39;49m\u001b[43mtask_run\u001b[49m\u001b[43m(\u001b[49m\n\u001b[1;32m    514\u001b[0m \u001b[43m    \u001b[49m\u001b[43mretriever\u001b[49m\u001b[38;5;241;43m=\u001b[39;49m\u001b[43mretriever\u001b[49m\u001b[43m,\u001b[49m\n\u001b[1;32m    515\u001b[0m \u001b[43m    \u001b[49m\u001b[43mdataset_loaders\u001b[49m\u001b[38;5;241;43m=\u001b[39;49m\u001b[43mdataloaders_for_task\u001b[49m\u001b[43m,\u001b[49m\n\u001b[1;32m    516\u001b[0m \u001b[43m    \u001b[49m\u001b[43mlogger\u001b[49m\u001b[38;5;241;43m=\u001b[39;49m\u001b[38;5;28;43mself\u001b[39;49m\u001b[38;5;241;43m.\u001b[39;49m\u001b[43mlogger\u001b[49m\u001b[43m,\u001b[49m\n\u001b[1;32m    517\u001b[0m \u001b[43m    \u001b[49m\u001b[43mbatch_size\u001b[49m\u001b[38;5;241;43m=\u001b[39;49m\u001b[43mbatch_size\u001b[49m\u001b[43m,\u001b[49m\n\u001b[1;32m    518\u001b[0m \u001b[43m    \u001b[49m\u001b[43mtop_k\u001b[49m\u001b[38;5;241;43m=\u001b[39;49m\u001b[43mtop_k\u001b[49m\u001b[43m,\u001b[49m\n\u001b[1;32m    519\u001b[0m \u001b[43m    \u001b[49m\u001b[43mclient\u001b[49m\u001b[38;5;241;43m=\u001b[39;49m\u001b[43mclient\u001b[49m\u001b[43m,\u001b[49m\n\u001b[1;32m    520\u001b[0m \u001b[43m    \u001b[49m\u001b[43mpath_to_persistence\u001b[49m\u001b[38;5;241;43m=\u001b[39;49m\u001b[43mpath_to_persistence\u001b[49m\u001b[43m,\u001b[49m\n\u001b[1;32m    521\u001b[0m \u001b[43m    \u001b[49m\u001b[38;5;241;43m*\u001b[39;49m\u001b[38;5;241;43m*\u001b[39;49m\u001b[43mkwargs\u001b[49m\u001b[43m,\u001b[49m\n\u001b[1;32m    522\u001b[0m \u001b[43m\u001b[49m\u001b[43m)\u001b[49m\n\u001b[1;32m    524\u001b[0m \u001b[38;5;66;03m# add the embedding duration & sizes statistics to the results\u001b[39;00m\n\u001b[1;32m    525\u001b[0m \u001b[38;5;28;01mfor\u001b[39;00m dataset_name, results \u001b[38;5;129;01min\u001b[39;00m task_result\u001b[38;5;241m.\u001b[39mitems():\n",
      "File \u001b[0;32m~/carl/target/target_benchmark/tasks/AbsTask.py:223\u001b[0m, in \u001b[0;36mAbsTask.task_run\u001b[0;34m(self, retriever, dataset_loaders, logger, batch_size, top_k, path_to_persistence, **kwargs)\u001b[0m\n\u001b[1;32m    219\u001b[0m progress_bar \u001b[38;5;241m=\u001b[39m tqdm(\n\u001b[1;32m    220\u001b[0m     total\u001b[38;5;241m=\u001b[39mtotal_num_queries, desc\u001b[38;5;241m=\u001b[39m\u001b[38;5;124mf\u001b[39m\u001b[38;5;124m\"\u001b[39m\u001b[38;5;124mRetrieving Tables for \u001b[39m\u001b[38;5;132;01m{\u001b[39;00mdataset_name\u001b[38;5;132;01m}\u001b[39;00m\u001b[38;5;124m...\u001b[39m\u001b[38;5;124m\"\u001b[39m\n\u001b[1;32m    221\u001b[0m )\n\u001b[1;32m    222\u001b[0m \u001b[38;5;28;01mfor\u001b[39;00m query_batch \u001b[38;5;129;01min\u001b[39;00m dataset_loader\u001b[38;5;241m.\u001b[39mget_queries_for_task(batch_size):\n\u001b[0;32m--> 223\u001b[0m     retrieved_tables, duration \u001b[38;5;241m=\u001b[39m \u001b[38;5;28;43mself\u001b[39;49m\u001b[38;5;241;43m.\u001b[39;49m\u001b[43m_get_retrieval_results\u001b[49m\u001b[43m(\u001b[49m\n\u001b[1;32m    224\u001b[0m \u001b[43m        \u001b[49m\u001b[43mretriever\u001b[49m\u001b[43m,\u001b[49m\n\u001b[1;32m    225\u001b[0m \u001b[43m        \u001b[49m\u001b[43mquery_batch\u001b[49m\u001b[43m,\u001b[49m\n\u001b[1;32m    226\u001b[0m \u001b[43m        \u001b[49m\u001b[43mtable_id_to_table\u001b[49m\u001b[43m,\u001b[49m\n\u001b[1;32m    227\u001b[0m \u001b[43m        \u001b[49m\u001b[43mdataset_name\u001b[49m\u001b[43m,\u001b[49m\n\u001b[1;32m    228\u001b[0m \u001b[43m        \u001b[49m\u001b[43mtop_k\u001b[49m\u001b[43m,\u001b[49m\n\u001b[1;32m    229\u001b[0m \u001b[43m        \u001b[49m\u001b[38;5;241;43m*\u001b[39;49m\u001b[38;5;241;43m*\u001b[39;49m\u001b[43mkwargs\u001b[49m\u001b[43m,\u001b[49m\n\u001b[1;32m    230\u001b[0m \u001b[43m    \u001b[49m\u001b[43m)\u001b[49m\n\u001b[1;32m    231\u001b[0m     total_duration \u001b[38;5;241m+\u001b[39m\u001b[38;5;241m=\u001b[39m duration\n\u001b[1;32m    232\u001b[0m     \u001b[38;5;28mself\u001b[39m\u001b[38;5;241m.\u001b[39m_update_retrieval_metrics(query_batch, retrieved_tables)\n",
      "File \u001b[0;32m~/carl/target/target_benchmark/tasks/AbsTask.py:352\u001b[0m, in \u001b[0;36mAbsTask._get_retrieval_results\u001b[0;34m(self, retriever, query_batch, table_id_to_table, dataset_name, top_k, **kwargs)\u001b[0m\n\u001b[1;32m    350\u001b[0m duration \u001b[38;5;241m=\u001b[39m end_time \u001b[38;5;241m-\u001b[39m start_time\n\u001b[1;32m    351\u001b[0m \u001b[38;5;66;03m# complete the results data model objects with table strings\u001b[39;00m\n\u001b[0;32m--> 352\u001b[0m \u001b[38;5;28;43mself\u001b[39;49m\u001b[38;5;241;43m.\u001b[39;49m\u001b[43m_fill_retrieval_results_with_table_strs\u001b[49m\u001b[43m(\u001b[49m\n\u001b[1;32m    353\u001b[0m \u001b[43m    \u001b[49m\u001b[43mretrieval_results\u001b[49m\u001b[43m,\u001b[49m\u001b[43m \u001b[49m\u001b[43mtable_id_to_table\u001b[49m\n\u001b[1;32m    354\u001b[0m \u001b[43m\u001b[49m\u001b[43m)\u001b[49m\n\u001b[1;32m    355\u001b[0m \u001b[38;5;28;01mreturn\u001b[39;00m retrieval_results, duration\n",
      "File \u001b[0;32m~/carl/target/target_benchmark/tasks/AbsTask.py:304\u001b[0m, in \u001b[0;36mAbsTask._fill_retrieval_results_with_table_strs\u001b[0;34m(self, retrieval_results, table_id_to_table)\u001b[0m\n\u001b[1;32m    292\u001b[0m \u001b[38;5;250m\u001b[39m\u001b[38;5;124;03m\"\"\"\u001b[39;00m\n\u001b[1;32m    293\u001b[0m \u001b[38;5;124;03mFills the retrieval result data model objects with Markdown table strings based on the table IDs stored in each retrieval result.\u001b[39;00m\n\u001b[1;32m    294\u001b[0m \n\u001b[0;32m   (...)\u001b[0m\n\u001b[1;32m    300\u001b[0m \u001b[38;5;124;03m    None\u001b[39;00m\n\u001b[1;32m    301\u001b[0m \u001b[38;5;124;03m\"\"\"\u001b[39;00m\n\u001b[1;32m    302\u001b[0m \u001b[38;5;28;01mfor\u001b[39;00m result \u001b[38;5;129;01min\u001b[39;00m retrieval_results:\n\u001b[1;32m    303\u001b[0m     result\u001b[38;5;241m.\u001b[39mretrieved_tables \u001b[38;5;241m=\u001b[39m [\n\u001b[0;32m--> 304\u001b[0m         markdown_table_str(\u001b[43mtable_id_to_table\u001b[49m\u001b[43m[\u001b[49m\u001b[38;5;28;43mid\u001b[39;49m\u001b[43m]\u001b[49m)\n\u001b[1;32m    305\u001b[0m         \u001b[38;5;28;01mfor\u001b[39;00m \u001b[38;5;28mid\u001b[39m \u001b[38;5;129;01min\u001b[39;00m result\u001b[38;5;241m.\u001b[39mretrieval_results\n\u001b[1;32m    306\u001b[0m     ]\n",
      "\u001b[0;31mKeyError\u001b[0m: ('1424', '')"
     ]
    }
   ],
   "source": [
    "# fetaqa\n",
    "bm25_no_title_results_fetaqa_test = run_eval_for_top_ks(bm25_no_title, \"bm25_no_title\", top_ks, target_fetaqa, \"fetaqa\", \"test\")"
   ]
  },
  {
   "cell_type": "code",
   "execution_count": null,
   "metadata": {},
   "outputs": [
    {
     "data": {
      "text/plain": [
       "[{'Table Retrieval Task': {'fetaqa': TaskResultsDataModel(retrieval_performance=RetrievalPerformanceDataModel(k=1, accuracy=0.02895656515227159, precision=None, recall=None, retrieval_time=1.30831, avg_retrieval_time=0.00065), downstream_task_performance=DownstreamTaskPerformanceDataModel(task_name=None, scores=None), embedding_statistics=EmbeddingStatisticsDataModel(embedding_creation_duration=4.52735, avg_embedding_creation_duration=0.00226, embedding_size=0.00819, avg_embedding_size=0.0))}},\n",
       " {'Table Retrieval Task': {'fetaqa': TaskResultsDataModel(retrieval_performance=RetrievalPerformanceDataModel(k=5, accuracy=0.06090863704443335, precision=None, recall=None, retrieval_time=1.41867, avg_retrieval_time=0.00071), downstream_task_performance=DownstreamTaskPerformanceDataModel(task_name=None, scores=None), embedding_statistics=EmbeddingStatisticsDataModel(embedding_creation_duration=4.90114, avg_embedding_creation_duration=0.00245, embedding_size=0.0041, avg_embedding_size=0.0))}},\n",
       " {'Table Retrieval Task': {'fetaqa': TaskResultsDataModel(retrieval_performance=RetrievalPerformanceDataModel(k=25, accuracy=0.13030454318522217, precision=None, recall=None, retrieval_time=1.59272, avg_retrieval_time=0.0008), downstream_task_performance=DownstreamTaskPerformanceDataModel(task_name=None, scores=None), embedding_statistics=EmbeddingStatisticsDataModel(embedding_creation_duration=4.5114, avg_embedding_creation_duration=0.00225, embedding_size=0.00819, avg_embedding_size=0.0))}},\n",
       " {'Table Retrieval Task': {'fetaqa': TaskResultsDataModel(retrieval_performance=RetrievalPerformanceDataModel(k=50, accuracy=0.18172740888667, precision=None, recall=None, retrieval_time=1.78035, avg_retrieval_time=0.00089), downstream_task_performance=DownstreamTaskPerformanceDataModel(task_name=None, scores=None), embedding_statistics=EmbeddingStatisticsDataModel(embedding_creation_duration=4.55346, avg_embedding_creation_duration=0.00227, embedding_size=0.0041, avg_embedding_size=0.0))}}]"
      ]
     },
     "metadata": {},
     "output_type": "display_data"
    }
   ],
   "source": [
    "bm25_no_title_results_fetaqa_test"
   ]
  },
  {
   "cell_type": "code",
   "execution_count": null,
   "metadata": {},
   "outputs": [],
   "source": [
    "# ottqa\n",
    "bm25_no_title_results_ottqa_val = run_eval_for_top_ks(bm25_no_title, \"bm25_no_title\",top_ks, target_ottqa, \"ottqa\", \"validation\")"
   ]
  },
  {
   "cell_type": "code",
   "execution_count": null,
   "metadata": {},
   "outputs": [],
   "source": [
    "bm25_no_title_results_ottqa_val"
   ]
  },
  {
   "cell_type": "code",
   "execution_count": null,
   "metadata": {},
   "outputs": [],
   "source": [
    "# tabfact\n",
    "bm25_no_title_results_tabfact_test = run_eval_for_top_ks(bm25_no_title, \"bm25_no_title\",top_ks, target_tabfact, \"tabfact\", \"test\")\n"
   ]
  },
  {
   "cell_type": "code",
   "execution_count": null,
   "metadata": {},
   "outputs": [],
   "source": [
    "bm25_no_title_results_tabfact_test\n"
   ]
  },
  {
   "cell_type": "code",
   "execution_count": null,
   "metadata": {},
   "outputs": [],
   "source": [
    "# spider\n",
    "bm25_no_title_results_spider_test = run_eval_for_top_ks(bm25_no_title, \"bm25_no_title\",top_ks, target_spider, \"spider\", \"test\")"
   ]
  },
  {
   "cell_type": "code",
   "execution_count": null,
   "metadata": {},
   "outputs": [
    {
     "data": {
      "text/plain": [
       "[{'Table Retrieval Task': {'spider-test': TaskResultsDataModel(retrieval_performance=RetrievalPerformanceDataModel(k=1, accuracy=0.6348393106660456, precision=None, recall=None, retrieval_time=1.82872, avg_retrieval_time=0.00085), downstream_task_performance=DownstreamTaskPerformanceDataModel(task_name=None, scores=None), embedding_statistics=EmbeddingStatisticsDataModel(embedding_creation_duration=3.73522, avg_embedding_creation_duration=0.02075, embedding_size=-0.86016, avg_embedding_size=-0.00478))}},\n",
       " {'Table Retrieval Task': {'spider-test': TaskResultsDataModel(retrieval_performance=RetrievalPerformanceDataModel(k=5, accuracy=0.8304611085235212, precision=None, recall=None, retrieval_time=1.45708, avg_retrieval_time=0.00068), downstream_task_performance=DownstreamTaskPerformanceDataModel(task_name=None, scores=None), embedding_statistics=EmbeddingStatisticsDataModel(embedding_creation_duration=3.78847, avg_embedding_creation_duration=0.02105, embedding_size=0.0041, avg_embedding_size=2e-05))}},\n",
       " {'Table Retrieval Task': {'spider-test': TaskResultsDataModel(retrieval_performance=RetrievalPerformanceDataModel(k=25, accuracy=0.8737773637633908, precision=None, recall=None, retrieval_time=1.60808, avg_retrieval_time=0.00075), downstream_task_performance=DownstreamTaskPerformanceDataModel(task_name=None, scores=None), embedding_statistics=EmbeddingStatisticsDataModel(embedding_creation_duration=3.75677, avg_embedding_creation_duration=0.02087, embedding_size=0.00819, avg_embedding_size=5e-05))}},\n",
       " {'Table Retrieval Task': {'spider-test': TaskResultsDataModel(retrieval_performance=RetrievalPerformanceDataModel(k=50, accuracy=0.8779692594317653, precision=None, recall=None, retrieval_time=1.7037, avg_retrieval_time=0.00079), downstream_task_performance=DownstreamTaskPerformanceDataModel(task_name=None, scores=None), embedding_statistics=EmbeddingStatisticsDataModel(embedding_creation_duration=3.73507, avg_embedding_creation_duration=0.02075, embedding_size=0.0, avg_embedding_size=0.0))}}]"
      ]
     },
     "metadata": {},
     "output_type": "display_data"
    }
   ],
   "source": [
    "bm25_no_title_results_spider_test"
   ]
  },
  {
   "cell_type": "markdown",
   "metadata": {},
   "source": [
    "# TFIDF with Title"
   ]
  },
  {
   "cell_type": "code",
   "execution_count": 15,
   "metadata": {},
   "outputs": [],
   "source": [
    "from target_benchmark.retrievers import OTTQARetriever\n",
    "tfidf_with_title = OTTQARetriever(encoding=\"tfidf\", withtitle=True)"
   ]
  },
  {
   "cell_type": "code",
   "execution_count": null,
   "metadata": {},
   "outputs": [],
   "source": [
    "# fetaqa\n",
    "tfidf_with_title_results_fetaqa_test = run_eval_for_top_ks(tfidf_with_title, \"tfidf_with_title\",top_ks, target_fetaqa, \"fetaqa\", \"test\")"
   ]
  },
  {
   "cell_type": "code",
   "execution_count": 17,
   "metadata": {},
   "outputs": [
    {
     "data": {
      "text/plain": [
       "[{'Table Retrieval Task': {'fetaqa': TaskResultsDataModel(retrieval_performance=RetrievalPerformanceDataModel(k=1, accuracy=0.028457314028956564, precision=None, recall=None, retrieval_time=1.2944, avg_retrieval_time=0.00065), downstream_task_performance=DownstreamTaskPerformanceDataModel(task_name=None, scores=None), embedding_statistics=EmbeddingStatisticsDataModel(embedding_creation_duration=4.2983, avg_embedding_creation_duration=0.00215, embedding_size=205.09082, avg_embedding_size=0.10239))}},\n",
       " {'Table Retrieval Task': {'fetaqa': TaskResultsDataModel(retrieval_performance=RetrievalPerformanceDataModel(k=5, accuracy=0.0619071392910634, precision=None, recall=None, retrieval_time=1.42204, avg_retrieval_time=0.00071), downstream_task_performance=DownstreamTaskPerformanceDataModel(task_name=None, scores=None), embedding_statistics=EmbeddingStatisticsDataModel(embedding_creation_duration=4.00293, avg_embedding_creation_duration=0.002, embedding_size=0.0041, avg_embedding_size=0.0))}},\n",
       " {'Table Retrieval Task': {'fetaqa': TaskResultsDataModel(retrieval_performance=RetrievalPerformanceDataModel(k=10, accuracy=0.08287568647029456, precision=None, recall=None, retrieval_time=1.97116, avg_retrieval_time=0.00098), downstream_task_performance=DownstreamTaskPerformanceDataModel(task_name=None, scores=None), embedding_statistics=EmbeddingStatisticsDataModel(embedding_creation_duration=4.05708, avg_embedding_creation_duration=0.00203, embedding_size=0.0041, avg_embedding_size=0.0))}},\n",
       " {'Table Retrieval Task': {'fetaqa': TaskResultsDataModel(retrieval_performance=RetrievalPerformanceDataModel(k=25, accuracy=0.127309036445332, precision=None, recall=None, retrieval_time=1.62127, avg_retrieval_time=0.00081), downstream_task_performance=DownstreamTaskPerformanceDataModel(task_name=None, scores=None), embedding_statistics=EmbeddingStatisticsDataModel(embedding_creation_duration=4.04112, avg_embedding_creation_duration=0.00202, embedding_size=0.00819, avg_embedding_size=0.0))}},\n",
       " {'Table Retrieval Task': {'fetaqa': TaskResultsDataModel(retrieval_performance=RetrievalPerformanceDataModel(k=50, accuracy=0.17324013979031452, precision=None, recall=None, retrieval_time=1.7835, avg_retrieval_time=0.00089), downstream_task_performance=DownstreamTaskPerformanceDataModel(task_name=None, scores=None), embedding_statistics=EmbeddingStatisticsDataModel(embedding_creation_duration=4.05254, avg_embedding_creation_duration=0.00202, embedding_size=0.03277, avg_embedding_size=2e-05))}}]"
      ]
     },
     "execution_count": 17,
     "metadata": {},
     "output_type": "execute_result"
    }
   ],
   "source": [
    "tfidf_with_title_results_fetaqa_test"
   ]
  },
  {
   "cell_type": "code",
   "execution_count": null,
   "metadata": {},
   "outputs": [],
   "source": [
    "# ottqa\n",
    "tfidf_with_title_results_ottqa_val = run_eval_for_top_ks(tfidf_with_title, \"tfidf_with_title\", top_ks, target_ottqa, \"ottqa\", \"validation\")"
   ]
  },
  {
   "cell_type": "code",
   "execution_count": 19,
   "metadata": {},
   "outputs": [
    {
     "data": {
      "text/plain": [
       "[{'Table Retrieval Task': {'ottqa': TaskResultsDataModel(retrieval_performance=RetrievalPerformanceDataModel(k=1, accuracy=0.7276422764227642, precision=None, recall=None, retrieval_time=1.79671, avg_retrieval_time=0.00081), downstream_task_performance=DownstreamTaskPerformanceDataModel(task_name=None, scores=None), embedding_statistics=EmbeddingStatisticsDataModel(embedding_creation_duration=3.4141, avg_embedding_creation_duration=0.00433, embedding_size=0.4096, avg_embedding_size=0.00052))}},\n",
       " {'Table Retrieval Task': {'ottqa': TaskResultsDataModel(retrieval_performance=RetrievalPerformanceDataModel(k=5, accuracy=0.9164408310749774, precision=None, recall=None, retrieval_time=1.88023, avg_retrieval_time=0.00085), downstream_task_performance=DownstreamTaskPerformanceDataModel(task_name=None, scores=None), embedding_statistics=EmbeddingStatisticsDataModel(embedding_creation_duration=3.29093, avg_embedding_creation_duration=0.00417, embedding_size=0.0041, avg_embedding_size=1e-05))}},\n",
       " {'Table Retrieval Task': {'ottqa': TaskResultsDataModel(retrieval_performance=RetrievalPerformanceDataModel(k=10, accuracy=0.950316169828365, precision=None, recall=None, retrieval_time=2.03637, avg_retrieval_time=0.00092), downstream_task_performance=DownstreamTaskPerformanceDataModel(task_name=None, scores=None), embedding_statistics=EmbeddingStatisticsDataModel(embedding_creation_duration=3.30676, avg_embedding_creation_duration=0.00419, embedding_size=0.00819, avg_embedding_size=1e-05))}},\n",
       " {'Table Retrieval Task': {'ottqa': TaskResultsDataModel(retrieval_performance=RetrievalPerformanceDataModel(k=25, accuracy=0.971093044263776, precision=None, recall=None, retrieval_time=2.35148, avg_retrieval_time=0.00106), downstream_task_performance=DownstreamTaskPerformanceDataModel(task_name=None, scores=None), embedding_statistics=EmbeddingStatisticsDataModel(embedding_creation_duration=3.32499, avg_embedding_creation_duration=0.00421, embedding_size=0.0041, avg_embedding_size=1e-05))}},\n",
       " {'Table Retrieval Task': {'ottqa': TaskResultsDataModel(retrieval_performance=RetrievalPerformanceDataModel(k=50, accuracy=0.978319783197832, precision=None, recall=None, retrieval_time=2.81705, avg_retrieval_time=0.00127), downstream_task_performance=DownstreamTaskPerformanceDataModel(task_name=None, scores=None), embedding_statistics=EmbeddingStatisticsDataModel(embedding_creation_duration=3.31321, avg_embedding_creation_duration=0.0042, embedding_size=0.0041, avg_embedding_size=1e-05))}}]"
      ]
     },
     "execution_count": 19,
     "metadata": {},
     "output_type": "execute_result"
    }
   ],
   "source": [
    "tfidf_with_title_results_ottqa_val"
   ]
  },
  {
   "cell_type": "code",
   "execution_count": null,
   "metadata": {},
   "outputs": [],
   "source": [
    "# tabfact\n",
    "tfidf_with_title_results_tabfact_test = run_eval_for_top_ks(tfidf_with_title, \"tfidf_with_title\", top_ks, target_tabfact, \"tabfact\", \"test\")"
   ]
  },
  {
   "cell_type": "code",
   "execution_count": 21,
   "metadata": {},
   "outputs": [
    {
     "data": {
      "text/plain": [
       "[{'Table Retrieval Task': {'tabfact': TaskResultsDataModel(retrieval_performance=RetrievalPerformanceDataModel(k=1, accuracy=0.14257766648407544, precision=None, recall=None, retrieval_time=8.55206, avg_retrieval_time=0.00067), downstream_task_performance=DownstreamTaskPerformanceDataModel(task_name=None, scores=None), embedding_statistics=EmbeddingStatisticsDataModel(embedding_creation_duration=4.08156, avg_embedding_creation_duration=0.00241, embedding_size=2.81805, avg_embedding_size=0.00166))}},\n",
       " {'Table Retrieval Task': {'tabfact': TaskResultsDataModel(retrieval_performance=RetrievalPerformanceDataModel(k=5, accuracy=0.2662962673135613, precision=None, recall=None, retrieval_time=9.80528, avg_retrieval_time=0.00077), downstream_task_performance=DownstreamTaskPerformanceDataModel(task_name=None, scores=None), embedding_statistics=EmbeddingStatisticsDataModel(embedding_creation_duration=3.82019, avg_embedding_creation_duration=0.00225, embedding_size=0.00819, avg_embedding_size=0.0))}},\n",
       " {'Table Retrieval Task': {'tabfact': TaskResultsDataModel(retrieval_performance=RetrievalPerformanceDataModel(k=10, accuracy=0.3359417794819626, precision=None, recall=None, retrieval_time=9.91711, avg_retrieval_time=0.00078), downstream_task_performance=DownstreamTaskPerformanceDataModel(task_name=None, scores=None), embedding_statistics=EmbeddingStatisticsDataModel(embedding_creation_duration=3.86576, avg_embedding_creation_duration=0.00228, embedding_size=0.0041, avg_embedding_size=0.0))}},\n",
       " {'Table Retrieval Task': {'tabfact': TaskResultsDataModel(retrieval_performance=RetrievalPerformanceDataModel(k=25, accuracy=0.44041004773456455, precision=None, recall=None, retrieval_time=12.38966, avg_retrieval_time=0.00097), downstream_task_performance=DownstreamTaskPerformanceDataModel(task_name=None, scores=None), embedding_statistics=EmbeddingStatisticsDataModel(embedding_creation_duration=3.78447, avg_embedding_creation_duration=0.00223, embedding_size=0.0041, avg_embedding_size=0.0))}},\n",
       " {'Table Retrieval Task': {'tabfact': TaskResultsDataModel(retrieval_performance=RetrievalPerformanceDataModel(k=50, accuracy=0.534940136160889, precision=None, recall=None, retrieval_time=14.5588, avg_retrieval_time=0.00114), downstream_task_performance=DownstreamTaskPerformanceDataModel(task_name=None, scores=None), embedding_statistics=EmbeddingStatisticsDataModel(embedding_creation_duration=3.79606, avg_embedding_creation_duration=0.00224, embedding_size=0.0041, avg_embedding_size=0.0))}}]"
      ]
     },
     "execution_count": 21,
     "metadata": {},
     "output_type": "execute_result"
    }
   ],
   "source": [
    "tfidf_with_title_results_tabfact_test"
   ]
  },
  {
   "cell_type": "code",
   "execution_count": null,
   "metadata": {},
   "outputs": [],
   "source": [
    "# spider\n",
    "tfidf_with_title_results_spider_test = run_eval_for_top_ks(tfidf_with_title, \"tfidf_with_title\",top_ks, target_spider, \"spider\", \"test\")"
   ]
  },
  {
   "cell_type": "code",
   "execution_count": 23,
   "metadata": {},
   "outputs": [
    {
     "data": {
      "text/plain": [
       "[{'Table Retrieval Task': {'spider-test': TaskResultsDataModel(retrieval_performance=RetrievalPerformanceDataModel(k=1, accuracy=0.6222636236609222, precision=None, recall=None, retrieval_time=1.3334, avg_retrieval_time=0.00062), downstream_task_performance=DownstreamTaskPerformanceDataModel(task_name=None, scores=None), embedding_statistics=EmbeddingStatisticsDataModel(embedding_creation_duration=3.58084, avg_embedding_creation_duration=0.01989, embedding_size=8.03635, avg_embedding_size=0.04465))}},\n",
       " {'Table Retrieval Task': {'spider-test': TaskResultsDataModel(retrieval_performance=RetrievalPerformanceDataModel(k=5, accuracy=0.832324173265021, precision=None, recall=None, retrieval_time=1.40496, avg_retrieval_time=0.00065), downstream_task_performance=DownstreamTaskPerformanceDataModel(task_name=None, scores=None), embedding_statistics=EmbeddingStatisticsDataModel(embedding_creation_duration=3.20422, avg_embedding_creation_duration=0.0178, embedding_size=0.00819, avg_embedding_size=5e-05))}},\n",
       " {'Table Retrieval Task': {'spider-test': TaskResultsDataModel(retrieval_performance=RetrievalPerformanceDataModel(k=10, accuracy=0.856078248719143, precision=None, recall=None, retrieval_time=1.46818, avg_retrieval_time=0.00068), downstream_task_performance=DownstreamTaskPerformanceDataModel(task_name=None, scores=None), embedding_statistics=EmbeddingStatisticsDataModel(embedding_creation_duration=3.21731, avg_embedding_creation_duration=0.01787, embedding_size=0.0041, avg_embedding_size=2e-05))}},\n",
       " {'Table Retrieval Task': {'spider-test': TaskResultsDataModel(retrieval_performance=RetrievalPerformanceDataModel(k=25, accuracy=0.8737773637633908, precision=None, recall=None, retrieval_time=1.60557, avg_retrieval_time=0.00075), downstream_task_performance=DownstreamTaskPerformanceDataModel(task_name=None, scores=None), embedding_statistics=EmbeddingStatisticsDataModel(embedding_creation_duration=3.24987, avg_embedding_creation_duration=0.01805, embedding_size=0.0, avg_embedding_size=0.0))}},\n",
       " {'Table Retrieval Task': {'spider-test': TaskResultsDataModel(retrieval_performance=RetrievalPerformanceDataModel(k=50, accuracy=0.8789007918025151, precision=None, recall=None, retrieval_time=1.67033, avg_retrieval_time=0.00078), downstream_task_performance=DownstreamTaskPerformanceDataModel(task_name=None, scores=None), embedding_statistics=EmbeddingStatisticsDataModel(embedding_creation_duration=3.24054, avg_embedding_creation_duration=0.018, embedding_size=0.00819, avg_embedding_size=5e-05))}}]"
      ]
     },
     "execution_count": 23,
     "metadata": {},
     "output_type": "execute_result"
    }
   ],
   "source": [
    "tfidf_with_title_results_spider_test"
   ]
  },
  {
   "cell_type": "code",
   "execution_count": null,
   "metadata": {},
   "outputs": [],
   "source": []
  }
 ],
 "metadata": {
  "kernelspec": {
   "display_name": "target",
   "language": "python",
   "name": "python3"
  },
  "language_info": {
   "codemirror_mode": {
    "name": "ipython",
    "version": 3
   },
   "file_extension": ".py",
   "mimetype": "text/x-python",
   "name": "python",
   "nbconvert_exporter": "python",
   "pygments_lexer": "ipython3",
   "version": "3.12.2"
  }
 },
 "nbformat": 4,
 "nbformat_minor": 2
}
